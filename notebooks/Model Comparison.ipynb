{
 "cells": [
  {
   "cell_type": "code",
   "execution_count": 30,
   "id": "a6d83624-fcf9-4937-b42b-e6ff137bf28f",
   "metadata": {},
   "outputs": [],
   "source": [
    "import pandas as pd \n",
    "import numpy as np \n",
    "import joblib\n",
    "from datetime import datetime\n",
    "from sklearn.model_selection import train_test_split,StratifiedKFold\n",
    "from sklearn.linear_model import LogisticRegression\n",
    "from sklearn.ensemble import RandomForestClassifier,AdaBoostClassifier\n",
    "from xgboost import XGBClassifier\n",
    "from sklearn.neighbors import KNeighborsClassifier\n",
    "from sklearn.svm import SVC\n",
    "from lightgbm import LGBMClassifier\n",
    "from sklearn import metrics\n",
    "collection_of_model = [LogisticRegression(),RandomForestClassifier(),\n",
    "                       AdaBoostClassifier(),\n",
    "                       XGBClassifier(),KNeighborsClassifier(),LGBMClassifier()]\n",
    "\n",
    "TARGET = 'SeriousDlqin2yrs'\n",
    "TRAINING_PATH = \"../data/interim/interim_training_forth_exp_tuned.csv\""
   ]
  },
  {
   "cell_type": "code",
   "execution_count": 31,
   "id": "df2fd029-87ec-463a-be2f-be0c5b5dd772",
   "metadata": {},
   "outputs": [],
   "source": [
    "#read data \n",
    "training_data = pd.read_csv(TRAINING_PATH)\n",
    "#split data into X and Y\n",
    "X = training_data.drop(TARGET,axis=1)\n",
    "Y = training_data[TARGET]"
   ]
  },
  {
   "cell_type": "code",
   "execution_count": 32,
   "id": "d8ec7845-280d-45b2-8f09-8a26f0875c7f",
   "metadata": {},
   "outputs": [],
   "source": [
    "#define cross validation \n",
    "\n",
    "fold = StratifiedKFold(5)\n",
    "def begin_cross_validation(X,Y,model,fold=fold) : \n",
    "    scoring_dict = {'auc':[]}\n",
    "    for train_idx,test_idx in fold.split(X,Y) : \n",
    "        train_x,val_x = X.iloc[train_idx],X.iloc[test_idx]\n",
    "        train_y,val_y = Y.iloc[train_idx],Y.iloc[test_idx]\n",
    "        #train model \n",
    "\n",
    "        model.fit(train_x,train_y)\n",
    "        y_pred = model.predict_proba(val_x)\n",
    "        #calculate metrics \n",
    "        scoring_dict[\"auc\"].append(metrics.roc_auc_score(val_y, y_pred[:, 1]))\n",
    "\n",
    "\n",
    "    #print the scoring \n",
    "    print(f'''Scoring: AUC :{np.mean(scoring_dict['auc'])}\n",
    "     ''')\n",
    "    return np.mean(scoring_dict['auc'])"
   ]
  },
  {
   "cell_type": "code",
   "execution_count": 6,
   "id": "315477bc-ff82-4c75-ba82-450b2331f9f3",
   "metadata": {},
   "outputs": [],
   "source": [
    "begin_cross_validation"
   ]
  },
  {
   "cell_type": "code",
   "execution_count": 7,
   "id": "b9b8b626-5e4f-42a2-957b-3bf934e9a1a0",
   "metadata": {},
   "outputs": [
    {
     "name": "stdout",
     "output_type": "stream",
     "text": [
      "LogisticRegression\n",
      "========\n"
     ]
    },
    {
     "name": "stderr",
     "output_type": "stream",
     "text": [
      "/home/fakhri/pacmann_project/project_env/lib/python3.8/site-packages/sklearn/linear_model/_logistic.py:458: ConvergenceWarning: lbfgs failed to converge (status=1):\n",
      "STOP: TOTAL NO. of ITERATIONS REACHED LIMIT.\n",
      "\n",
      "Increase the number of iterations (max_iter) or scale the data as shown in:\n",
      "    https://scikit-learn.org/stable/modules/preprocessing.html\n",
      "Please also refer to the documentation for alternative solver options:\n",
      "    https://scikit-learn.org/stable/modules/linear_model.html#logistic-regression\n",
      "  n_iter_i = _check_optimize_result(\n",
      "/home/fakhri/pacmann_project/project_env/lib/python3.8/site-packages/sklearn/linear_model/_logistic.py:458: ConvergenceWarning: lbfgs failed to converge (status=1):\n",
      "STOP: TOTAL NO. of ITERATIONS REACHED LIMIT.\n",
      "\n",
      "Increase the number of iterations (max_iter) or scale the data as shown in:\n",
      "    https://scikit-learn.org/stable/modules/preprocessing.html\n",
      "Please also refer to the documentation for alternative solver options:\n",
      "    https://scikit-learn.org/stable/modules/linear_model.html#logistic-regression\n",
      "  n_iter_i = _check_optimize_result(\n",
      "/home/fakhri/pacmann_project/project_env/lib/python3.8/site-packages/sklearn/linear_model/_logistic.py:458: ConvergenceWarning: lbfgs failed to converge (status=1):\n",
      "STOP: TOTAL NO. of ITERATIONS REACHED LIMIT.\n",
      "\n",
      "Increase the number of iterations (max_iter) or scale the data as shown in:\n",
      "    https://scikit-learn.org/stable/modules/preprocessing.html\n",
      "Please also refer to the documentation for alternative solver options:\n",
      "    https://scikit-learn.org/stable/modules/linear_model.html#logistic-regression\n",
      "  n_iter_i = _check_optimize_result(\n",
      "/home/fakhri/pacmann_project/project_env/lib/python3.8/site-packages/sklearn/linear_model/_logistic.py:458: ConvergenceWarning: lbfgs failed to converge (status=1):\n",
      "STOP: TOTAL NO. of ITERATIONS REACHED LIMIT.\n",
      "\n",
      "Increase the number of iterations (max_iter) or scale the data as shown in:\n",
      "    https://scikit-learn.org/stable/modules/preprocessing.html\n",
      "Please also refer to the documentation for alternative solver options:\n",
      "    https://scikit-learn.org/stable/modules/linear_model.html#logistic-regression\n",
      "  n_iter_i = _check_optimize_result(\n",
      "/home/fakhri/pacmann_project/project_env/lib/python3.8/site-packages/sklearn/linear_model/_logistic.py:458: ConvergenceWarning: lbfgs failed to converge (status=1):\n",
      "STOP: TOTAL NO. of ITERATIONS REACHED LIMIT.\n",
      "\n",
      "Increase the number of iterations (max_iter) or scale the data as shown in:\n",
      "    https://scikit-learn.org/stable/modules/preprocessing.html\n",
      "Please also refer to the documentation for alternative solver options:\n",
      "    https://scikit-learn.org/stable/modules/linear_model.html#logistic-regression\n",
      "  n_iter_i = _check_optimize_result(\n"
     ]
    },
    {
     "name": "stdout",
     "output_type": "stream",
     "text": [
      "Scoring: AUC :0.7404727184910505\n",
      "     \n",
      "RandomForestClassifier\n",
      "========\n",
      "Scoring: AUC :0.8400384485751395\n",
      "     \n",
      "AdaBoostClassifier\n",
      "========\n",
      "Scoring: AUC :0.8589782322542809\n",
      "     \n",
      "XGBClassifier\n",
      "========\n",
      "Scoring: AUC :0.8580848211772993\n",
      "     \n",
      "KNeighborsClassifier\n",
      "========\n",
      "Scoring: AUC :0.690178270390196\n",
      "     \n",
      "LGBMClassifier\n",
      "========\n",
      "Scoring: AUC :0.8645873614338461\n",
      "     \n"
     ]
    }
   ],
   "source": [
    "\n",
    "for model in collection_of_model : \n",
    "    model_name = type(model).__name__\n",
    "    print(model_name)\n",
    "    print('========')\n",
    "    start_time = datetime.now()\n",
    "    container_dict[model_name] = {}\n",
    "    auc_cv = begin_cross_validation(X,Y,model=model)\n",
    "    end_time = datetime.now()\n",
    "    fit_time = end_time-start_time\n",
    "    container_dict[model_name]['time']=fit_time\n",
    "    container_dict[model_name]['auc']=auc_cv"
   ]
  },
  {
   "cell_type": "code",
   "execution_count": 8,
   "id": "97cd5e0f-fe81-4a3b-bbdf-8b5fded66ca7",
   "metadata": {},
   "outputs": [
    {
     "data": {
      "text/plain": [
       "['model_comparison.joblib']"
      ]
     },
     "execution_count": 8,
     "metadata": {},
     "output_type": "execute_result"
    }
   ],
   "source": [
    "joblib.dump(container_dict,\"model_comparison.joblib\")"
   ]
  },
  {
   "cell_type": "code",
   "execution_count": 9,
   "id": "669e734e-82c9-4f71-bd53-1277cc5d1271",
   "metadata": {},
   "outputs": [],
   "source": [
    "training_records = joblib.load('model_comparison.joblib')"
   ]
  },
  {
   "cell_type": "code",
   "execution_count": 19,
   "id": "3a0bffa0-1720-4422-93ce-9f80a3fe1a8a",
   "metadata": {},
   "outputs": [],
   "source": [
    "recap = pd.DataFrame(training_records).T.reset_index()"
   ]
  },
  {
   "cell_type": "code",
   "execution_count": 20,
   "id": "d950e221-7823-4fab-b199-1f69bd8d7b38",
   "metadata": {},
   "outputs": [],
   "source": [
    "recap = recap.rename(columns={'index':'model'})"
   ]
  },
  {
   "cell_type": "code",
   "execution_count": 21,
   "id": "09c24dec-32bb-48fb-a720-f0a51086af13",
   "metadata": {},
   "outputs": [
    {
     "data": {
      "text/html": [
       "<style type=\"text/css\">\n",
       "#T_a524d_row5_col2 {\n",
       "  background-color: green;\n",
       "}\n",
       "</style>\n",
       "<table id=\"T_a524d\">\n",
       "  <thead>\n",
       "    <tr>\n",
       "      <th class=\"blank level0\" >&nbsp;</th>\n",
       "      <th id=\"T_a524d_level0_col0\" class=\"col_heading level0 col0\" >model</th>\n",
       "      <th id=\"T_a524d_level0_col1\" class=\"col_heading level0 col1\" >time</th>\n",
       "      <th id=\"T_a524d_level0_col2\" class=\"col_heading level0 col2\" >auc</th>\n",
       "    </tr>\n",
       "  </thead>\n",
       "  <tbody>\n",
       "    <tr>\n",
       "      <th id=\"T_a524d_level0_row0\" class=\"row_heading level0 row0\" >0</th>\n",
       "      <td id=\"T_a524d_row0_col0\" class=\"data row0 col0\" >LogisticRegression</td>\n",
       "      <td id=\"T_a524d_row0_col1\" class=\"data row0 col1\" >0 days 00:00:02.613927</td>\n",
       "      <td id=\"T_a524d_row0_col2\" class=\"data row0 col2\" >0.740473</td>\n",
       "    </tr>\n",
       "    <tr>\n",
       "      <th id=\"T_a524d_level0_row1\" class=\"row_heading level0 row1\" >1</th>\n",
       "      <td id=\"T_a524d_row1_col0\" class=\"data row1 col0\" >RandomForestClassifier</td>\n",
       "      <td id=\"T_a524d_row1_col1\" class=\"data row1 col1\" >0 days 00:01:40.210478</td>\n",
       "      <td id=\"T_a524d_row1_col2\" class=\"data row1 col2\" >0.840038</td>\n",
       "    </tr>\n",
       "    <tr>\n",
       "      <th id=\"T_a524d_level0_row2\" class=\"row_heading level0 row2\" >2</th>\n",
       "      <td id=\"T_a524d_row2_col0\" class=\"data row2 col0\" >AdaBoostClassifier</td>\n",
       "      <td id=\"T_a524d_row2_col1\" class=\"data row2 col1\" >0 days 00:00:19.730037</td>\n",
       "      <td id=\"T_a524d_row2_col2\" class=\"data row2 col2\" >0.858978</td>\n",
       "    </tr>\n",
       "    <tr>\n",
       "      <th id=\"T_a524d_level0_row3\" class=\"row_heading level0 row3\" >3</th>\n",
       "      <td id=\"T_a524d_row3_col0\" class=\"data row3 col0\" >XGBClassifier</td>\n",
       "      <td id=\"T_a524d_row3_col1\" class=\"data row3 col1\" >0 days 00:00:20.310368</td>\n",
       "      <td id=\"T_a524d_row3_col2\" class=\"data row3 col2\" >0.858085</td>\n",
       "    </tr>\n",
       "    <tr>\n",
       "      <th id=\"T_a524d_level0_row4\" class=\"row_heading level0 row4\" >4</th>\n",
       "      <td id=\"T_a524d_row4_col0\" class=\"data row4 col0\" >KNeighborsClassifier</td>\n",
       "      <td id=\"T_a524d_row4_col1\" class=\"data row4 col1\" >0 days 00:00:22.466657</td>\n",
       "      <td id=\"T_a524d_row4_col2\" class=\"data row4 col2\" >0.690178</td>\n",
       "    </tr>\n",
       "    <tr>\n",
       "      <th id=\"T_a524d_level0_row5\" class=\"row_heading level0 row5\" >5</th>\n",
       "      <td id=\"T_a524d_row5_col0\" class=\"data row5 col0\" >LGBMClassifier</td>\n",
       "      <td id=\"T_a524d_row5_col1\" class=\"data row5 col1\" >0 days 00:00:01.906390</td>\n",
       "      <td id=\"T_a524d_row5_col2\" class=\"data row5 col2\" >0.864587</td>\n",
       "    </tr>\n",
       "  </tbody>\n",
       "</table>\n"
      ],
      "text/plain": [
       "<pandas.io.formats.style.Styler at 0x7f10203eccd0>"
      ]
     },
     "execution_count": 21,
     "metadata": {},
     "output_type": "execute_result"
    }
   ],
   "source": [
    "recap.style.highlight_max(color = 'green',subset='auc')"
   ]
  },
  {
   "cell_type": "code",
   "execution_count": 22,
   "id": "5eb17168-9cd8-40d6-bc02-f8a7a4565020",
   "metadata": {},
   "outputs": [
    {
     "data": {
      "text/html": [
       "<style type=\"text/css\">\n",
       "#T_ad8e5_row5_col1 {\n",
       "  background-color: green;\n",
       "}\n",
       "</style>\n",
       "<table id=\"T_ad8e5\">\n",
       "  <thead>\n",
       "    <tr>\n",
       "      <th class=\"blank level0\" >&nbsp;</th>\n",
       "      <th id=\"T_ad8e5_level0_col0\" class=\"col_heading level0 col0\" >model</th>\n",
       "      <th id=\"T_ad8e5_level0_col1\" class=\"col_heading level0 col1\" >time</th>\n",
       "      <th id=\"T_ad8e5_level0_col2\" class=\"col_heading level0 col2\" >auc</th>\n",
       "    </tr>\n",
       "  </thead>\n",
       "  <tbody>\n",
       "    <tr>\n",
       "      <th id=\"T_ad8e5_level0_row0\" class=\"row_heading level0 row0\" >0</th>\n",
       "      <td id=\"T_ad8e5_row0_col0\" class=\"data row0 col0\" >LogisticRegression</td>\n",
       "      <td id=\"T_ad8e5_row0_col1\" class=\"data row0 col1\" >0 days 00:00:02.613927</td>\n",
       "      <td id=\"T_ad8e5_row0_col2\" class=\"data row0 col2\" >0.740473</td>\n",
       "    </tr>\n",
       "    <tr>\n",
       "      <th id=\"T_ad8e5_level0_row1\" class=\"row_heading level0 row1\" >1</th>\n",
       "      <td id=\"T_ad8e5_row1_col0\" class=\"data row1 col0\" >RandomForestClassifier</td>\n",
       "      <td id=\"T_ad8e5_row1_col1\" class=\"data row1 col1\" >0 days 00:01:40.210478</td>\n",
       "      <td id=\"T_ad8e5_row1_col2\" class=\"data row1 col2\" >0.840038</td>\n",
       "    </tr>\n",
       "    <tr>\n",
       "      <th id=\"T_ad8e5_level0_row2\" class=\"row_heading level0 row2\" >2</th>\n",
       "      <td id=\"T_ad8e5_row2_col0\" class=\"data row2 col0\" >AdaBoostClassifier</td>\n",
       "      <td id=\"T_ad8e5_row2_col1\" class=\"data row2 col1\" >0 days 00:00:19.730037</td>\n",
       "      <td id=\"T_ad8e5_row2_col2\" class=\"data row2 col2\" >0.858978</td>\n",
       "    </tr>\n",
       "    <tr>\n",
       "      <th id=\"T_ad8e5_level0_row3\" class=\"row_heading level0 row3\" >3</th>\n",
       "      <td id=\"T_ad8e5_row3_col0\" class=\"data row3 col0\" >XGBClassifier</td>\n",
       "      <td id=\"T_ad8e5_row3_col1\" class=\"data row3 col1\" >0 days 00:00:20.310368</td>\n",
       "      <td id=\"T_ad8e5_row3_col2\" class=\"data row3 col2\" >0.858085</td>\n",
       "    </tr>\n",
       "    <tr>\n",
       "      <th id=\"T_ad8e5_level0_row4\" class=\"row_heading level0 row4\" >4</th>\n",
       "      <td id=\"T_ad8e5_row4_col0\" class=\"data row4 col0\" >KNeighborsClassifier</td>\n",
       "      <td id=\"T_ad8e5_row4_col1\" class=\"data row4 col1\" >0 days 00:00:22.466657</td>\n",
       "      <td id=\"T_ad8e5_row4_col2\" class=\"data row4 col2\" >0.690178</td>\n",
       "    </tr>\n",
       "    <tr>\n",
       "      <th id=\"T_ad8e5_level0_row5\" class=\"row_heading level0 row5\" >5</th>\n",
       "      <td id=\"T_ad8e5_row5_col0\" class=\"data row5 col0\" >LGBMClassifier</td>\n",
       "      <td id=\"T_ad8e5_row5_col1\" class=\"data row5 col1\" >0 days 00:00:01.906390</td>\n",
       "      <td id=\"T_ad8e5_row5_col2\" class=\"data row5 col2\" >0.864587</td>\n",
       "    </tr>\n",
       "  </tbody>\n",
       "</table>\n"
      ],
      "text/plain": [
       "<pandas.io.formats.style.Styler at 0x7f107bf1eb20>"
      ]
     },
     "execution_count": 22,
     "metadata": {},
     "output_type": "execute_result"
    }
   ],
   "source": [
    "recap.style.highlight_min(color = 'green',subset='time')"
   ]
  },
  {
   "cell_type": "code",
   "execution_count": 23,
   "id": "3652c3c8-758e-47a3-aacb-61680ca7a730",
   "metadata": {},
   "outputs": [
    {
     "ename": "KeyError",
     "evalue": "'auc'",
     "output_type": "error",
     "traceback": [
      "\u001b[0;31m---------------------------------------------------------------------------\u001b[0m",
      "\u001b[0;31mKeyError\u001b[0m                                  Traceback (most recent call last)",
      "File \u001b[0;32m~/pacmann_project/project_env/lib/python3.8/site-packages/pandas/core/indexes/base.py:3803\u001b[0m, in \u001b[0;36mIndex.get_loc\u001b[0;34m(self, key, method, tolerance)\u001b[0m\n\u001b[1;32m   3802\u001b[0m \u001b[38;5;28;01mtry\u001b[39;00m:\n\u001b[0;32m-> 3803\u001b[0m     \u001b[38;5;28;01mreturn\u001b[39;00m \u001b[38;5;28;43mself\u001b[39;49m\u001b[38;5;241;43m.\u001b[39;49m\u001b[43m_engine\u001b[49m\u001b[38;5;241;43m.\u001b[39;49m\u001b[43mget_loc\u001b[49m\u001b[43m(\u001b[49m\u001b[43mcasted_key\u001b[49m\u001b[43m)\u001b[49m\n\u001b[1;32m   3804\u001b[0m \u001b[38;5;28;01mexcept\u001b[39;00m \u001b[38;5;167;01mKeyError\u001b[39;00m \u001b[38;5;28;01mas\u001b[39;00m err:\n",
      "File \u001b[0;32m~/pacmann_project/project_env/lib/python3.8/site-packages/pandas/_libs/index.pyx:138\u001b[0m, in \u001b[0;36mpandas._libs.index.IndexEngine.get_loc\u001b[0;34m()\u001b[0m\n",
      "File \u001b[0;32m~/pacmann_project/project_env/lib/python3.8/site-packages/pandas/_libs/index.pyx:146\u001b[0m, in \u001b[0;36mpandas._libs.index.IndexEngine.get_loc\u001b[0;34m()\u001b[0m\n",
      "File \u001b[0;32mpandas/_libs/index_class_helper.pxi:49\u001b[0m, in \u001b[0;36mpandas._libs.index.Int64Engine._check_type\u001b[0;34m()\u001b[0m\n",
      "\u001b[0;31mKeyError\u001b[0m: 'auc'",
      "\nThe above exception was the direct cause of the following exception:\n",
      "\u001b[0;31mKeyError\u001b[0m                                  Traceback (most recent call last)",
      "Cell \u001b[0;32mIn[23], line 2\u001b[0m\n\u001b[1;32m      1\u001b[0m filter_ \u001b[38;5;241m=\u001b[39m (recap[\u001b[38;5;124m'\u001b[39m\u001b[38;5;124mindex\u001b[39m\u001b[38;5;124m'\u001b[39m]\u001b[38;5;241m==\u001b[39m\u001b[38;5;124m\"\u001b[39m\u001b[38;5;124mLogisticRegression\u001b[39m\u001b[38;5;124m\"\u001b[39m) \n\u001b[0;32m----> 2\u001b[0m np\u001b[38;5;241m.\u001b[39mmean(\u001b[43mrecap\u001b[49m\u001b[38;5;241;43m.\u001b[39;49m\u001b[43mloc\u001b[49m\u001b[43m[\u001b[49m\u001b[43mfilter_\u001b[49m\u001b[43m,\u001b[49m\u001b[38;5;124;43m'\u001b[39;49m\u001b[38;5;124;43mauc\u001b[39;49m\u001b[38;5;124;43m'\u001b[39;49m\u001b[43m]\u001b[49m\u001b[43m[\u001b[49m\u001b[38;5;124;43m'\u001b[39;49m\u001b[38;5;124;43mauc\u001b[39;49m\u001b[38;5;124;43m'\u001b[39;49m\u001b[43m]\u001b[49m)\n",
      "File \u001b[0;32m~/pacmann_project/project_env/lib/python3.8/site-packages/pandas/core/series.py:981\u001b[0m, in \u001b[0;36mSeries.__getitem__\u001b[0;34m(self, key)\u001b[0m\n\u001b[1;32m    978\u001b[0m     \u001b[38;5;28;01mreturn\u001b[39;00m \u001b[38;5;28mself\u001b[39m\u001b[38;5;241m.\u001b[39m_values[key]\n\u001b[1;32m    980\u001b[0m \u001b[38;5;28;01melif\u001b[39;00m key_is_scalar:\n\u001b[0;32m--> 981\u001b[0m     \u001b[38;5;28;01mreturn\u001b[39;00m \u001b[38;5;28;43mself\u001b[39;49m\u001b[38;5;241;43m.\u001b[39;49m\u001b[43m_get_value\u001b[49m\u001b[43m(\u001b[49m\u001b[43mkey\u001b[49m\u001b[43m)\u001b[49m\n\u001b[1;32m    983\u001b[0m \u001b[38;5;28;01mif\u001b[39;00m is_hashable(key):\n\u001b[1;32m    984\u001b[0m     \u001b[38;5;66;03m# Otherwise index.get_value will raise InvalidIndexError\u001b[39;00m\n\u001b[1;32m    985\u001b[0m     \u001b[38;5;28;01mtry\u001b[39;00m:\n\u001b[1;32m    986\u001b[0m         \u001b[38;5;66;03m# For labels that don't resolve as scalars like tuples and frozensets\u001b[39;00m\n",
      "File \u001b[0;32m~/pacmann_project/project_env/lib/python3.8/site-packages/pandas/core/series.py:1089\u001b[0m, in \u001b[0;36mSeries._get_value\u001b[0;34m(self, label, takeable)\u001b[0m\n\u001b[1;32m   1086\u001b[0m     \u001b[38;5;28;01mreturn\u001b[39;00m \u001b[38;5;28mself\u001b[39m\u001b[38;5;241m.\u001b[39m_values[label]\n\u001b[1;32m   1088\u001b[0m \u001b[38;5;66;03m# Similar to Index.get_value, but we do not fall back to positional\u001b[39;00m\n\u001b[0;32m-> 1089\u001b[0m loc \u001b[38;5;241m=\u001b[39m \u001b[38;5;28;43mself\u001b[39;49m\u001b[38;5;241;43m.\u001b[39;49m\u001b[43mindex\u001b[49m\u001b[38;5;241;43m.\u001b[39;49m\u001b[43mget_loc\u001b[49m\u001b[43m(\u001b[49m\u001b[43mlabel\u001b[49m\u001b[43m)\u001b[49m\n\u001b[1;32m   1090\u001b[0m \u001b[38;5;28;01mreturn\u001b[39;00m \u001b[38;5;28mself\u001b[39m\u001b[38;5;241m.\u001b[39mindex\u001b[38;5;241m.\u001b[39m_get_values_for_loc(\u001b[38;5;28mself\u001b[39m, loc, label)\n",
      "File \u001b[0;32m~/pacmann_project/project_env/lib/python3.8/site-packages/pandas/core/indexes/base.py:3805\u001b[0m, in \u001b[0;36mIndex.get_loc\u001b[0;34m(self, key, method, tolerance)\u001b[0m\n\u001b[1;32m   3803\u001b[0m     \u001b[38;5;28;01mreturn\u001b[39;00m \u001b[38;5;28mself\u001b[39m\u001b[38;5;241m.\u001b[39m_engine\u001b[38;5;241m.\u001b[39mget_loc(casted_key)\n\u001b[1;32m   3804\u001b[0m \u001b[38;5;28;01mexcept\u001b[39;00m \u001b[38;5;167;01mKeyError\u001b[39;00m \u001b[38;5;28;01mas\u001b[39;00m err:\n\u001b[0;32m-> 3805\u001b[0m     \u001b[38;5;28;01mraise\u001b[39;00m \u001b[38;5;167;01mKeyError\u001b[39;00m(key) \u001b[38;5;28;01mfrom\u001b[39;00m \u001b[38;5;21;01merr\u001b[39;00m\n\u001b[1;32m   3806\u001b[0m \u001b[38;5;28;01mexcept\u001b[39;00m \u001b[38;5;167;01mTypeError\u001b[39;00m:\n\u001b[1;32m   3807\u001b[0m     \u001b[38;5;66;03m# If we have a listlike key, _check_indexing_error will raise\u001b[39;00m\n\u001b[1;32m   3808\u001b[0m     \u001b[38;5;66;03m#  InvalidIndexError. Otherwise we fall through and re-raise\u001b[39;00m\n\u001b[1;32m   3809\u001b[0m     \u001b[38;5;66;03m#  the TypeError.\u001b[39;00m\n\u001b[1;32m   3810\u001b[0m     \u001b[38;5;28mself\u001b[39m\u001b[38;5;241m.\u001b[39m_check_indexing_error(key)\n",
      "\u001b[0;31mKeyError\u001b[0m: 'auc'"
     ]
    }
   ],
   "source": [
    "filter_ = (recap['index']==\"LogisticRegression\") \n",
    "np.mean(recap.loc[filter_,'auc']['auc'])"
   ]
  },
  {
   "cell_type": "code",
   "execution_count": 25,
   "id": "29f116df-e3c8-400f-b3de-2e2a4f8b80c4",
   "metadata": {},
   "outputs": [
    {
     "name": "stdout",
     "output_type": "stream",
     "text": [
      "[LightGBM] [Warning] lambda_l1 is set=286110.7012718954, reg_alpha=0.0 will be ignored. Current value: lambda_l1=286110.7012718954\n",
      "[LightGBM] [Warning] feature_fraction is set=0.5332191589953184, colsample_bytree=1.0 will be ignored. Current value: feature_fraction=0.5332191589953184\n",
      "[LightGBM] [Warning] bagging_freq is set=3, subsample_freq=0 will be ignored. Current value: bagging_freq=3\n",
      "[LightGBM] [Warning] lambda_l2 is set=0.6807987664418726, reg_lambda=0.0 will be ignored. Current value: lambda_l2=0.6807987664418726\n",
      "[LightGBM] [Warning] bagging_fraction is set=0.9238892410770332, subsample=1.0 will be ignored. Current value: bagging_fraction=0.9238892410770332\n"
     ]
    }
   ],
   "source": [
    "params = {  \"lambda_l1\": 2.8611070127189538e05 ,\n",
    "  \"lambda_l2\": 0.6807987664418726 ,\n",
    "  \"num_leaves\": 9 ,\n",
    "  \"max_depth\": 19 ,\n",
    "  \"feature_fraction\": 0.5332191589953184 ,\n",
    "  \"bagging_fraction\": 0.9238892410770332 ,\n",
    "  \"bagging_freq\": 3 ,\n",
    "  \"min_child_samples\": 73,\n",
    "         }\n",
    "\n",
    "\n",
    "\n",
    "clf_model = LGBMClassifier(**params).fit(X,Y)"
   ]
  },
  {
   "cell_type": "code",
   "execution_count": null,
   "id": "2b0d773b-883c-414e-9776-320b20951393",
   "metadata": {},
   "outputs": [],
   "source": []
  }
 ],
 "metadata": {
  "kernelspec": {
   "display_name": "Python 3 (ipykernel)",
   "language": "python",
   "name": "python3"
  },
  "language_info": {
   "codemirror_mode": {
    "name": "ipython",
    "version": 3
   },
   "file_extension": ".py",
   "mimetype": "text/x-python",
   "name": "python",
   "nbconvert_exporter": "python",
   "pygments_lexer": "ipython3",
   "version": "3.8.10"
  }
 },
 "nbformat": 4,
 "nbformat_minor": 5
}
