{
 "cells": [
  {
   "cell_type": "code",
   "execution_count": 1,
   "id": "c47eb823-ec7b-447b-9557-343a00301cc2",
   "metadata": {},
   "outputs": [],
   "source": [
    "import pandas as pd \n",
    "import numpy as np \n",
    "import plotly.express as px \n",
    "import seaborn as sns \n",
    "import matplotlib.pyplot as plt\n",
    "from plotly.subplots import make_subplots\n",
    "import plotly.graph_objects as go\n",
    "import plotly.figure_factory as ff\n",
    "import plotly.io as pio\n",
    "import kaleido\n",
    "import os\n",
    "\n",
    "BASE_PATH = '../data/raw'\n",
    "TRAINING_PATH = os.path.join(BASE_PATH,'cs-training.csv')\n",
    "TEST_PATH = os.path.join(BASE_PATH,'cs-test.csv')\n",
    "\n",
    "TARGET = 'SeriousDlqin2yrs'\n",
    "\n",
    "\n",
    "INTERIM_BASE_PATH = '../data/interim'\n",
    "TRAINING_INTERIM_PATH = os.path.join(INTERIM_BASE_PATH,'training_interim.csv')\n",
    "TEST_INTERIM_PATH = os.path.join(INTERIM_BASE_PATH,'test_interim.csv')"
   ]
  },
  {
   "cell_type": "markdown",
   "id": "edde0ed6-9465-4ac9-92c8-ae3c2bb76902",
   "metadata": {
    "tags": []
   },
   "source": [
    "## CHECK DATA SANITY"
   ]
  },
  {
   "cell_type": "code",
   "execution_count": 2,
   "id": "4c4c05c8-bf64-416b-8e3f-05e991cb223c",
   "metadata": {},
   "outputs": [],
   "source": [
    "training_data = pd.read_csv(TRAINING_PATH)#.drop('Unnamed: 0',axis=1)"
   ]
  },
  {
   "cell_type": "code",
   "execution_count": 3,
   "id": "81ade8e1-875e-4158-9490-c1e6b9f98db3",
   "metadata": {},
   "outputs": [
    {
     "data": {
      "text/plain": [
       "(150000, 12)"
      ]
     },
     "execution_count": 3,
     "metadata": {},
     "output_type": "execute_result"
    }
   ],
   "source": [
    "#data shape 150.000,12 columns\n",
    "training_data.shape"
   ]
  },
  {
   "cell_type": "code",
   "execution_count": 4,
   "id": "77ebcbb6-a708-4865-aa84-bc8c3c019ba9",
   "metadata": {},
   "outputs": [
    {
     "data": {
      "text/plain": [
       "0"
      ]
     },
     "execution_count": 4,
     "metadata": {},
     "output_type": "execute_result"
    }
   ],
   "source": [
    "#number of duplicated data\n",
    "training_data.duplicated().sum()"
   ]
  },
  {
   "cell_type": "code",
   "execution_count": 5,
   "id": "495ef439-7bf3-4785-aac7-5c84253e01af",
   "metadata": {},
   "outputs": [
    {
     "data": {
      "text/plain": [
       "Index(['Unnamed: 0', 'SeriousDlqin2yrs',\n",
       "       'RevolvingUtilizationOfUnsecuredLines', 'age',\n",
       "       'NumberOfTime30-59DaysPastDueNotWorse', 'DebtRatio', 'MonthlyIncome',\n",
       "       'NumberOfOpenCreditLinesAndLoans', 'NumberOfTimes90DaysLate',\n",
       "       'NumberRealEstateLoansOrLines', 'NumberOfTime60-89DaysPastDueNotWorse',\n",
       "       'NumberOfDependents'],\n",
       "      dtype='object')"
      ]
     },
     "execution_count": 5,
     "metadata": {},
     "output_type": "execute_result"
    }
   ],
   "source": [
    "#list of columns\n",
    "training_data.columns"
   ]
  },
  {
   "cell_type": "code",
   "execution_count": 6,
   "id": "a78df10f-966c-46aa-b772-196ce1c63bb9",
   "metadata": {},
   "outputs": [
    {
     "data": {
      "text/html": [
       "<div>\n",
       "<style scoped>\n",
       "    .dataframe tbody tr th:only-of-type {\n",
       "        vertical-align: middle;\n",
       "    }\n",
       "\n",
       "    .dataframe tbody tr th {\n",
       "        vertical-align: top;\n",
       "    }\n",
       "\n",
       "    .dataframe thead th {\n",
       "        text-align: right;\n",
       "    }\n",
       "</style>\n",
       "<table border=\"1\" class=\"dataframe\">\n",
       "  <thead>\n",
       "    <tr style=\"text-align: right;\">\n",
       "      <th></th>\n",
       "      <th>Unnamed: 0</th>\n",
       "      <th>SeriousDlqin2yrs</th>\n",
       "      <th>RevolvingUtilizationOfUnsecuredLines</th>\n",
       "      <th>age</th>\n",
       "      <th>NumberOfTime30-59DaysPastDueNotWorse</th>\n",
       "      <th>DebtRatio</th>\n",
       "      <th>MonthlyIncome</th>\n",
       "      <th>NumberOfOpenCreditLinesAndLoans</th>\n",
       "      <th>NumberOfTimes90DaysLate</th>\n",
       "      <th>NumberRealEstateLoansOrLines</th>\n",
       "      <th>NumberOfTime60-89DaysPastDueNotWorse</th>\n",
       "      <th>NumberOfDependents</th>\n",
       "    </tr>\n",
       "  </thead>\n",
       "  <tbody>\n",
       "    <tr>\n",
       "      <th>0</th>\n",
       "      <td>1</td>\n",
       "      <td>1</td>\n",
       "      <td>0.766127</td>\n",
       "      <td>45</td>\n",
       "      <td>2</td>\n",
       "      <td>0.802982</td>\n",
       "      <td>9120.0</td>\n",
       "      <td>13</td>\n",
       "      <td>0</td>\n",
       "      <td>6</td>\n",
       "      <td>0</td>\n",
       "      <td>2.0</td>\n",
       "    </tr>\n",
       "    <tr>\n",
       "      <th>1</th>\n",
       "      <td>2</td>\n",
       "      <td>0</td>\n",
       "      <td>0.957151</td>\n",
       "      <td>40</td>\n",
       "      <td>0</td>\n",
       "      <td>0.121876</td>\n",
       "      <td>2600.0</td>\n",
       "      <td>4</td>\n",
       "      <td>0</td>\n",
       "      <td>0</td>\n",
       "      <td>0</td>\n",
       "      <td>1.0</td>\n",
       "    </tr>\n",
       "    <tr>\n",
       "      <th>2</th>\n",
       "      <td>3</td>\n",
       "      <td>0</td>\n",
       "      <td>0.658180</td>\n",
       "      <td>38</td>\n",
       "      <td>1</td>\n",
       "      <td>0.085113</td>\n",
       "      <td>3042.0</td>\n",
       "      <td>2</td>\n",
       "      <td>1</td>\n",
       "      <td>0</td>\n",
       "      <td>0</td>\n",
       "      <td>0.0</td>\n",
       "    </tr>\n",
       "  </tbody>\n",
       "</table>\n",
       "</div>"
      ],
      "text/plain": [
       "   Unnamed: 0  SeriousDlqin2yrs  RevolvingUtilizationOfUnsecuredLines  age  \\\n",
       "0           1                 1                              0.766127   45   \n",
       "1           2                 0                              0.957151   40   \n",
       "2           3                 0                              0.658180   38   \n",
       "\n",
       "   NumberOfTime30-59DaysPastDueNotWorse  DebtRatio  MonthlyIncome  \\\n",
       "0                                     2   0.802982         9120.0   \n",
       "1                                     0   0.121876         2600.0   \n",
       "2                                     1   0.085113         3042.0   \n",
       "\n",
       "   NumberOfOpenCreditLinesAndLoans  NumberOfTimes90DaysLate  \\\n",
       "0                               13                        0   \n",
       "1                                4                        0   \n",
       "2                                2                        1   \n",
       "\n",
       "   NumberRealEstateLoansOrLines  NumberOfTime60-89DaysPastDueNotWorse  \\\n",
       "0                             6                                     0   \n",
       "1                             0                                     0   \n",
       "2                             0                                     0   \n",
       "\n",
       "   NumberOfDependents  \n",
       "0                 2.0  \n",
       "1                 1.0  \n",
       "2                 0.0  "
      ]
     },
     "execution_count": 6,
     "metadata": {},
     "output_type": "execute_result"
    }
   ],
   "source": [
    "#example of data\n",
    "training_data.head(3)"
   ]
  },
  {
   "cell_type": "code",
   "execution_count": 7,
   "id": "a0387719-3969-4235-9af5-447f9df91fb6",
   "metadata": {},
   "outputs": [
    {
     "data": {
      "text/plain": [
       "Unnamed: 0                               0.000000\n",
       "SeriousDlqin2yrs                         0.000000\n",
       "RevolvingUtilizationOfUnsecuredLines     0.000000\n",
       "age                                      0.000000\n",
       "NumberOfTime30-59DaysPastDueNotWorse     0.000000\n",
       "DebtRatio                                0.000000\n",
       "MonthlyIncome                           19.820667\n",
       "NumberOfOpenCreditLinesAndLoans          0.000000\n",
       "NumberOfTimes90DaysLate                  0.000000\n",
       "NumberRealEstateLoansOrLines             0.000000\n",
       "NumberOfTime60-89DaysPastDueNotWorse     0.000000\n",
       "NumberOfDependents                       2.616000\n",
       "dtype: float64"
      ]
     },
     "execution_count": 7,
     "metadata": {},
     "output_type": "execute_result"
    }
   ],
   "source": [
    "#checking null values pct\n",
    "(training_data.isnull().sum()/training_data.shape[0]) * 100"
   ]
  },
  {
   "cell_type": "markdown",
   "id": "1c309969-6dc6-4043-856d-a9b41e0f055a",
   "metadata": {},
   "source": [
    "## TARGET VARIABLES"
   ]
  },
  {
   "cell_type": "code",
   "execution_count": 8,
   "id": "d645dfc6-36ff-4f72-8ecf-2396fc3e131e",
   "metadata": {},
   "outputs": [
    {
     "data": {
      "text/plain": [
       "0    93.316\n",
       "1     6.684\n",
       "Name: SeriousDlqin2yrs, dtype: float64"
      ]
     },
     "execution_count": 8,
     "metadata": {},
     "output_type": "execute_result"
    }
   ],
   "source": [
    "(training_data[TARGET].value_counts()/training_data.shape[0])*100"
   ]
  },
  {
   "cell_type": "markdown",
   "id": "5c03c189-e6fb-4c80-b37f-32e662e128df",
   "metadata": {
    "tags": []
   },
   "source": [
    "## RevolvingUtilizationOfUnsecuredLines\n",
    "as the dicionary said that RevolvingUtilizationOfUnsecuredLines is a percentage which means maximal 100 % . However in this case we got maximum of 50708"
   ]
  },
  {
   "cell_type": "code",
   "execution_count": 29,
   "id": "d65f94f7-6afc-466b-a313-a124441a2423",
   "metadata": {},
   "outputs": [
    {
     "data": {
      "text/html": [
       "<div>\n",
       "<style scoped>\n",
       "    .dataframe tbody tr th:only-of-type {\n",
       "        vertical-align: middle;\n",
       "    }\n",
       "\n",
       "    .dataframe tbody tr th {\n",
       "        vertical-align: top;\n",
       "    }\n",
       "\n",
       "    .dataframe thead th {\n",
       "        text-align: right;\n",
       "    }\n",
       "</style>\n",
       "<table border=\"1\" class=\"dataframe\">\n",
       "  <thead>\n",
       "    <tr style=\"text-align: right;\">\n",
       "      <th></th>\n",
       "      <th>RevolvingUtilizationOfUnsecuredLines</th>\n",
       "    </tr>\n",
       "  </thead>\n",
       "  <tbody>\n",
       "    <tr>\n",
       "      <th>count</th>\n",
       "      <td>150000.000000</td>\n",
       "    </tr>\n",
       "    <tr>\n",
       "      <th>mean</th>\n",
       "      <td>6.048438</td>\n",
       "    </tr>\n",
       "    <tr>\n",
       "      <th>std</th>\n",
       "      <td>249.755371</td>\n",
       "    </tr>\n",
       "    <tr>\n",
       "      <th>min</th>\n",
       "      <td>0.000000</td>\n",
       "    </tr>\n",
       "    <tr>\n",
       "      <th>25%</th>\n",
       "      <td>0.029867</td>\n",
       "    </tr>\n",
       "    <tr>\n",
       "      <th>50%</th>\n",
       "      <td>0.154181</td>\n",
       "    </tr>\n",
       "    <tr>\n",
       "      <th>75%</th>\n",
       "      <td>0.559046</td>\n",
       "    </tr>\n",
       "    <tr>\n",
       "      <th>max</th>\n",
       "      <td>50708.000000</td>\n",
       "    </tr>\n",
       "  </tbody>\n",
       "</table>\n",
       "</div>"
      ],
      "text/plain": [
       "       RevolvingUtilizationOfUnsecuredLines\n",
       "count                         150000.000000\n",
       "mean                               6.048438\n",
       "std                              249.755371\n",
       "min                                0.000000\n",
       "25%                                0.029867\n",
       "50%                                0.154181\n",
       "75%                                0.559046\n",
       "max                            50708.000000"
      ]
     },
     "execution_count": 29,
     "metadata": {},
     "output_type": "execute_result"
    }
   ],
   "source": [
    "training_data[['RevolvingUtilizationOfUnsecuredLines']].describe()"
   ]
  },
  {
   "cell_type": "code",
   "execution_count": 9,
   "id": "00968044-504e-415a-9db7-4f7364eb5ba0",
   "metadata": {},
   "outputs": [
    {
     "data": {
      "text/plain": [
       "(3321, 12)"
      ]
     },
     "execution_count": 9,
     "metadata": {},
     "output_type": "execute_result"
    }
   ],
   "source": [
    "#only 3321  / 150.000 contains revolving rate \n",
    "filter_revoling = training_data['RevolvingUtilizationOfUnsecuredLines']>1\n",
    "training_data.loc[filter_revoling].shape"
   ]
  },
  {
   "cell_type": "code",
   "execution_count": null,
   "id": "696ad226-a961-4ff0-b7e9-725ed80507f6",
   "metadata": {},
   "outputs": [],
   "source": []
  },
  {
   "cell_type": "code",
   "execution_count": 22,
   "id": "96de79b8-a3aa-44a9-9c4e-90232d301a08",
   "metadata": {},
   "outputs": [
    {
     "data": {
      "text/html": [
       "<iframe\n",
       "    scrolling=\"no\"\n",
       "    width=\"100%\"\n",
       "    height=\"545px\"\n",
       "    src=\"iframe_figures/figure_22.html\"\n",
       "    frameborder=\"0\"\n",
       "    allowfullscreen\n",
       "></iframe>\n"
      ]
     },
     "metadata": {},
     "output_type": "display_data"
    }
   ],
   "source": [
    "hist_revolving_univariate = px.histogram(data_frame=training_data,x='RevolvingUtilizationOfUnsecuredLines',nbins=150,\n",
    "             log_y=True,orientation='v',opacity=0.5,marginal='box',template='ggplot2',\n",
    "             color=TARGET)\n",
    "hist_revolving_univariate.update_layout(title='Logged count of RevolvingUtilizationOfUnsecuredLines')\n",
    "pio.show(hist_revolving_univariate,validate=False,renderer='iframe')"
   ]
  },
  {
   "cell_type": "code",
   "execution_count": 25,
   "id": "40b4497e-ff8f-468a-9a9c-546dc7fd8c5a",
   "metadata": {},
   "outputs": [
    {
     "data": {
      "text/html": [
       "<iframe\n",
       "    scrolling=\"no\"\n",
       "    width=\"520px\"\n",
       "    height=\"520\"\n",
       "    src=\"iframe_figures/figure_25.html\"\n",
       "    frameborder=\"0\"\n",
       "    allowfullscreen\n",
       "></iframe>\n"
      ]
     },
     "metadata": {},
     "output_type": "display_data"
    }
   ],
   "source": [
    "filter_revoling = training_data['RevolvingUtilizationOfUnsecuredLines']<=1\n",
    "revolving_util_box = px.box(data_frame=training_data.loc[filter_revoling],\n",
    "                            y='RevolvingUtilizationOfUnsecuredLines',color_discrete_sequence=px.colors.qualitative.Dark2,color=TARGET,template='ggplot2'\n",
    "                            )\n",
    "revolving_util_box.update_layout(title='revolving_utilization <=1 ',height=500,width=500)\n",
    "pio.show(revolving_util_box,validate=False,renderer='iframe')"
   ]
  },
  {
   "cell_type": "markdown",
   "id": "698648ba-49c9-4fa5-b927-29fac4d0389f",
   "metadata": {},
   "source": [
    "from boxplot we can see that the TARGET with label == 1 has higher median revolving rate"
   ]
  },
  {
   "cell_type": "code",
   "execution_count": 29,
   "id": "69eca0a9-27c1-49af-bf75-66721ee80110",
   "metadata": {},
   "outputs": [
    {
     "data": {
      "text/html": [
       "<iframe\n",
       "    scrolling=\"no\"\n",
       "    width=\"720px\"\n",
       "    height=\"520\"\n",
       "    src=\"iframe_figures/figure_29.html\"\n",
       "    frameborder=\"0\"\n",
       "    allowfullscreen\n",
       "></iframe>\n"
      ]
     },
     "metadata": {},
     "output_type": "display_data"
    }
   ],
   "source": [
    "hist_revolving_bivariate = px.histogram(data_frame=training_data,x='RevolvingUtilizationOfUnsecuredLines',nbins=150,\n",
    "             log_y=True,log_x=False,orientation='v',opacity=0.5,marginal='box',\n",
    "             color_discrete_sequence=px.colors.qualitative.Dark2,color=TARGET,template='ggplot2')\n",
    "hist_revolving_bivariate.update_layout(height=500,width=700,title='Logged count of RevolvingUtilizationOfUnsecuredLines from each target category')\n",
    "pio.show(hist_revolving_bivariate,validate=False,renderer='iframe')"
   ]
  },
  {
   "cell_type": "markdown",
   "id": "1f573f60-4d50-4875-8d6b-7416c6368c07",
   "metadata": {},
   "source": [
    "However we see that class 0 has wider range in terms of Revolving Utilization"
   ]
  },
  {
   "cell_type": "markdown",
   "id": "da8caa60-b6d4-4d84-8e14-a5b3ed80d9f4",
   "metadata": {},
   "source": [
    "## Age"
   ]
  },
  {
   "cell_type": "markdown",
   "id": "6917bfb6-54e9-4f36-8c94-d1b8abe51581",
   "metadata": {},
   "source": [
    "### Univariate"
   ]
  },
  {
   "cell_type": "code",
   "execution_count": 30,
   "id": "6bb2a755-a249-4d98-b61e-062e9d58d54f",
   "metadata": {},
   "outputs": [
    {
     "data": {
      "text/html": [
       "<iframe\n",
       "    scrolling=\"no\"\n",
       "    width=\"100%\"\n",
       "    height=\"545px\"\n",
       "    src=\"iframe_figures/figure_30.html\"\n",
       "    frameborder=\"0\"\n",
       "    allowfullscreen\n",
       "></iframe>\n"
      ]
     },
     "metadata": {},
     "output_type": "display_data"
    }
   ],
   "source": [
    "age_univariate = px.histogram(data_frame=training_data,x='age',nbins=150,opacity=0.5,template='ggplot2'\n",
    "             ,color_discrete_sequence=px.colors.qualitative.Dark2)\n",
    "pio.show(age_univariate,validate=False,renderer='iframe')"
   ]
  },
  {
   "cell_type": "code",
   "execution_count": 41,
   "id": "4eee0042-5851-4183-8ffc-65c6a719dfe7",
   "metadata": {},
   "outputs": [
    {
     "data": {
      "text/html": [
       "<iframe\n",
       "    scrolling=\"no\"\n",
       "    width=\"100%\"\n",
       "    height=\"545px\"\n",
       "    src=\"iframe_figures/figure_41.html\"\n",
       "    frameborder=\"0\"\n",
       "    allowfullscreen\n",
       "></iframe>\n"
      ]
     },
     "metadata": {},
     "output_type": "display_data"
    }
   ],
   "source": [
    "age_bivariate = px.histogram(data_frame=training_data,x='age',nbins=150,orientation='v',opacity=0.5,marginal='box',\n",
    "             color_discrete_sequence=px.colors.qualitative.Dark2,color=TARGET,template='ggplot2')\n",
    "age_bivariate.update_layout(title=\"age histogram and boxplot\")\n",
    "pio.show(age_bivariate,validate=False,renderer='iframe')"
   ]
  },
  {
   "cell_type": "markdown",
   "id": "f370d8ec-8b66-4790-a849-5f1ee0f5d0d6",
   "metadata": {},
   "source": [
    "from the boxplot we can infer the age with class 1 has lower median than  class 1. "
   ]
  },
  {
   "cell_type": "markdown",
   "id": "912a1167-b4ef-4d66-972b-23088535cf89",
   "metadata": {},
   "source": [
    "## NumberOfTime30-59DaysPastDueNotWorse"
   ]
  },
  {
   "cell_type": "code",
   "execution_count": 185,
   "id": "34eda849-9b27-4f23-ae14-6f7fda5013fd",
   "metadata": {
    "collapsed": true,
    "jupyter": {
     "outputs_hidden": true
    },
    "tags": []
   },
   "outputs": [
    {
     "name": "stdout",
     "output_type": "stream",
     "text": [
      "Help on function box in module plotly.express._chart_types:\n",
      "\n",
      "box(data_frame=None, x=None, y=None, color=None, facet_row=None, facet_col=None, facet_col_wrap=0, facet_row_spacing=None, facet_col_spacing=None, hover_name=None, hover_data=None, custom_data=None, animation_frame=None, animation_group=None, category_orders=None, labels=None, color_discrete_sequence=None, color_discrete_map=None, orientation=None, boxmode=None, log_x=False, log_y=False, range_x=None, range_y=None, points=None, notched=False, title=None, template=None, width=None, height=None) -> plotly.graph_objs._figure.Figure\n",
      "        In a box plot, rows of `data_frame` are grouped together into a\n",
      "        box-and-whisker mark to visualize their distribution.\n",
      "    \n",
      "        Each box spans from quartile 1 (Q1) to quartile 3 (Q3). The second\n",
      "        quartile (Q2) is marked by a line inside the box. By default, the\n",
      "        whiskers correspond to the box' edges +/- 1.5 times the interquartile\n",
      "        range (IQR: Q3-Q1), see \"points\" for other options.\n",
      "        \n",
      "    Parameters\n",
      "    ----------\n",
      "    data_frame: DataFrame or array-like or dict\n",
      "        This argument needs to be passed for column names (and not keyword\n",
      "        names) to be used. Array-like and dict are tranformed internally to a\n",
      "        pandas DataFrame. Optional: if missing, a DataFrame gets constructed\n",
      "        under the hood using the other arguments.\n",
      "    x: str or int or Series or array-like\n",
      "        Either a name of a column in `data_frame`, or a pandas Series or\n",
      "        array_like object. Values from this column or array_like are used to\n",
      "        position marks along the x axis in cartesian coordinates. Either `x` or\n",
      "        `y` can optionally be a list of column references or array_likes,  in\n",
      "        which case the data will be treated as if it were 'wide' rather than\n",
      "        'long'.\n",
      "    y: str or int or Series or array-like\n",
      "        Either a name of a column in `data_frame`, or a pandas Series or\n",
      "        array_like object. Values from this column or array_like are used to\n",
      "        position marks along the y axis in cartesian coordinates. Either `x` or\n",
      "        `y` can optionally be a list of column references or array_likes,  in\n",
      "        which case the data will be treated as if it were 'wide' rather than\n",
      "        'long'.\n",
      "    color: str or int or Series or array-like\n",
      "        Either a name of a column in `data_frame`, or a pandas Series or\n",
      "        array_like object. Values from this column or array_like are used to\n",
      "        assign color to marks.\n",
      "    facet_row: str or int or Series or array-like\n",
      "        Either a name of a column in `data_frame`, or a pandas Series or\n",
      "        array_like object. Values from this column or array_like are used to\n",
      "        assign marks to facetted subplots in the vertical direction.\n",
      "    facet_col: str or int or Series or array-like\n",
      "        Either a name of a column in `data_frame`, or a pandas Series or\n",
      "        array_like object. Values from this column or array_like are used to\n",
      "        assign marks to facetted subplots in the horizontal direction.\n",
      "    facet_col_wrap: int\n",
      "        Maximum number of facet columns. Wraps the column variable at this\n",
      "        width, so that the column facets span multiple rows. Ignored if 0, and\n",
      "        forced to 0 if `facet_row` or a `marginal` is set.\n",
      "    facet_row_spacing: float between 0 and 1\n",
      "        Spacing between facet rows, in paper units. Default is 0.03 or 0.0.7\n",
      "        when facet_col_wrap is used.\n",
      "    facet_col_spacing: float between 0 and 1\n",
      "        Spacing between facet columns, in paper units Default is 0.02.\n",
      "    hover_name: str or int or Series or array-like\n",
      "        Either a name of a column in `data_frame`, or a pandas Series or\n",
      "        array_like object. Values from this column or array_like appear in bold\n",
      "        in the hover tooltip.\n",
      "    hover_data: list of str or int, or Series or array-like, or dict\n",
      "        Either a list of names of columns in `data_frame`, or pandas Series, or\n",
      "        array_like objects or a dict with column names as keys, with values\n",
      "        True (for default formatting) False (in order to remove this column\n",
      "        from hover information), or a formatting string, for example ':.3f' or\n",
      "        '|%a' or list-like data to appear in the hover tooltip or tuples with a\n",
      "        bool or formatting string as first element, and list-like data to\n",
      "        appear in hover as second element Values from these columns appear as\n",
      "        extra data in the hover tooltip.\n",
      "    custom_data: list of str or int, or Series or array-like\n",
      "        Either names of columns in `data_frame`, or pandas Series, or\n",
      "        array_like objects Values from these columns are extra data, to be used\n",
      "        in widgets or Dash callbacks for example. This data is not user-visible\n",
      "        but is included in events emitted by the figure (lasso selection etc.)\n",
      "    animation_frame: str or int or Series or array-like\n",
      "        Either a name of a column in `data_frame`, or a pandas Series or\n",
      "        array_like object. Values from this column or array_like are used to\n",
      "        assign marks to animation frames.\n",
      "    animation_group: str or int or Series or array-like\n",
      "        Either a name of a column in `data_frame`, or a pandas Series or\n",
      "        array_like object. Values from this column or array_like are used to\n",
      "        provide object-constancy across animation frames: rows with matching\n",
      "        `animation_group`s will be treated as if they describe the same object\n",
      "        in each frame.\n",
      "    category_orders: dict with str keys and list of str values (default `{}`)\n",
      "        By default, in Python 3.6+, the order of categorical values in axes,\n",
      "        legends and facets depends on the order in which these values are first\n",
      "        encountered in `data_frame` (and no order is guaranteed by default in\n",
      "        Python below 3.6). This parameter is used to force a specific ordering\n",
      "        of values per column. The keys of this dict should correspond to column\n",
      "        names, and the values should be lists of strings corresponding to the\n",
      "        specific display order desired.\n",
      "    labels: dict with str keys and str values (default `{}`)\n",
      "        By default, column names are used in the figure for axis titles, legend\n",
      "        entries and hovers. This parameter allows this to be overridden. The\n",
      "        keys of this dict should correspond to column names, and the values\n",
      "        should correspond to the desired label to be displayed.\n",
      "    color_discrete_sequence: list of str\n",
      "        Strings should define valid CSS-colors. When `color` is set and the\n",
      "        values in the corresponding column are not numeric, values in that\n",
      "        column are assigned colors by cycling through `color_discrete_sequence`\n",
      "        in the order described in `category_orders`, unless the value of\n",
      "        `color` is a key in `color_discrete_map`. Various useful color\n",
      "        sequences are available in the `plotly.express.colors` submodules,\n",
      "        specifically `plotly.express.colors.qualitative`.\n",
      "    color_discrete_map: dict with str keys and str values (default `{}`)\n",
      "        String values should define valid CSS-colors Used to override\n",
      "        `color_discrete_sequence` to assign a specific colors to marks\n",
      "        corresponding with specific values. Keys in `color_discrete_map` should\n",
      "        be values in the column denoted by `color`. Alternatively, if the\n",
      "        values of `color` are valid colors, the string `'identity'` may be\n",
      "        passed to cause them to be used directly.\n",
      "    orientation: str, one of `'h'` for horizontal or `'v'` for vertical. \n",
      "        (default `'v'` if `x` and `y` are provided and both continous or both\n",
      "        categorical,  otherwise `'v'`(`'h'`) if `x`(`y`) is categorical and\n",
      "        `y`(`x`) is continuous,  otherwise `'v'`(`'h'`) if only `x`(`y`) is\n",
      "        provided)\n",
      "    boxmode: str (default `'group'`)\n",
      "        One of `'group'` or `'overlay'` In `'overlay'` mode, boxes are on drawn\n",
      "        top of one another. In `'group'` mode, boxes are placed beside each\n",
      "        other.\n",
      "    log_x: boolean (default `False`)\n",
      "        If `True`, the x-axis is log-scaled in cartesian coordinates.\n",
      "    log_y: boolean (default `False`)\n",
      "        If `True`, the y-axis is log-scaled in cartesian coordinates.\n",
      "    range_x: list of two numbers\n",
      "        If provided, overrides auto-scaling on the x-axis in cartesian\n",
      "        coordinates.\n",
      "    range_y: list of two numbers\n",
      "        If provided, overrides auto-scaling on the y-axis in cartesian\n",
      "        coordinates.\n",
      "    points: str or boolean (default `'outliers'`)\n",
      "        One of `'outliers'`, `'suspectedoutliers'`, `'all'`, or `False`. If\n",
      "        `'outliers'`, only the sample points lying outside the whiskers are\n",
      "        shown. If `'suspectedoutliers'`, all outlier points are shown and those\n",
      "        less than 4*Q1-3*Q3 or greater than 4*Q3-3*Q1 are highlighted with the\n",
      "        marker's `'outliercolor'`. If `'outliers'`, only the sample points\n",
      "        lying outside the whiskers are shown. If `'all'`, all sample points are\n",
      "        shown. If `False`, no sample points are shown and the whiskers extend\n",
      "        to the full range of the sample.\n",
      "    notched: boolean (default `False`)\n",
      "        If `True`, boxes are drawn with notches.\n",
      "    title: str\n",
      "        The figure title.\n",
      "    template: str or dict or plotly.graph_objects.layout.Template instance\n",
      "        The figure template name (must be a key in plotly.io.templates) or\n",
      "        definition.\n",
      "    width: int (default `None`)\n",
      "        The figure width in pixels.\n",
      "    height: int (default `None`)\n",
      "        The figure height in pixels.\n",
      "    \n",
      "    Returns\n",
      "    -------\n",
      "        plotly.graph_objects.Figure\n",
      "\n"
     ]
    }
   ],
   "source": [
    "help(px.box)"
   ]
  },
  {
   "cell_type": "code",
   "execution_count": 47,
   "id": "3a17f858-ad38-4f6f-979e-b23c2bab69a8",
   "metadata": {},
   "outputs": [
    {
     "data": {
      "text/html": [
       "<iframe\n",
       "    scrolling=\"no\"\n",
       "    width=\"100%\"\n",
       "    height=\"545px\"\n",
       "    src=\"iframe_figures/figure_47.html\"\n",
       "    frameborder=\"0\"\n",
       "    allowfullscreen\n",
       "></iframe>\n"
      ]
     },
     "metadata": {},
     "output_type": "display_data"
    }
   ],
   "source": [
    "past_due_3059 = px.histogram(data_frame=training_data,x='NumberOfTime30-59DaysPastDueNotWorse',nbins=150,\n",
    "             log_y=True,orientation='v',opacity=0.5,template='ggplot2',\n",
    "             color_discrete_sequence=px.colors.qualitative.Dark2,color=TARGET)\n",
    "past_due_3059.update_layout(title=\"NumberOfTime30-59DaysPastDueNotWorse\")\n",
    "pio.show(past_due_3059,validate=False,renderer='iframe')"
   ]
  },
  {
   "cell_type": "markdown",
   "id": "1baceb26-926b-41f4-8e6f-0364eb580de7",
   "metadata": {},
   "source": [
    "From both class the number of 30-59 days late keep decreasing to 12 times and start to raise again in 96 to 98 "
   ]
  },
  {
   "cell_type": "markdown",
   "id": "a0f5ac07-f8e5-4456-9982-b3f835273720",
   "metadata": {},
   "source": [
    "## DebtRatio"
   ]
  },
  {
   "cell_type": "code",
   "execution_count": null,
   "id": "94e1c81e-a087-4c00-80c3-c69973255b52",
   "metadata": {},
   "outputs": [],
   "source": [
    "### Debt Ratio <=1 "
   ]
  },
  {
   "cell_type": "code",
   "execution_count": 54,
   "id": "0b9d4e09-4fff-46e1-b9e9-0b65cf301522",
   "metadata": {},
   "outputs": [
    {
     "data": {
      "text/html": [
       "<iframe\n",
       "    scrolling=\"no\"\n",
       "    width=\"100%\"\n",
       "    height=\"545px\"\n",
       "    src=\"iframe_figures/figure_54.html\"\n",
       "    frameborder=\"0\"\n",
       "    allowfullscreen\n",
       "></iframe>\n"
      ]
     },
     "metadata": {},
     "output_type": "display_data"
    }
   ],
   "source": [
    "filter_debt_ratio = training_data['DebtRatio']<=1\n",
    "debt_ratio_under_1 = px.histogram(data_frame=training_data.loc[filter_debt_ratio],x='DebtRatio',nbins=200,\n",
    "             log_y=True,orientation='v',opacity=0.5,marginal='box',template='ggplot2',\n",
    "             color_discrete_sequence=px.colors.qualitative.Dark2,color=TARGET)\n",
    "debt_ratio_under_1.update_layout(title='debt ratio (logged count) <=1')\n",
    "pio.show(debt_ratio_under_1,validate=False,renderer='iframe')"
   ]
  },
  {
   "cell_type": "markdown",
   "id": "3c0d956e-a707-49f4-9488-39adb11d332b",
   "metadata": {},
   "source": [
    "Debt Ratio from target with class ==1 has higher median. The distribution of debt ratio for both clas spiked near zero makin a hill up to 0.2 and start to down gradually to 1.0"
   ]
  },
  {
   "cell_type": "code",
   "execution_count": 56,
   "id": "fb73c372-358e-4b3a-b958-17c7d70aaac9",
   "metadata": {},
   "outputs": [
    {
     "data": {
      "text/html": [
       "<iframe\n",
       "    scrolling=\"no\"\n",
       "    width=\"100%\"\n",
       "    height=\"545px\"\n",
       "    src=\"iframe_figures/figure_56.html\"\n",
       "    frameborder=\"0\"\n",
       "    allowfullscreen\n",
       "></iframe>\n"
      ]
     },
     "metadata": {},
     "output_type": "display_data"
    }
   ],
   "source": [
    "filter_debt_ratio = training_data['DebtRatio']>1\n",
    "debt_ratio_under_1 = px.histogram(data_frame=training_data.loc[filter_debt_ratio],x='DebtRatio',nbins=200,\n",
    "             log_y=True,orientation='v',opacity=0.5,marginal='box',template='ggplot2',\n",
    "             color_discrete_sequence=px.colors.qualitative.Dark2,color=TARGET)\n",
    "debt_ratio_under_1.update_layout(title='debt ratio (logged count) >1')\n",
    "pio.show(debt_ratio_under_1,validate=False,renderer='iframe')"
   ]
  },
  {
   "cell_type": "markdown",
   "id": "2556a31e-631c-4f5a-a337-f21936ce6a10",
   "metadata": {},
   "source": [
    "Meanwhile in debt ratio exceed > 1 both class align until 33K. Class 0 has widest spread which ended up in 300k"
   ]
  },
  {
   "cell_type": "markdown",
   "id": "74f4e385-e07f-44b8-9c5b-7998c11e867e",
   "metadata": {},
   "source": [
    "## MonthlyIncome"
   ]
  },
  {
   "cell_type": "code",
   "execution_count": null,
   "id": "d1763006-43bb-4fdd-b685-fa7d23c5d33b",
   "metadata": {},
   "outputs": [],
   "source": []
  },
  {
   "cell_type": "code",
   "execution_count": 63,
   "id": "7807a296-30a5-4d77-b359-30bddac3455c",
   "metadata": {},
   "outputs": [
    {
     "data": {
      "text/html": [
       "<iframe\n",
       "    scrolling=\"no\"\n",
       "    width=\"100%\"\n",
       "    height=\"545px\"\n",
       "    src=\"iframe_figures/figure_63.html\"\n",
       "    frameborder=\"0\"\n",
       "    allowfullscreen\n",
       "></iframe>\n"
      ]
     },
     "metadata": {},
     "output_type": "display_data"
    }
   ],
   "source": [
    "monthly_income = px.histogram(data_frame=training_data,x='MonthlyIncome',nbins=100,\n",
    "             log_y=True,log_x=False,orientation='v',opacity=0.5,marginal='box',\n",
    "             color_discrete_sequence=px.colors.qualitative.Dark2,color=TARGET,template='ggplot2')\n",
    "pio.show(monthly_income,validate=False,renderer='iframe')"
   ]
  },
  {
   "cell_type": "code",
   "execution_count": null,
   "id": "e58f9f86-b5bc-48e6-94e6-c91a2946cdf0",
   "metadata": {},
   "outputs": [],
   "source": []
  },
  {
   "cell_type": "code",
   "execution_count": 104,
   "id": "f6efd3ae-30ce-4b2f-89af-a5af406d13e1",
   "metadata": {},
   "outputs": [
    {
     "data": {
      "text/plain": [
       "Index(['SeriousDlqin2yrs', 'RevolvingUtilizationOfUnsecuredLines', 'age',\n",
       "       'NumberOfTime30-59DaysPastDueNotWorse', 'DebtRatio', 'MonthlyIncome',\n",
       "       'NumberOfOpenCreditLinesAndLoans', 'NumberOfTimes90DaysLate',\n",
       "       'NumberRealEstateLoansOrLines', 'NumberOfTime60-89DaysPastDueNotWorse',\n",
       "       'NumberOfDependents', 'log_RevolvingUtilizationOfUnsecuredLines',\n",
       "       'exp_RevolvingUtilizationOfUnsecuredLines', 'log_debt_ratio',\n",
       "       'log_age'],\n",
       "      dtype='object')"
      ]
     },
     "execution_count": 104,
     "metadata": {},
     "output_type": "execute_result"
    }
   ],
   "source": [
    "training_data.columns"
   ]
  },
  {
   "cell_type": "code",
   "execution_count": 107,
   "id": "0d501b5d-2960-42f8-b8eb-a714b36e8767",
   "metadata": {},
   "outputs": [
    {
     "data": {
      "text/html": [
       "<iframe\n",
       "    scrolling=\"no\"\n",
       "    width=\"100%\"\n",
       "    height=\"545px\"\n",
       "    src=\"iframe_figures/figure_107.html\"\n",
       "    frameborder=\"0\"\n",
       "    allowfullscreen\n",
       "></iframe>\n"
      ]
     },
     "metadata": {},
     "output_type": "display_data"
    }
   ],
   "source": [
    "monthly_income = px.histogram(data_frame=training_data,x='NumberOfDependents',nbins=20,\n",
    "             log_y=True,orientation='v',opacity=0.5,marginal='box',\n",
    "             color_discrete_sequence=px.colors.qualitative.Dark2,color=TARGET)\n",
    "pio.show(monthly_income,validate=False,renderer='iframe')"
   ]
  },
  {
   "cell_type": "markdown",
   "id": "5a9a72c8-21f6-45bb-9223-1f50819e20a4",
   "metadata": {},
   "source": [
    "### Insights : \n",
    "From Above chart : \n",
    "1. Both 1 and 0 class in financial distress have outlier, \n",
    "2. From the spreead looks like the one with financial distress = 0 , has "
   ]
  },
  {
   "cell_type": "markdown",
   "id": "4dcd7c85-be2d-4640-846b-fc7d2c372165",
   "metadata": {},
   "source": [
    "### Hypothesis \n",
    "people with higher debt ratio tend to have higher debt ratio\n",
    "1st remove outlier first"
   ]
  },
  {
   "cell_type": "code",
   "execution_count": 12,
   "id": "6d690c23-8427-4f75-b8ee-ab1fe3a5da9c",
   "metadata": {},
   "outputs": [],
   "source": [
    "## \n",
    "temp_income = clean_outlier_per_column(data=training_data,column='MonthlyIncome')"
   ]
  },
  {
   "cell_type": "code",
   "execution_count": null,
   "id": "91190158-e7a8-4f85-9c15-f12c2d6c56b0",
   "metadata": {},
   "outputs": [],
   "source": []
  },
  {
   "cell_type": "markdown",
   "id": "446c283f-5c9e-49fc-a5dc-4a7628eee156",
   "metadata": {},
   "source": [
    "## NumberOfOpenCreditLinesAndLoans"
   ]
  },
  {
   "cell_type": "code",
   "execution_count": 113,
   "id": "822fe962-64fd-4afb-949f-e96826d5f9ad",
   "metadata": {},
   "outputs": [],
   "source": [
    "temp_num_credit = clean_outlier_per_column(data=training_data,column='NumberOfOpenCreditLinesAndLoans')"
   ]
  },
  {
   "cell_type": "code",
   "execution_count": 17,
   "id": "c793fdd4-4814-4bea-b844-a3bd82903974",
   "metadata": {},
   "outputs": [
    {
     "data": {
      "text/plain": [
       "<seaborn.axisgrid.FacetGrid at 0x7f98762bf100>"
      ]
     },
     "execution_count": 17,
     "metadata": {},
     "output_type": "execute_result"
    },
    {
     "data": {
      "image/png": "[encoded data removed]",
      "text/plain": [
       "<Figure size 640x480 with 1 Axes>"
      ]
     },
     "metadata": {},
     "output_type": "display_data"
    },
    {
     "data": {
      "image/png": "[encoded data removed]",
      "text/plain": [
       "<Figure size 628.361x500 with 1 Axes>"
      ]
     },
     "metadata": {},
     "output_type": "display_data"
    }
   ],
   "source": [
    "sns.boxplot(data=training_data,y='NumberOfOpenCreditLinesAndLoans',x=TARGET)\n",
    "sns.displot(data=training_data,x='NumberOfOpenCreditLinesAndLoans',kind='kde',hue=TARGET)"
   ]
  },
  {
   "cell_type": "markdown",
   "id": "b448e375-362a-4904-be0c-a7428db112ea",
   "metadata": {},
   "source": [
    "### Insights : \n"
   ]
  },
  {
   "cell_type": "code",
   "execution_count": 23,
   "id": "021bd5b4-a5a0-4290-8fcc-37ff6ae8a74a",
   "metadata": {},
   "outputs": [
    {
     "name": "stdout",
     "output_type": "stream",
     "text": [
      "Median TARGET==1 0     6554\n",
      "1     1765\n",
      "2      776\n",
      "3      385\n",
      "4      195\n",
      "98     143\n",
      "5       83\n",
      "6       48\n",
      "7       31\n",
      "8       15\n",
      "9       14\n",
      "10       5\n",
      "96       4\n",
      "11       3\n",
      "13       2\n",
      "17       1\n",
      "14       1\n",
      "12       1\n",
      "Name: NumberOfTimes90DaysLate, dtype: int64\n",
      "Median TARGET==0 0     135108\n",
      "1       3478\n",
      "2        779\n",
      "3        282\n",
      "98       121\n",
      "4         96\n",
      "5         48\n",
      "6         32\n",
      "7          7\n",
      "8          6\n",
      "9          5\n",
      "10         3\n",
      "11         2\n",
      "15         2\n",
      "13         2\n",
      "14         1\n",
      "96         1\n",
      "12         1\n",
      "Name: NumberOfTimes90DaysLate, dtype: int64\n"
     ]
    }
   ],
   "source": [
    "print('Median TARGET==1',training_data.loc[training_data[TARGET]==1,'NumberOfTimes90DaysLate'].value_counts())\n",
    "print('Median TARGET==0',training_data.loc[training_data[TARGET]==0,'NumberOfTimes90DaysLate'].value_counts())\n"
   ]
  }
 ],
 "metadata": {
  "kernelspec": {
   "display_name": "Python 3 (ipykernel)",
   "language": "python",
   "name": "python3"
  },
  "language_info": {
   "codemirror_mode": {
    "name": "ipython",
    "version": 3
   },
   "file_extension": ".py",
   "mimetype": "text/x-python",
   "name": "python",
   "nbconvert_exporter": "python",
   "pygments_lexer": "ipython3",
   "version": "3.8.10"
  },
  "vscode": {
   "interpreter": {
    "hash": "8269318a8605a830670217f7df3614c869f753d4d60ba3e7b2ffd93860a98d26"
   }
  }
 },
 "nbformat": 4,
 "nbformat_minor": 5
}
