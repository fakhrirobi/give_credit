{
 "cells": [
  {
   "cell_type": "code",
   "execution_count": 19,
   "id": "f869fb15-e5c3-46a6-8667-db5f4c3c2543",
   "metadata": {},
   "outputs": [],
   "source": [
    "import pandas as pd \n",
    "import numpy as np \n",
    "import os\n",
    "import kaleido\n",
    "import joblib\n",
    "from sklearn.inspection import permutation_importance\n",
    "from sklearn.model_selection import train_test_split,StratifiedKFold\n",
    "\n",
    "from sklearn.calibration import CalibratedClassifierCV, CalibrationDisplay\n",
    "from sklearn import metrics\n",
    "import lightgbm as lgb\n",
    "from lightgbm import LGBMClassifier\n",
    "from sklearn.linear_model import LogisticRegression\n",
    "from config.path_config import ROOT_DIR\n",
    "import plotly.io as pio\n",
    "import matplotlib.pyplot as plt\n",
    "CONFIG_PATH = \"\"\n",
    "TARGET = \"SeriousDlqin2yrs\"\n",
    "\n",
    "TRAINING_PATH = os.path.join(ROOT_DIR,\"data\",\"processed\",\"processed_training_5_exp_tuned.csv\")\n",
    "submission_path = os.path.join(ROOT_DIR,\"data\",\"raw\",\"sampleEntry.csv\")\n",
    "TEST_PATH = os.path.join(ROOT_DIR,\"data\",\"processed\",\"processed_5_forth_exp_tuned.csv\")\n",
    "WRANGLED_DATA = os.path.join(ROOT_DIR,\"data\",\"interim\",\"interim_training_forth_exp_tuned.csv\")\n",
    "\n",
    "MODEL_PATH = os.path.join(ROOT_DIR,\"models\",\"LGBMClassifier_exp_class_weight.joblib\")"
   ]
  },
  {
   "cell_type": "code",
   "execution_count": 29,
   "id": "0c407b8a-ba5a-4549-9ae1-f614d62f0af3",
   "metadata": {},
   "outputs": [],
   "source": [
    "test_data = pd.read_csv(TEST_PATH)\n",
    "submission = pd.read_csv(submission_path)\n",
    "model = joblib.load(MODEL_PATH)\n",
    "data = pd.read_csv(TRAINING_PATH)\n",
    "#split into X and Y \n",
    "X = data.drop(TARGET,axis=1)\n",
    "y = data[TARGET]\n",
    "\n",
    "X_train,X_val,y_train,y_val = train_test_split(X,y,test_size=0.2)"
   ]
  },
  {
   "cell_type": "code",
   "execution_count": 30,
   "id": "81496979-bfe8-4ed4-a423-935d5aff88cd",
   "metadata": {},
   "outputs": [
    {
     "name": "stdout",
     "output_type": "stream",
     "text": [
      "[LightGBM] [Warning] lambda_l1 is set=0.0004979634231918787, reg_alpha=0.0 will be ignored. Current value: lambda_l1=0.0004979634231918787\n",
      "[LightGBM] [Warning] feature_fraction is set=0.6437564293684458, colsample_bytree=1.0 will be ignored. Current value: feature_fraction=0.6437564293684458\n",
      "[LightGBM] [Warning] bagging_freq is set=9, subsample_freq=0 will be ignored. Current value: bagging_freq=9\n",
      "[LightGBM] [Warning] lambda_l2 is set=8.888178821370811, reg_lambda=0.0 will be ignored. Current value: lambda_l2=8.888178821370811\n",
      "[LightGBM] [Warning] bagging_fraction is set=0.8402914515480595, subsample=1.0 will be ignored. Current value: bagging_fraction=0.8402914515480595\n",
      "[LightGBM] [Warning] lambda_l1 is set=0.0004979634231918787, reg_alpha=0.0 will be ignored. Current value: lambda_l1=0.0004979634231918787\n",
      "[LightGBM] [Warning] feature_fraction is set=0.6437564293684458, colsample_bytree=1.0 will be ignored. Current value: feature_fraction=0.6437564293684458\n",
      "[LightGBM] [Warning] bagging_freq is set=9, subsample_freq=0 will be ignored. Current value: bagging_freq=9\n",
      "[LightGBM] [Warning] lambda_l2 is set=8.888178821370811, reg_lambda=0.0 will be ignored. Current value: lambda_l2=8.888178821370811\n",
      "[LightGBM] [Warning] bagging_fraction is set=0.8402914515480595, subsample=1.0 will be ignored. Current value: bagging_fraction=0.8402914515480595\n",
      "[LightGBM] [Warning] lambda_l1 is set=0.0004979634231918787, reg_alpha=0.0 will be ignored. Current value: lambda_l1=0.0004979634231918787\n",
      "[LightGBM] [Warning] feature_fraction is set=0.6437564293684458, colsample_bytree=1.0 will be ignored. Current value: feature_fraction=0.6437564293684458\n",
      "[LightGBM] [Warning] bagging_freq is set=9, subsample_freq=0 will be ignored. Current value: bagging_freq=9\n",
      "[LightGBM] [Warning] lambda_l2 is set=8.888178821370811, reg_lambda=0.0 will be ignored. Current value: lambda_l2=8.888178821370811\n",
      "[LightGBM] [Warning] bagging_fraction is set=0.8402914515480595, subsample=1.0 will be ignored. Current value: bagging_fraction=0.8402914515480595\n",
      "[LightGBM] [Warning] lambda_l1 is set=0.0004979634231918787, reg_alpha=0.0 will be ignored. Current value: lambda_l1=0.0004979634231918787\n",
      "[LightGBM] [Warning] feature_fraction is set=0.6437564293684458, colsample_bytree=1.0 will be ignored. Current value: feature_fraction=0.6437564293684458\n",
      "[LightGBM] [Warning] bagging_freq is set=9, subsample_freq=0 will be ignored. Current value: bagging_freq=9\n",
      "[LightGBM] [Warning] lambda_l2 is set=8.888178821370811, reg_lambda=0.0 will be ignored. Current value: lambda_l2=8.888178821370811\n",
      "[LightGBM] [Warning] bagging_fraction is set=0.8402914515480595, subsample=1.0 will be ignored. Current value: bagging_fraction=0.8402914515480595\n",
      "[LightGBM] [Warning] lambda_l1 is set=0.0004979634231918787, reg_alpha=0.0 will be ignored. Current value: lambda_l1=0.0004979634231918787\n",
      "[LightGBM] [Warning] feature_fraction is set=0.6437564293684458, colsample_bytree=1.0 will be ignored. Current value: feature_fraction=0.6437564293684458\n",
      "[LightGBM] [Warning] bagging_freq is set=9, subsample_freq=0 will be ignored. Current value: bagging_freq=9\n",
      "[LightGBM] [Warning] lambda_l2 is set=8.888178821370811, reg_lambda=0.0 will be ignored. Current value: lambda_l2=8.888178821370811\n",
      "[LightGBM] [Warning] bagging_fraction is set=0.8402914515480595, subsample=1.0 will be ignored. Current value: bagging_fraction=0.8402914515480595\n"
     ]
    },
    {
     "data": {
      "text/html": [
       "<style>#sk-container-id-1 {color: black;background-color: white;}#sk-container-id-1 pre{padding: 0;}#sk-container-id-1 div.sk-toggleable {background-color: white;}#sk-container-id-1 label.sk-toggleable__label {cursor: pointer;display: block;width: 100%;margin-bottom: 0;padding: 0.3em;box-sizing: border-box;text-align: center;}#sk-container-id-1 label.sk-toggleable__label-arrow:before {content: \"▸\";float: left;margin-right: 0.25em;color: #696969;}#sk-container-id-1 label.sk-toggleable__label-arrow:hover:before {color: black;}#sk-container-id-1 div.sk-estimator:hover label.sk-toggleable__label-arrow:before {color: black;}#sk-container-id-1 div.sk-toggleable__content {max-height: 0;max-width: 0;overflow: hidden;text-align: left;background-color: #f0f8ff;}#sk-container-id-1 div.sk-toggleable__content pre {margin: 0.2em;color: black;border-radius: 0.25em;background-color: #f0f8ff;}#sk-container-id-1 input.sk-toggleable__control:checked~div.sk-toggleable__content {max-height: 200px;max-width: 100%;overflow: auto;}#sk-container-id-1 input.sk-toggleable__control:checked~label.sk-toggleable__label-arrow:before {content: \"▾\";}#sk-container-id-1 div.sk-estimator input.sk-toggleable__control:checked~label.sk-toggleable__label {background-color: #d4ebff;}#sk-container-id-1 div.sk-label input.sk-toggleable__control:checked~label.sk-toggleable__label {background-color: #d4ebff;}#sk-container-id-1 input.sk-hidden--visually {border: 0;clip: rect(1px 1px 1px 1px);clip: rect(1px, 1px, 1px, 1px);height: 1px;margin: -1px;overflow: hidden;padding: 0;position: absolute;width: 1px;}#sk-container-id-1 div.sk-estimator {font-family: monospace;background-color: #f0f8ff;border: 1px dotted black;border-radius: 0.25em;box-sizing: border-box;margin-bottom: 0.5em;}#sk-container-id-1 div.sk-estimator:hover {background-color: #d4ebff;}#sk-container-id-1 div.sk-parallel-item::after {content: \"\";width: 100%;border-bottom: 1px solid gray;flex-grow: 1;}#sk-container-id-1 div.sk-label:hover label.sk-toggleable__label {background-color: #d4ebff;}#sk-container-id-1 div.sk-serial::before {content: \"\";position: absolute;border-left: 1px solid gray;box-sizing: border-box;top: 0;bottom: 0;left: 50%;z-index: 0;}#sk-container-id-1 div.sk-serial {display: flex;flex-direction: column;align-items: center;background-color: white;padding-right: 0.2em;padding-left: 0.2em;position: relative;}#sk-container-id-1 div.sk-item {position: relative;z-index: 1;}#sk-container-id-1 div.sk-parallel {display: flex;align-items: stretch;justify-content: center;background-color: white;position: relative;}#sk-container-id-1 div.sk-item::before, #sk-container-id-1 div.sk-parallel-item::before {content: \"\";position: absolute;border-left: 1px solid gray;box-sizing: border-box;top: 0;bottom: 0;left: 50%;z-index: -1;}#sk-container-id-1 div.sk-parallel-item {display: flex;flex-direction: column;z-index: 1;position: relative;background-color: white;}#sk-container-id-1 div.sk-parallel-item:first-child::after {align-self: flex-end;width: 50%;}#sk-container-id-1 div.sk-parallel-item:last-child::after {align-self: flex-start;width: 50%;}#sk-container-id-1 div.sk-parallel-item:only-child::after {width: 0;}#sk-container-id-1 div.sk-dashed-wrapped {border: 1px dashed gray;margin: 0 0.4em 0.5em 0.4em;box-sizing: border-box;padding-bottom: 0.4em;background-color: white;}#sk-container-id-1 div.sk-label label {font-family: monospace;font-weight: bold;display: inline-block;line-height: 1.2em;}#sk-container-id-1 div.sk-label-container {text-align: center;}#sk-container-id-1 div.sk-container {/* jupyter's `normalize.less` sets `[hidden] { display: none; }` but bootstrap.min.css set `[hidden] { display: none !important; }` so we also need the `!important` here to be able to override the default hidden behavior on the sphinx rendered scikit-learn.org. See: https://github.com/scikit-learn/scikit-learn/issues/21755 */display: inline-block !important;position: relative;}#sk-container-id-1 div.sk-text-repr-fallback {display: none;}</style><div id=\"sk-container-id-1\" class=\"sk-top-container\"><div class=\"sk-text-repr-fallback\"><pre>CalibratedClassifierCV(cv=5,\n",
       "                       estimator=LGBMClassifier(bagging_fraction=0.8402914515480595,\n",
       "                                                bagging_freq=9,\n",
       "                                                class_weight=&#x27;balanced&#x27;,\n",
       "                                                feature_fraction=0.6437564293684458,\n",
       "                                                lambda_l1=0.0004979634231918787,\n",
       "                                                lambda_l2=8.888178821370811,\n",
       "                                                max_depth=29,\n",
       "                                                min_child_samples=115,\n",
       "                                                num_leaves=48),\n",
       "                       method=&#x27;isotonic&#x27;)</pre><b>In a Jupyter environment, please rerun this cell to show the HTML representation or trust the notebook. <br />On GitHub, the HTML representation is unable to render, please try loading this page with nbviewer.org.</b></div><div class=\"sk-container\" hidden><div class=\"sk-item sk-dashed-wrapped\"><div class=\"sk-label-container\"><div class=\"sk-label sk-toggleable\"><input class=\"sk-toggleable__control sk-hidden--visually\" id=\"sk-estimator-id-1\" type=\"checkbox\" ><label for=\"sk-estimator-id-1\" class=\"sk-toggleable__label sk-toggleable__label-arrow\">CalibratedClassifierCV</label><div class=\"sk-toggleable__content\"><pre>CalibratedClassifierCV(cv=5,\n",
       "                       estimator=LGBMClassifier(bagging_fraction=0.8402914515480595,\n",
       "                                                bagging_freq=9,\n",
       "                                                class_weight=&#x27;balanced&#x27;,\n",
       "                                                feature_fraction=0.6437564293684458,\n",
       "                                                lambda_l1=0.0004979634231918787,\n",
       "                                                lambda_l2=8.888178821370811,\n",
       "                                                max_depth=29,\n",
       "                                                min_child_samples=115,\n",
       "                                                num_leaves=48),\n",
       "                       method=&#x27;isotonic&#x27;)</pre></div></div></div><div class=\"sk-parallel\"><div class=\"sk-parallel-item\"><div class=\"sk-item\"><div class=\"sk-label-container\"><div class=\"sk-label sk-toggleable\"><input class=\"sk-toggleable__control sk-hidden--visually\" id=\"sk-estimator-id-2\" type=\"checkbox\" ><label for=\"sk-estimator-id-2\" class=\"sk-toggleable__label sk-toggleable__label-arrow\">estimator: LGBMClassifier</label><div class=\"sk-toggleable__content\"><pre>LGBMClassifier(bagging_fraction=0.8402914515480595, bagging_freq=9,\n",
       "               class_weight=&#x27;balanced&#x27;, feature_fraction=0.6437564293684458,\n",
       "               lambda_l1=0.0004979634231918787, lambda_l2=8.888178821370811,\n",
       "               max_depth=29, min_child_samples=115, num_leaves=48)</pre></div></div></div><div class=\"sk-serial\"><div class=\"sk-item\"><div class=\"sk-estimator sk-toggleable\"><input class=\"sk-toggleable__control sk-hidden--visually\" id=\"sk-estimator-id-3\" type=\"checkbox\" ><label for=\"sk-estimator-id-3\" class=\"sk-toggleable__label sk-toggleable__label-arrow\">LGBMClassifier</label><div class=\"sk-toggleable__content\"><pre>LGBMClassifier(bagging_fraction=0.8402914515480595, bagging_freq=9,\n",
       "               class_weight=&#x27;balanced&#x27;, feature_fraction=0.6437564293684458,\n",
       "               lambda_l1=0.0004979634231918787, lambda_l2=8.888178821370811,\n",
       "               max_depth=29, min_child_samples=115, num_leaves=48)</pre></div></div></div></div></div></div></div></div></div></div>"
      ],
      "text/plain": [
       "CalibratedClassifierCV(cv=5,\n",
       "                       estimator=LGBMClassifier(bagging_fraction=0.8402914515480595,\n",
       "                                                bagging_freq=9,\n",
       "                                                class_weight='balanced',\n",
       "                                                feature_fraction=0.6437564293684458,\n",
       "                                                lambda_l1=0.0004979634231918787,\n",
       "                                                lambda_l2=8.888178821370811,\n",
       "                                                max_depth=29,\n",
       "                                                min_child_samples=115,\n",
       "                                                num_leaves=48),\n",
       "                       method='isotonic')"
      ]
     },
     "execution_count": 30,
     "metadata": {},
     "output_type": "execute_result"
    }
   ],
   "source": [
    "latest_params = {'lambda_l1': 0.0004979634231918787, 'lambda_l2': 8.888178821370811, 'num_leaves': 48, 'max_depth': 29, 'feature_fraction': 0.6437564293684458, 'bagging_fraction': 0.8402914515480595, 'bagging_freq': 9, 'min_child_samples': 115}\n",
    "clf_model = LGBMClassifier(**latest_params,class_weight='balanced')\n",
    "lgb_isotonic = CalibratedClassifierCV(clf_model, cv=5, method=\"isotonic\",ensemble=True)\n",
    "lgb_isotonic.fit(X,y)"
   ]
  },
  {
   "cell_type": "code",
   "execution_count": 31,
   "id": "c894f32f-93f2-47b1-816c-7dbb61d2d6d4",
   "metadata": {},
   "outputs": [],
   "source": [
    "pred = lgb_isotonic.predict_proba(test_data)\n",
    "submission['Probability'] = pred[:, 1]\n",
    "submission.to_csv('submission_weighted_class.csv',index=False)"
   ]
  },
  {
   "cell_type": "code",
   "execution_count": 23,
   "id": "a90adae0-f93d-4663-9dbe-bed753ab2f42",
   "metadata": {},
   "outputs": [],
   "source": []
  },
  {
   "cell_type": "code",
   "execution_count": 24,
   "id": "6507a68f-563d-4a69-8e20-fb8898c5e5ed",
   "metadata": {},
   "outputs": [],
   "source": []
  },
  {
   "cell_type": "code",
   "execution_count": null,
   "id": "7dea4b15-05d6-42dc-8181-2919600c0f13",
   "metadata": {},
   "outputs": [],
   "source": []
  }
 ],
 "metadata": {
  "kernelspec": {
   "display_name": "Python 3 (ipykernel)",
   "language": "python",
   "name": "python3"
  },
  "language_info": {
   "codemirror_mode": {
    "name": "ipython",
    "version": 3
   },
   "file_extension": ".py",
   "mimetype": "text/x-python",
   "name": "python",
   "nbconvert_exporter": "python",
   "pygments_lexer": "ipython3",
   "version": "3.8.10"
  }
 },
 "nbformat": 4,
 "nbformat_minor": 5
}
