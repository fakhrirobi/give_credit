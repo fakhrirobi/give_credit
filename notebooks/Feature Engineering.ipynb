{
 "cells": [
  {
   "cell_type": "code",
   "execution_count": 26,
   "id": "dab987c3-1f10-4a78-8f1c-b360626d2c0b",
   "metadata": {},
   "outputs": [],
   "source": [
    "import pandas as pd \n",
    "import numpy as np \n",
    "import os \n",
    "from config.path_config import ROOT_DIR\n",
    "from sklearn.model_selection import train_test_split,StratifiedKFold\n",
    "from sklearn.metrics import silhouette_samples, silhouette_score,davies_bouldin_score\n",
    "from sklearn.cluster import KMeans\n",
    "from sklearn import metrics\n",
    "from lightgbm import LGBMClassifier\n",
    "TARGET = \"SeriousDlqin2yrs\"\n",
    "TRAINING_PATH = os.path.join(ROOT_DIR,\"data\",\"processed\",\"processed_training_forth_exp_tuned.csv\")"
   ]
  },
  {
   "cell_type": "code",
   "execution_count": 13,
   "id": "e2d8d497-8be9-4e29-9d23-eaf6fa2b562f",
   "metadata": {},
   "outputs": [],
   "source": [
    "training_data = pd.read_csv(TRAINING_PATH)"
   ]
  },
  {
   "cell_type": "code",
   "execution_count": 14,
   "id": "daec41d0-9cc7-4419-86d6-cf23f385f2a9",
   "metadata": {},
   "outputs": [],
   "source": [
    "#PERFORM ANOTHER FEATURE ENGINEERING -> KMeans for number of days late \n",
    "\n",
    "\n",
    "feature_number_of_lates = ['NumberOfTimes90DaysLate','NumberOfTime60-89DaysPastDueNotWorse','NumberOfTime30-59DaysPastDueNotWorse']\n",
    "data=training_data[feature_number_of_lates]\n",
    "clusterer = KMeans(n_clusters=4,n_init=10, random_state=10)\n",
    "cluster_labels = clusterer.fit_predict(data)\n",
    "# silhouette_avg = silhouette_score(data, cluster_labels)\n",
    "# print(\"For n_clusters =\", 3,\n",
    "#       \"The average silhouette_score is :\", silhouette_avg)"
   ]
  },
  {
   "cell_type": "code",
   "execution_count": 15,
   "id": "fd84f55b-cfca-4825-a569-7f786a751c4f",
   "metadata": {},
   "outputs": [],
   "source": [
    "training_data['late_labels_cluster'] = cluster_labels"
   ]
  },
  {
   "cell_type": "code",
   "execution_count": 31,
   "id": "29270805-1bfc-4dff-9535-5a75920811a3",
   "metadata": {},
   "outputs": [],
   "source": [
    "#split into X and Y \n",
    "X = training_data.drop([TARGET,'late_labels_cluster'],axis=1)\n",
    "Y = training_data[TARGET]"
   ]
  },
  {
   "cell_type": "code",
   "execution_count": 32,
   "id": "d64b2097-7768-4f2b-a6c6-3f85eb5e8270",
   "metadata": {},
   "outputs": [],
   "source": [
    "fold = StratifiedKFold(5)\n",
    "scoring_dict = {\"auc\":[]}\n",
    "for train_idx, test_idx in fold.split(X, Y):\n",
    "    train_x, val_x = X.iloc[train_idx], X.iloc[test_idx]\n",
    "    train_y, val_y = Y.iloc[train_idx], Y.iloc[test_idx]\n",
    "    # train model\n",
    "\n",
    "    model = LGBMClassifier()\n",
    "    model.fit(train_x, train_y)\n",
    "\n",
    "    y_pred = model.predict_proba(val_x)\n",
    "    # calculate metrics\n",
    "    scoring_dict[\"auc\"].append(metrics.roc_auc_score(val_y, y_pred[:, 1]))"
   ]
  },
  {
   "cell_type": "code",
   "execution_count": 33,
   "id": "70cde3b2-4fc2-4db5-93b5-215e8e6d8f91",
   "metadata": {},
   "outputs": [
    {
     "data": {
      "text/plain": [
       "0.8645873614338461"
      ]
     },
     "execution_count": 33,
     "metadata": {},
     "output_type": "execute_result"
    }
   ],
   "source": [
    "np.mean(scoring_dict['auc'])"
   ]
  },
  {
   "cell_type": "code",
   "execution_count": 34,
   "id": "160026ca-4732-443f-9c59-f36bf615957b",
   "metadata": {},
   "outputs": [],
   "source": [
    "#split into X and Y \n",
    "X = training_data.drop([TARGET],axis=1)\n",
    "Y = training_data[TARGET]"
   ]
  },
  {
   "cell_type": "code",
   "execution_count": 35,
   "id": "4e5494d8-7b49-460f-a14a-623b3e809594",
   "metadata": {},
   "outputs": [],
   "source": [
    "fold = StratifiedKFold(5)\n",
    "scoring_dict = {\"auc\":[]}\n",
    "for train_idx, test_idx in fold.split(X, Y):\n",
    "    train_x, val_x = X.iloc[train_idx], X.iloc[test_idx]\n",
    "    train_y, val_y = Y.iloc[train_idx], Y.iloc[test_idx]\n",
    "    # train model\n",
    "\n",
    "    model = LGBMClassifier()\n",
    "    model.fit(train_x, train_y)\n",
    "\n",
    "    y_pred = model.predict_proba(val_x)\n",
    "    # calculate metrics\n",
    "    scoring_dict[\"auc\"].append(metrics.roc_auc_score(val_y, y_pred[:, 1]))"
   ]
  },
  {
   "cell_type": "code",
   "execution_count": 36,
   "id": "1df9a15f-6730-4467-90f3-0d0a94801449",
   "metadata": {},
   "outputs": [
    {
     "data": {
      "text/plain": [
       "0.8648491661593176"
      ]
     },
     "execution_count": 36,
     "metadata": {},
     "output_type": "execute_result"
    }
   ],
   "source": [
    "np.mean(scoring_dict['auc'])"
   ]
  },
  {
   "cell_type": "code",
   "execution_count": null,
   "id": "f883ddfe-8fcd-4461-be01-75b7288b287f",
   "metadata": {},
   "outputs": [],
   "source": []
  }
 ],
 "metadata": {
  "kernelspec": {
   "display_name": "Python 3 (ipykernel)",
   "language": "python",
   "name": "python3"
  },
  "language_info": {
   "codemirror_mode": {
    "name": "ipython",
    "version": 3
   },
   "file_extension": ".py",
   "mimetype": "text/x-python",
   "name": "python",
   "nbconvert_exporter": "python",
   "pygments_lexer": "ipython3",
   "version": "3.8.10"
  }
 },
 "nbformat": 4,
 "nbformat_minor": 5
}
