{
 "cells": [
  {
   "cell_type": "code",
   "execution_count": 1,
   "id": "4b8d1610-c512-4139-b9e9-3b4d0a927d6a",
   "metadata": {},
   "outputs": [],
   "source": [
    "import pandas as pd \n",
    "import numpy as np \n",
    "import os\n",
    "import kaleido\n",
    "from sklearn.inspection import permutation_importance\n",
    "from sklearn.model_selection import train_test_split,StratifiedKFold\n",
    "\n",
    "from sklearn.calibration import CalibratedClassifierCV, CalibrationDisplay\n",
    "from sklearn.utils import compute_class_weight\n",
    "from sklearn import metrics\n",
    "import lightgbm as lgb\n",
    "from lightgbm import LGBMClassifier\n",
    "from sklearn.linear_model import LogisticRegression\n",
    "from config.path_config import ROOT_DIR\n",
    "import plotly.io as pio\n",
    "import matplotlib.pyplot as plt\n",
    "CONFIG_PATH = \"\"\n",
    "TARGET = \"SeriousDlqin2yrs\"\n",
    "\n",
    "TRAINING_PATH = os.path.join(ROOT_DIR,\"data\",\"processed\",\"processed_training_5_exp_tuned.csv\")\n",
    "WRANGLED_DATA = os.path.join(ROOT_DIR,\"data\",\"interim\",\"interim_training_forth_exp_tuned.csv\")"
   ]
  },
  {
   "cell_type": "code",
   "execution_count": 2,
   "id": "5c8d9557-be77-4299-8755-e7e05a8d33f6",
   "metadata": {},
   "outputs": [],
   "source": [
    "data = pd.read_csv(TRAINING_PATH)\n",
    "#split into X and Y \n",
    "X = data.drop(TARGET,axis=1)\n",
    "y = data[TARGET]\n",
    "\n",
    "X_train,X_val,y_train,y_val = train_test_split(X,y,test_size=0.2)"
   ]
  },
  {
   "cell_type": "code",
   "execution_count": 3,
   "id": "a1908c39-3882-46a4-86d5-17e4b170b5b0",
   "metadata": {},
   "outputs": [
    {
     "data": {
      "text/plain": [
       "0         1\n",
       "1         0\n",
       "2         0\n",
       "3         0\n",
       "4         0\n",
       "         ..\n",
       "149995    0\n",
       "149996    0\n",
       "149997    0\n",
       "149998    0\n",
       "149999    0\n",
       "Name: SeriousDlqin2yrs, Length: 150000, dtype: int64"
      ]
     },
     "execution_count": 3,
     "metadata": {},
     "output_type": "execute_result"
    }
   ],
   "source": [
    "y\n"
   ]
  },
  {
   "cell_type": "code",
   "execution_count": 4,
   "id": "bb2da52b-fead-4560-911d-05b987f2d55e",
   "metadata": {},
   "outputs": [],
   "source": [
    "#define cross validation \n",
    "\n",
    "fold = StratifiedKFold(5)\n",
    "def begin_cross_validation(X,Y,model,fold=fold) : \n",
    "    scoring_dict = {'auc':[]}\n",
    "    for train_idx,test_idx in fold.split(X,Y) : \n",
    "        train_x,val_x = X.iloc[train_idx],X.iloc[test_idx]\n",
    "        train_y,val_y = Y.iloc[train_idx],Y.iloc[test_idx]\n",
    "        #train model \n",
    "\n",
    "        model.fit(train_x,train_y)\n",
    "        y_pred = model.predict_proba(val_x)\n",
    "        #calculate metrics \n",
    "        scoring_dict[\"auc\"].append(metrics.roc_auc_score(val_y, y_pred[:, 1]))\n",
    "\n",
    "\n",
    "    #print the scoring \n",
    "    print(f'''Scoring: AUC :{np.mean(scoring_dict['auc'])}\n",
    "     ''')\n",
    "    return np.mean(scoring_dict['auc'])"
   ]
  },
  {
   "cell_type": "code",
   "execution_count": 5,
   "id": "d2a3fde7-5aff-4e0d-b8ad-6e1fc3255621",
   "metadata": {},
   "outputs": [
    {
     "name": "stdout",
     "output_type": "stream",
     "text": [
      "Scoring: AUC :0.8645873614338461\n",
      "     \n"
     ]
    },
    {
     "data": {
      "text/plain": [
       "0.8645873614338461"
      ]
     },
     "execution_count": 5,
     "metadata": {},
     "output_type": "execute_result"
    }
   ],
   "source": [
    "\n",
    "clf_model = LGBMClassifier().fit(X,y)\n",
    "begin_cross_validation(X,y,model=clf_model)"
   ]
  },
  {
   "cell_type": "code",
   "execution_count": 6,
   "id": "ee907bf6-f74c-474b-860c-03ee786e0f81",
   "metadata": {},
   "outputs": [],
   "source": [
    "weight = compute_class_weight(class_weight = 'balanced', \n",
    "                                      classes = np.unique(y_train), \n",
    "                                      y = y_train)"
   ]
  },
  {
   "cell_type": "code",
   "execution_count": 7,
   "id": "82e4a8a3-ad0e-461e-b00e-c31af2a37482",
   "metadata": {},
   "outputs": [],
   "source": [
    "latest_params = {'lambda_l1': 0.0004979634231918787, 'lambda_l2': 8.888178821370811, 'num_leaves': 48, 'max_depth': 29, 'feature_fraction': 0.6437564293684458, 'bagging_fraction': 0.8402914515480595, 'bagging_freq': 9, 'min_child_samples': 115}"
   ]
  },
  {
   "cell_type": "code",
   "execution_count": 8,
   "id": "347f2f39-d30b-40f8-9cfd-7afb83372c79",
   "metadata": {},
   "outputs": [
    {
     "name": "stdout",
     "output_type": "stream",
     "text": [
      "[LightGBM] [Warning] lambda_l1 is set=0.0004979634231918787, reg_alpha=0.0 will be ignored. Current value: lambda_l1=0.0004979634231918787\n",
      "[LightGBM] [Warning] feature_fraction is set=0.6437564293684458, colsample_bytree=1.0 will be ignored. Current value: feature_fraction=0.6437564293684458\n",
      "[LightGBM] [Warning] bagging_freq is set=9, subsample_freq=0 will be ignored. Current value: bagging_freq=9\n",
      "[LightGBM] [Warning] lambda_l2 is set=8.888178821370811, reg_lambda=0.0 will be ignored. Current value: lambda_l2=8.888178821370811\n",
      "[LightGBM] [Warning] bagging_fraction is set=0.8402914515480595, subsample=1.0 will be ignored. Current value: bagging_fraction=0.8402914515480595\n"
     ]
    },
    {
     "data": {
      "text/html": [
       "<style>#sk-container-id-1 {color: black;background-color: white;}#sk-container-id-1 pre{padding: 0;}#sk-container-id-1 div.sk-toggleable {background-color: white;}#sk-container-id-1 label.sk-toggleable__label {cursor: pointer;display: block;width: 100%;margin-bottom: 0;padding: 0.3em;box-sizing: border-box;text-align: center;}#sk-container-id-1 label.sk-toggleable__label-arrow:before {content: \"▸\";float: left;margin-right: 0.25em;color: #696969;}#sk-container-id-1 label.sk-toggleable__label-arrow:hover:before {color: black;}#sk-container-id-1 div.sk-estimator:hover label.sk-toggleable__label-arrow:before {color: black;}#sk-container-id-1 div.sk-toggleable__content {max-height: 0;max-width: 0;overflow: hidden;text-align: left;background-color: #f0f8ff;}#sk-container-id-1 div.sk-toggleable__content pre {margin: 0.2em;color: black;border-radius: 0.25em;background-color: #f0f8ff;}#sk-container-id-1 input.sk-toggleable__control:checked~div.sk-toggleable__content {max-height: 200px;max-width: 100%;overflow: auto;}#sk-container-id-1 input.sk-toggleable__control:checked~label.sk-toggleable__label-arrow:before {content: \"▾\";}#sk-container-id-1 div.sk-estimator input.sk-toggleable__control:checked~label.sk-toggleable__label {background-color: #d4ebff;}#sk-container-id-1 div.sk-label input.sk-toggleable__control:checked~label.sk-toggleable__label {background-color: #d4ebff;}#sk-container-id-1 input.sk-hidden--visually {border: 0;clip: rect(1px 1px 1px 1px);clip: rect(1px, 1px, 1px, 1px);height: 1px;margin: -1px;overflow: hidden;padding: 0;position: absolute;width: 1px;}#sk-container-id-1 div.sk-estimator {font-family: monospace;background-color: #f0f8ff;border: 1px dotted black;border-radius: 0.25em;box-sizing: border-box;margin-bottom: 0.5em;}#sk-container-id-1 div.sk-estimator:hover {background-color: #d4ebff;}#sk-container-id-1 div.sk-parallel-item::after {content: \"\";width: 100%;border-bottom: 1px solid gray;flex-grow: 1;}#sk-container-id-1 div.sk-label:hover label.sk-toggleable__label {background-color: #d4ebff;}#sk-container-id-1 div.sk-serial::before {content: \"\";position: absolute;border-left: 1px solid gray;box-sizing: border-box;top: 0;bottom: 0;left: 50%;z-index: 0;}#sk-container-id-1 div.sk-serial {display: flex;flex-direction: column;align-items: center;background-color: white;padding-right: 0.2em;padding-left: 0.2em;position: relative;}#sk-container-id-1 div.sk-item {position: relative;z-index: 1;}#sk-container-id-1 div.sk-parallel {display: flex;align-items: stretch;justify-content: center;background-color: white;position: relative;}#sk-container-id-1 div.sk-item::before, #sk-container-id-1 div.sk-parallel-item::before {content: \"\";position: absolute;border-left: 1px solid gray;box-sizing: border-box;top: 0;bottom: 0;left: 50%;z-index: -1;}#sk-container-id-1 div.sk-parallel-item {display: flex;flex-direction: column;z-index: 1;position: relative;background-color: white;}#sk-container-id-1 div.sk-parallel-item:first-child::after {align-self: flex-end;width: 50%;}#sk-container-id-1 div.sk-parallel-item:last-child::after {align-self: flex-start;width: 50%;}#sk-container-id-1 div.sk-parallel-item:only-child::after {width: 0;}#sk-container-id-1 div.sk-dashed-wrapped {border: 1px dashed gray;margin: 0 0.4em 0.5em 0.4em;box-sizing: border-box;padding-bottom: 0.4em;background-color: white;}#sk-container-id-1 div.sk-label label {font-family: monospace;font-weight: bold;display: inline-block;line-height: 1.2em;}#sk-container-id-1 div.sk-label-container {text-align: center;}#sk-container-id-1 div.sk-container {/* jupyter's `normalize.less` sets `[hidden] { display: none; }` but bootstrap.min.css set `[hidden] { display: none !important; }` so we also need the `!important` here to be able to override the default hidden behavior on the sphinx rendered scikit-learn.org. See: https://github.com/scikit-learn/scikit-learn/issues/21755 */display: inline-block !important;position: relative;}#sk-container-id-1 div.sk-text-repr-fallback {display: none;}</style><div id=\"sk-container-id-1\" class=\"sk-top-container\"><div class=\"sk-text-repr-fallback\"><pre>LGBMClassifier(class_weight=&#x27;balanced&#x27;)</pre><b>In a Jupyter environment, please rerun this cell to show the HTML representation or trust the notebook. <br />On GitHub, the HTML representation is unable to render, please try loading this page with nbviewer.org.</b></div><div class=\"sk-container\" hidden><div class=\"sk-item\"><div class=\"sk-estimator sk-toggleable\"><input class=\"sk-toggleable__control sk-hidden--visually\" id=\"sk-estimator-id-1\" type=\"checkbox\" checked><label for=\"sk-estimator-id-1\" class=\"sk-toggleable__label sk-toggleable__label-arrow\">LGBMClassifier</label><div class=\"sk-toggleable__content\"><pre>LGBMClassifier(class_weight=&#x27;balanced&#x27;)</pre></div></div></div></div></div>"
      ],
      "text/plain": [
       "LGBMClassifier(class_weight='balanced')"
      ]
     },
     "execution_count": 8,
     "metadata": {},
     "output_type": "execute_result"
    }
   ],
   "source": [
    "from src.utils.load_config import load_yaml\n",
    "config_path = os.path.join(ROOT_DIR,\"src\",\"experiment_config\",\"exp_class_weight.yaml\")\n",
    "params = load_yaml(config_path)[\"params\"]\n",
    "sklearn_weight = dict(zip(np.unique(y_train), weight))\n",
    "#del params[\"class_weight\"]\n",
    "clf_model = LGBMClassifier(**latest_params,class_weight='balanced')\n",
    "lgb_base = LGBMClassifier(class_weight='balanced')\n",
    "clf_model.fit(X_train,y_train)\n",
    "lgb_base.fit(X_train,y_train)"
   ]
  },
  {
   "cell_type": "code",
   "execution_count": 9,
   "id": "c97a8689-98d4-4308-8212-1240fa359bb9",
   "metadata": {},
   "outputs": [],
   "source": [
    "lgb_isotonic = CalibratedClassifierCV(clf_model, cv=fold, method=\"isotonic\",ensemble=True)\n",
    "lgb_sigmoid = CalibratedClassifierCV(clf_model, cv=fold, method=\"sigmoid\",ensemble=True)\n",
    "lgb_base_iso = CalibratedClassifierCV(lgb_base, cv=fold, method=\"isotonic\",ensemble=True)\n",
    "lgb_base_sig = CalibratedClassifierCV(lgb_base, cv=fold, method=\"sigmoid\",ensemble=True)\n",
    "\n",
    "lr = LogisticRegression(class_weight='balanced',max_iter=10)"
   ]
  },
  {
   "cell_type": "code",
   "execution_count": 10,
   "id": "5921ba00-04e2-41d8-b367-9ac7aa06de7b",
   "metadata": {},
   "outputs": [
    {
     "name": "stdout",
     "output_type": "stream",
     "text": [
      "[LightGBM] [Warning] lambda_l1 is set=0.0004979634231918787, reg_alpha=0.0 will be ignored. Current value: lambda_l1=0.0004979634231918787\n",
      "[LightGBM] [Warning] feature_fraction is set=0.6437564293684458, colsample_bytree=1.0 will be ignored. Current value: feature_fraction=0.6437564293684458\n",
      "[LightGBM] [Warning] bagging_freq is set=9, subsample_freq=0 will be ignored. Current value: bagging_freq=9\n",
      "[LightGBM] [Warning] lambda_l2 is set=8.888178821370811, reg_lambda=0.0 will be ignored. Current value: lambda_l2=8.888178821370811\n",
      "[LightGBM] [Warning] bagging_fraction is set=0.8402914515480595, subsample=1.0 will be ignored. Current value: bagging_fraction=0.8402914515480595\n",
      "[LightGBM] [Warning] lambda_l1 is set=0.0004979634231918787, reg_alpha=0.0 will be ignored. Current value: lambda_l1=0.0004979634231918787\n",
      "[LightGBM] [Warning] feature_fraction is set=0.6437564293684458, colsample_bytree=1.0 will be ignored. Current value: feature_fraction=0.6437564293684458\n",
      "[LightGBM] [Warning] bagging_freq is set=9, subsample_freq=0 will be ignored. Current value: bagging_freq=9\n",
      "[LightGBM] [Warning] lambda_l2 is set=8.888178821370811, reg_lambda=0.0 will be ignored. Current value: lambda_l2=8.888178821370811\n",
      "[LightGBM] [Warning] bagging_fraction is set=0.8402914515480595, subsample=1.0 will be ignored. Current value: bagging_fraction=0.8402914515480595\n",
      "[LightGBM] [Warning] lambda_l1 is set=0.0004979634231918787, reg_alpha=0.0 will be ignored. Current value: lambda_l1=0.0004979634231918787\n",
      "[LightGBM] [Warning] feature_fraction is set=0.6437564293684458, colsample_bytree=1.0 will be ignored. Current value: feature_fraction=0.6437564293684458\n",
      "[LightGBM] [Warning] bagging_freq is set=9, subsample_freq=0 will be ignored. Current value: bagging_freq=9\n",
      "[LightGBM] [Warning] lambda_l2 is set=8.888178821370811, reg_lambda=0.0 will be ignored. Current value: lambda_l2=8.888178821370811\n",
      "[LightGBM] [Warning] bagging_fraction is set=0.8402914515480595, subsample=1.0 will be ignored. Current value: bagging_fraction=0.8402914515480595\n",
      "[LightGBM] [Warning] lambda_l1 is set=0.0004979634231918787, reg_alpha=0.0 will be ignored. Current value: lambda_l1=0.0004979634231918787\n",
      "[LightGBM] [Warning] feature_fraction is set=0.6437564293684458, colsample_bytree=1.0 will be ignored. Current value: feature_fraction=0.6437564293684458\n",
      "[LightGBM] [Warning] bagging_freq is set=9, subsample_freq=0 will be ignored. Current value: bagging_freq=9\n",
      "[LightGBM] [Warning] lambda_l2 is set=8.888178821370811, reg_lambda=0.0 will be ignored. Current value: lambda_l2=8.888178821370811\n",
      "[LightGBM] [Warning] bagging_fraction is set=0.8402914515480595, subsample=1.0 will be ignored. Current value: bagging_fraction=0.8402914515480595\n"
     ]
    },
    {
     "data": {
      "text/html": [
       "<style>#sk-container-id-2 {color: black;background-color: white;}#sk-container-id-2 pre{padding: 0;}#sk-container-id-2 div.sk-toggleable {background-color: white;}#sk-container-id-2 label.sk-toggleable__label {cursor: pointer;display: block;width: 100%;margin-bottom: 0;padding: 0.3em;box-sizing: border-box;text-align: center;}#sk-container-id-2 label.sk-toggleable__label-arrow:before {content: \"▸\";float: left;margin-right: 0.25em;color: #696969;}#sk-container-id-2 label.sk-toggleable__label-arrow:hover:before {color: black;}#sk-container-id-2 div.sk-estimator:hover label.sk-toggleable__label-arrow:before {color: black;}#sk-container-id-2 div.sk-toggleable__content {max-height: 0;max-width: 0;overflow: hidden;text-align: left;background-color: #f0f8ff;}#sk-container-id-2 div.sk-toggleable__content pre {margin: 0.2em;color: black;border-radius: 0.25em;background-color: #f0f8ff;}#sk-container-id-2 input.sk-toggleable__control:checked~div.sk-toggleable__content {max-height: 200px;max-width: 100%;overflow: auto;}#sk-container-id-2 input.sk-toggleable__control:checked~label.sk-toggleable__label-arrow:before {content: \"▾\";}#sk-container-id-2 div.sk-estimator input.sk-toggleable__control:checked~label.sk-toggleable__label {background-color: #d4ebff;}#sk-container-id-2 div.sk-label input.sk-toggleable__control:checked~label.sk-toggleable__label {background-color: #d4ebff;}#sk-container-id-2 input.sk-hidden--visually {border: 0;clip: rect(1px 1px 1px 1px);clip: rect(1px, 1px, 1px, 1px);height: 1px;margin: -1px;overflow: hidden;padding: 0;position: absolute;width: 1px;}#sk-container-id-2 div.sk-estimator {font-family: monospace;background-color: #f0f8ff;border: 1px dotted black;border-radius: 0.25em;box-sizing: border-box;margin-bottom: 0.5em;}#sk-container-id-2 div.sk-estimator:hover {background-color: #d4ebff;}#sk-container-id-2 div.sk-parallel-item::after {content: \"\";width: 100%;border-bottom: 1px solid gray;flex-grow: 1;}#sk-container-id-2 div.sk-label:hover label.sk-toggleable__label {background-color: #d4ebff;}#sk-container-id-2 div.sk-serial::before {content: \"\";position: absolute;border-left: 1px solid gray;box-sizing: border-box;top: 0;bottom: 0;left: 50%;z-index: 0;}#sk-container-id-2 div.sk-serial {display: flex;flex-direction: column;align-items: center;background-color: white;padding-right: 0.2em;padding-left: 0.2em;position: relative;}#sk-container-id-2 div.sk-item {position: relative;z-index: 1;}#sk-container-id-2 div.sk-parallel {display: flex;align-items: stretch;justify-content: center;background-color: white;position: relative;}#sk-container-id-2 div.sk-item::before, #sk-container-id-2 div.sk-parallel-item::before {content: \"\";position: absolute;border-left: 1px solid gray;box-sizing: border-box;top: 0;bottom: 0;left: 50%;z-index: -1;}#sk-container-id-2 div.sk-parallel-item {display: flex;flex-direction: column;z-index: 1;position: relative;background-color: white;}#sk-container-id-2 div.sk-parallel-item:first-child::after {align-self: flex-end;width: 50%;}#sk-container-id-2 div.sk-parallel-item:last-child::after {align-self: flex-start;width: 50%;}#sk-container-id-2 div.sk-parallel-item:only-child::after {width: 0;}#sk-container-id-2 div.sk-dashed-wrapped {border: 1px dashed gray;margin: 0 0.4em 0.5em 0.4em;box-sizing: border-box;padding-bottom: 0.4em;background-color: white;}#sk-container-id-2 div.sk-label label {font-family: monospace;font-weight: bold;display: inline-block;line-height: 1.2em;}#sk-container-id-2 div.sk-label-container {text-align: center;}#sk-container-id-2 div.sk-container {/* jupyter's `normalize.less` sets `[hidden] { display: none; }` but bootstrap.min.css set `[hidden] { display: none !important; }` so we also need the `!important` here to be able to override the default hidden behavior on the sphinx rendered scikit-learn.org. See: https://github.com/scikit-learn/scikit-learn/issues/21755 */display: inline-block !important;position: relative;}#sk-container-id-2 div.sk-text-repr-fallback {display: none;}</style><div id=\"sk-container-id-2\" class=\"sk-top-container\"><div class=\"sk-text-repr-fallback\"><pre>CalibratedClassifierCV(cv=StratifiedKFold(n_splits=5, random_state=None, shuffle=False),\n",
       "                       estimator=LGBMClassifier(bagging_fraction=0.8402914515480595,\n",
       "                                                bagging_freq=9,\n",
       "                                                class_weight=&#x27;balanced&#x27;,\n",
       "                                                feature_fraction=0.6437564293684458,\n",
       "                                                lambda_l1=0.0004979634231918787,\n",
       "                                                lambda_l2=8.888178821370811,\n",
       "                                                max_depth=29,\n",
       "                                                min_child_samples=115,\n",
       "                                                num_leaves=48),\n",
       "                       method=&#x27;isotonic&#x27;)</pre><b>In a Jupyter environment, please rerun this cell to show the HTML representation or trust the notebook. <br />On GitHub, the HTML representation is unable to render, please try loading this page with nbviewer.org.</b></div><div class=\"sk-container\" hidden><div class=\"sk-item sk-dashed-wrapped\"><div class=\"sk-label-container\"><div class=\"sk-label sk-toggleable\"><input class=\"sk-toggleable__control sk-hidden--visually\" id=\"sk-estimator-id-2\" type=\"checkbox\" ><label for=\"sk-estimator-id-2\" class=\"sk-toggleable__label sk-toggleable__label-arrow\">CalibratedClassifierCV</label><div class=\"sk-toggleable__content\"><pre>CalibratedClassifierCV(cv=StratifiedKFold(n_splits=5, random_state=None, shuffle=False),\n",
       "                       estimator=LGBMClassifier(bagging_fraction=0.8402914515480595,\n",
       "                                                bagging_freq=9,\n",
       "                                                class_weight=&#x27;balanced&#x27;,\n",
       "                                                feature_fraction=0.6437564293684458,\n",
       "                                                lambda_l1=0.0004979634231918787,\n",
       "                                                lambda_l2=8.888178821370811,\n",
       "                                                max_depth=29,\n",
       "                                                min_child_samples=115,\n",
       "                                                num_leaves=48),\n",
       "                       method=&#x27;isotonic&#x27;)</pre></div></div></div><div class=\"sk-parallel\"><div class=\"sk-parallel-item\"><div class=\"sk-item\"><div class=\"sk-label-container\"><div class=\"sk-label sk-toggleable\"><input class=\"sk-toggleable__control sk-hidden--visually\" id=\"sk-estimator-id-3\" type=\"checkbox\" ><label for=\"sk-estimator-id-3\" class=\"sk-toggleable__label sk-toggleable__label-arrow\">estimator: LGBMClassifier</label><div class=\"sk-toggleable__content\"><pre>LGBMClassifier(bagging_fraction=0.8402914515480595, bagging_freq=9,\n",
       "               class_weight=&#x27;balanced&#x27;, feature_fraction=0.6437564293684458,\n",
       "               lambda_l1=0.0004979634231918787, lambda_l2=8.888178821370811,\n",
       "               max_depth=29, min_child_samples=115, num_leaves=48)</pre></div></div></div><div class=\"sk-serial\"><div class=\"sk-item\"><div class=\"sk-estimator sk-toggleable\"><input class=\"sk-toggleable__control sk-hidden--visually\" id=\"sk-estimator-id-4\" type=\"checkbox\" ><label for=\"sk-estimator-id-4\" class=\"sk-toggleable__label sk-toggleable__label-arrow\">LGBMClassifier</label><div class=\"sk-toggleable__content\"><pre>LGBMClassifier(bagging_fraction=0.8402914515480595, bagging_freq=9,\n",
       "               class_weight=&#x27;balanced&#x27;, feature_fraction=0.6437564293684458,\n",
       "               lambda_l1=0.0004979634231918787, lambda_l2=8.888178821370811,\n",
       "               max_depth=29, min_child_samples=115, num_leaves=48)</pre></div></div></div></div></div></div></div></div></div></div>"
      ],
      "text/plain": [
       "CalibratedClassifierCV(cv=StratifiedKFold(n_splits=5, random_state=None, shuffle=False),\n",
       "                       estimator=LGBMClassifier(bagging_fraction=0.8402914515480595,\n",
       "                                                bagging_freq=9,\n",
       "                                                class_weight='balanced',\n",
       "                                                feature_fraction=0.6437564293684458,\n",
       "                                                lambda_l1=0.0004979634231918787,\n",
       "                                                lambda_l2=8.888178821370811,\n",
       "                                                max_depth=29,\n",
       "                                                min_child_samples=115,\n",
       "                                                num_leaves=48),\n",
       "                       method='isotonic')"
      ]
     },
     "execution_count": 10,
     "metadata": {},
     "output_type": "execute_result"
    }
   ],
   "source": [
    "lgb_isotonic.fit(X_train,y_train)"
   ]
  },
  {
   "cell_type": "code",
   "execution_count": 119,
   "id": "26d2d3fd-28c2-4c41-87a8-6f1c84ac363f",
   "metadata": {},
   "outputs": [],
   "source": [
    "submission_path = os.path.join(ROOT_DIR,\"data\",\"raw\",\"sampleEntry.csv\")\n",
    "TEST_PATH = os.path.join(ROOT_DIR,\"data\",\"processed\",\"processed_5_forth_exp_tuned.csv\")\n",
    "test_data = pd.read_csv(TEST_PATH)\n",
    "submission = pd.read_csv(submission_path)"
   ]
  },
  {
   "cell_type": "code",
   "execution_count": 121,
   "id": "48ca3692-e35d-4a43-b0f4-c5a6f59a6014",
   "metadata": {},
   "outputs": [],
   "source": [
    "pred = lgb_isotonic.predict_proba(test_data)\n",
    "submission['Probability'] = pred[:, 1]\n",
    "submission.to_csv('submission_weighted_class_calibrated.csv',index=False)"
   ]
  },
  {
   "cell_type": "code",
   "execution_count": 12,
   "id": "73fdaf28-a292-4627-a7ea-8655a7f8a1e7",
   "metadata": {},
   "outputs": [
    {
     "name": "stderr",
     "output_type": "stream",
     "text": [
      "/home/fakhri/pacmann_project/project_env/lib/python3.8/site-packages/sklearn/linear_model/_logistic.py:458: ConvergenceWarning: lbfgs failed to converge (status=1):\n",
      "STOP: TOTAL NO. of ITERATIONS REACHED LIMIT.\n",
      "\n",
      "Increase the number of iterations (max_iter) or scale the data as shown in:\n",
      "    https://scikit-learn.org/stable/modules/preprocessing.html\n",
      "Please also refer to the documentation for alternative solver options:\n",
      "    https://scikit-learn.org/stable/modules/linear_model.html#logistic-regression\n",
      "  n_iter_i = _check_optimize_result(\n"
     ]
    },
    {
     "name": "stdout",
     "output_type": "stream",
     "text": [
      "[LightGBM] [Warning] lambda_l1 is set=0.0004979634231918787, reg_alpha=0.0 will be ignored. Current value: lambda_l1=0.0004979634231918787\n",
      "[LightGBM] [Warning] feature_fraction is set=0.6437564293684458, colsample_bytree=1.0 will be ignored. Current value: feature_fraction=0.6437564293684458\n",
      "[LightGBM] [Warning] bagging_freq is set=9, subsample_freq=0 will be ignored. Current value: bagging_freq=9\n",
      "[LightGBM] [Warning] lambda_l2 is set=8.888178821370811, reg_lambda=0.0 will be ignored. Current value: lambda_l2=8.888178821370811\n",
      "[LightGBM] [Warning] bagging_fraction is set=0.8402914515480595, subsample=1.0 will be ignored. Current value: bagging_fraction=0.8402914515480595\n",
      "[LightGBM] [Warning] lambda_l1 is set=0.0004979634231918787, reg_alpha=0.0 will be ignored. Current value: lambda_l1=0.0004979634231918787\n",
      "[LightGBM] [Warning] feature_fraction is set=0.6437564293684458, colsample_bytree=1.0 will be ignored. Current value: feature_fraction=0.6437564293684458\n",
      "[LightGBM] [Warning] bagging_freq is set=9, subsample_freq=0 will be ignored. Current value: bagging_freq=9\n",
      "[LightGBM] [Warning] lambda_l2 is set=8.888178821370811, reg_lambda=0.0 will be ignored. Current value: lambda_l2=8.888178821370811\n",
      "[LightGBM] [Warning] bagging_fraction is set=0.8402914515480595, subsample=1.0 will be ignored. Current value: bagging_fraction=0.8402914515480595\n",
      "[LightGBM] [Warning] lambda_l1 is set=0.0004979634231918787, reg_alpha=0.0 will be ignored. Current value: lambda_l1=0.0004979634231918787\n",
      "[LightGBM] [Warning] feature_fraction is set=0.6437564293684458, colsample_bytree=1.0 will be ignored. Current value: feature_fraction=0.6437564293684458\n",
      "[LightGBM] [Warning] bagging_freq is set=9, subsample_freq=0 will be ignored. Current value: bagging_freq=9\n",
      "[LightGBM] [Warning] lambda_l2 is set=8.888178821370811, reg_lambda=0.0 will be ignored. Current value: lambda_l2=8.888178821370811\n",
      "[LightGBM] [Warning] bagging_fraction is set=0.8402914515480595, subsample=1.0 will be ignored. Current value: bagging_fraction=0.8402914515480595\n",
      "[LightGBM] [Warning] lambda_l1 is set=0.0004979634231918787, reg_alpha=0.0 will be ignored. Current value: lambda_l1=0.0004979634231918787\n",
      "[LightGBM] [Warning] feature_fraction is set=0.6437564293684458, colsample_bytree=1.0 will be ignored. Current value: feature_fraction=0.6437564293684458\n",
      "[LightGBM] [Warning] bagging_freq is set=9, subsample_freq=0 will be ignored. Current value: bagging_freq=9\n",
      "[LightGBM] [Warning] lambda_l2 is set=8.888178821370811, reg_lambda=0.0 will be ignored. Current value: lambda_l2=8.888178821370811\n",
      "[LightGBM] [Warning] bagging_fraction is set=0.8402914515480595, subsample=1.0 will be ignored. Current value: bagging_fraction=0.8402914515480595\n",
      "[LightGBM] [Warning] lambda_l1 is set=0.0004979634231918787, reg_alpha=0.0 will be ignored. Current value: lambda_l1=0.0004979634231918787\n",
      "[LightGBM] [Warning] feature_fraction is set=0.6437564293684458, colsample_bytree=1.0 will be ignored. Current value: feature_fraction=0.6437564293684458\n",
      "[LightGBM] [Warning] bagging_freq is set=9, subsample_freq=0 will be ignored. Current value: bagging_freq=9\n",
      "[LightGBM] [Warning] lambda_l2 is set=8.888178821370811, reg_lambda=0.0 will be ignored. Current value: lambda_l2=8.888178821370811\n",
      "[LightGBM] [Warning] bagging_fraction is set=0.8402914515480595, subsample=1.0 will be ignored. Current value: bagging_fraction=0.8402914515480595\n",
      "[LightGBM] [Warning] lambda_l1 is set=0.0004979634231918787, reg_alpha=0.0 will be ignored. Current value: lambda_l1=0.0004979634231918787\n",
      "[LightGBM] [Warning] feature_fraction is set=0.6437564293684458, colsample_bytree=1.0 will be ignored. Current value: feature_fraction=0.6437564293684458\n",
      "[LightGBM] [Warning] bagging_freq is set=9, subsample_freq=0 will be ignored. Current value: bagging_freq=9\n",
      "[LightGBM] [Warning] lambda_l2 is set=8.888178821370811, reg_lambda=0.0 will be ignored. Current value: lambda_l2=8.888178821370811\n",
      "[LightGBM] [Warning] bagging_fraction is set=0.8402914515480595, subsample=1.0 will be ignored. Current value: bagging_fraction=0.8402914515480595\n",
      "[LightGBM] [Warning] lambda_l1 is set=0.0004979634231918787, reg_alpha=0.0 will be ignored. Current value: lambda_l1=0.0004979634231918787\n",
      "[LightGBM] [Warning] feature_fraction is set=0.6437564293684458, colsample_bytree=1.0 will be ignored. Current value: feature_fraction=0.6437564293684458\n",
      "[LightGBM] [Warning] bagging_freq is set=9, subsample_freq=0 will be ignored. Current value: bagging_freq=9\n",
      "[LightGBM] [Warning] lambda_l2 is set=8.888178821370811, reg_lambda=0.0 will be ignored. Current value: lambda_l2=8.888178821370811\n",
      "[LightGBM] [Warning] bagging_fraction is set=0.8402914515480595, subsample=1.0 will be ignored. Current value: bagging_fraction=0.8402914515480595\n",
      "[LightGBM] [Warning] lambda_l1 is set=0.0004979634231918787, reg_alpha=0.0 will be ignored. Current value: lambda_l1=0.0004979634231918787\n",
      "[LightGBM] [Warning] feature_fraction is set=0.6437564293684458, colsample_bytree=1.0 will be ignored. Current value: feature_fraction=0.6437564293684458\n",
      "[LightGBM] [Warning] bagging_freq is set=9, subsample_freq=0 will be ignored. Current value: bagging_freq=9\n",
      "[LightGBM] [Warning] lambda_l2 is set=8.888178821370811, reg_lambda=0.0 will be ignored. Current value: lambda_l2=8.888178821370811\n",
      "[LightGBM] [Warning] bagging_fraction is set=0.8402914515480595, subsample=1.0 will be ignored. Current value: bagging_fraction=0.8402914515480595\n",
      "[LightGBM] [Warning] lambda_l1 is set=0.0004979634231918787, reg_alpha=0.0 will be ignored. Current value: lambda_l1=0.0004979634231918787\n",
      "[LightGBM] [Warning] feature_fraction is set=0.6437564293684458, colsample_bytree=1.0 will be ignored. Current value: feature_fraction=0.6437564293684458\n",
      "[LightGBM] [Warning] bagging_freq is set=9, subsample_freq=0 will be ignored. Current value: bagging_freq=9\n",
      "[LightGBM] [Warning] lambda_l2 is set=8.888178821370811, reg_lambda=0.0 will be ignored. Current value: lambda_l2=8.888178821370811\n",
      "[LightGBM] [Warning] bagging_fraction is set=0.8402914515480595, subsample=1.0 will be ignored. Current value: bagging_fraction=0.8402914515480595\n",
      "[LightGBM] [Warning] lambda_l1 is set=0.0004979634231918787, reg_alpha=0.0 will be ignored. Current value: lambda_l1=0.0004979634231918787\n",
      "[LightGBM] [Warning] feature_fraction is set=0.6437564293684458, colsample_bytree=1.0 will be ignored. Current value: feature_fraction=0.6437564293684458\n",
      "[LightGBM] [Warning] bagging_freq is set=9, subsample_freq=0 will be ignored. Current value: bagging_freq=9\n",
      "[LightGBM] [Warning] lambda_l2 is set=8.888178821370811, reg_lambda=0.0 will be ignored. Current value: lambda_l2=8.888178821370811\n",
      "[LightGBM] [Warning] bagging_fraction is set=0.8402914515480595, subsample=1.0 will be ignored. Current value: bagging_fraction=0.8402914515480595\n"
     ]
    },
    {
     "data": {
      "image/png": "[encoded data removed]",
      "text/plain": [
       "<Figure size 1000x1000 with 4 Axes>"
      ]
     },
     "metadata": {},
     "output_type": "display_data"
    }
   ],
   "source": [
    "from matplotlib.gridspec import GridSpec\n",
    "clf_list = [\n",
    "    (lr,'Log Regression'),\n",
    "    (lgb_isotonic, \"LGB + Isotonic\"),\n",
    "    (lgb_sigmoid, \"LGB + Sigmoid\"),\n",
    "]\n",
    "fig = plt.figure(figsize=(10, 10))\n",
    "gs = GridSpec(4, 2)\n",
    "colors = plt.cm.get_cmap(\"Dark2\")\n",
    "\n",
    "ax_calibration_curve = fig.add_subplot(gs[:2, :2])\n",
    "calibration_displays = {}\n",
    "for i, (clf, name) in enumerate(clf_list):\n",
    "    clf.fit(X_train, y_train)\n",
    "    display = CalibrationDisplay.from_estimator(\n",
    "        clf,\n",
    "        X_val,\n",
    "        y_val,\n",
    "        n_bins=10,\n",
    "        name=name,\n",
    "        ax=ax_calibration_curve,\n",
    "        color=colors(i),\n",
    "    )\n",
    "    calibration_displays[name] = display\n",
    "\n",
    "ax_calibration_curve.grid()\n",
    "ax_calibration_curve.set_title(\"Calibration plots (LightGBM)\")\n",
    "\n",
    "# Add histogram\n",
    "grid_positions = [(2, 0), (2, 1), (3, 0), (3, 1)]\n",
    "for i, (_, name) in enumerate(clf_list):\n",
    "\n",
    "    row, col = grid_positions[i]\n",
    "    ax = fig.add_subplot(gs[row, col])\n",
    "\n",
    "    ax.hist(\n",
    "        calibration_displays[name].y_prob,\n",
    "        range=(0, 1),\n",
    "        bins=10,\n",
    "        label=name,\n",
    "        color=colors(i),\n",
    "    )\n",
    "    ax.set(title=name, xlabel=\"Mean predicted probability\", ylabel=\"Count\")\n",
    "\n",
    "plt.tight_layout()\n",
    "plt.show()"
   ]
  },
  {
   "cell_type": "code",
   "execution_count": 154,
   "id": "769a82ca-2352-48bd-94a3-78f649a4991f",
   "metadata": {},
   "outputs": [
    {
     "data": {
      "image/png": "[encoded data removed]",
      "text/plain": [
       "<Figure size 640x480 with 1 Axes>"
      ]
     },
     "metadata": {},
     "output_type": "display_data"
    },
    {
     "data": {
      "text/plain": [
       "<Figure size 640x480 with 0 Axes>"
      ]
     },
     "metadata": {},
     "output_type": "display_data"
    }
   ],
   "source": [
    "from sklearn.metrics import RocCurveDisplay\n",
    "x = RocCurveDisplay.from_estimator(\n",
    "   lgb_isotonic, X_val, y_val)\n",
    "plt.plot([0, 1], [0, 1], \"k--\", label=\"ROC curve for chance level (AUC = 0.5)\")\n",
    "plt.show()\n",
    "plt.savefig(\"LGBM ROCurve.png\")"
   ]
  },
  {
   "cell_type": "code",
   "execution_count": 165,
   "id": "d0711171-aae9-4b68-9d14-22cb18776b5e",
   "metadata": {},
   "outputs": [],
   "source": [
    "y_pred = lgb_isotonic.predict(X_val)\n",
    "conf_metrics = metrics.confusion_matrix(y_val,y_pred)"
   ]
  },
  {
   "cell_type": "code",
   "execution_count": 170,
   "id": "3543dfdc-dcf1-46a8-84f1-a41fc2a5fa6c",
   "metadata": {},
   "outputs": [
    {
     "data": {
      "text/plain": [
       "0.9371333333333334"
      ]
     },
     "execution_count": 170,
     "metadata": {},
     "output_type": "execute_result"
    }
   ],
   "source": [
    "metrics.accuracy_score(y_val,y_pred)"
   ]
  },
  {
   "cell_type": "code",
   "execution_count": 175,
   "id": "d3f62d6b-7939-45e8-9fe9-61aed55506fd",
   "metadata": {},
   "outputs": [
    {
     "data": {
      "text/plain": [
       "['0', '1']"
      ]
     },
     "execution_count": 175,
     "metadata": {},
     "output_type": "execute_result"
    }
   ],
   "source": [
    "y"
   ]
  },
  {
   "cell_type": "code",
   "execution_count": 181,
   "id": "889785f1-284e-45db-90d0-7efd71cf735b",
   "metadata": {},
   "outputs": [
    {
     "data": {
      "text/plain": [
       "array([0.93316, 0.06684])"
      ]
     },
     "execution_count": 181,
     "metadata": {},
     "output_type": "execute_result"
    }
   ],
   "source": [
    "np.bincount(y)/np.bincount(y).sum()"
   ]
  },
  {
   "cell_type": "code",
   "execution_count": 172,
   "id": "0ab26e8b-083c-4fdd-a7f8-46584273ae2e",
   "metadata": {},
   "outputs": [
    {
     "data": {
      "text/plain": [
       "array([0.93363333, 0.06636667])"
      ]
     },
     "execution_count": 172,
     "metadata": {},
     "output_type": "execute_result"
    }
   ],
   "source": [
    "np.bincount(y_val)/np.bincount(y_val).sum()\n",
    "\n"
   ]
  },
  {
   "cell_type": "code",
   "execution_count": 166,
   "id": "b1bd3d7c-185f-4252-9bc6-fe6bd08b2ea1",
   "metadata": {},
   "outputs": [],
   "source": [
    "tn, fp, fn, tp =conf_metrics.ravel()"
   ]
  },
  {
   "cell_type": "code",
   "execution_count": 167,
   "id": "0a3d4415-b717-4925-b441-a3657e743a68",
   "metadata": {},
   "outputs": [],
   "source": [
    "sensitivity = tn / (tn+fp)"
   ]
  },
  {
   "cell_type": "code",
   "execution_count": 168,
   "id": "15c09af7-e590-476d-8b79-bd405b8ed822",
   "metadata": {},
   "outputs": [
    {
     "data": {
      "text/plain": [
       "0.00963975864900568"
      ]
     },
     "execution_count": 168,
     "metadata": {},
     "output_type": "execute_result"
    }
   ],
   "source": [
    "1-sensitivity"
   ]
  },
  {
   "cell_type": "code",
   "execution_count": 169,
   "id": "d65837c2-dbc2-4148-84ba-f1389cedc7e4",
   "metadata": {},
   "outputs": [
    {
     "data": {
      "text/plain": [
       "0.18834756403817177"
      ]
     },
     "execution_count": 169,
     "metadata": {},
     "output_type": "execute_result"
    }
   ],
   "source": [
    "tp / (tp+fn)"
   ]
  },
  {
   "cell_type": "code",
   "execution_count": 160,
   "id": "ebb16970-f506-446f-9d9b-52055d9cd810",
   "metadata": {},
   "outputs": [
    {
     "data": {
      "application/vnd.plotly.v1+json": {
       "config": {
        "plotlyServerURL": "https://plot.ly"
       },
       "data": [
        {
         "colorscale": [
          [
           0,
           "rgb(37, 125, 152)"
          ],
          [
           0.16666666666666666,
           "rgb(44, 152, 160)"
          ],
          [
           0.3333333333333333,
           "rgb(56, 178, 163)"
          ],
          [
           0.5,
           "rgb(76, 200, 163)"
          ],
          [
           0.6666666666666666,
           "rgb(103, 219, 165)"
          ],
          [
           0.8333333333333334,
           "rgb(137, 232, 172)"
          ],
          [
           1,
           "rgb(176, 242, 188)"
          ]
         ],
         "reversescale": false,
         "showscale": true,
         "type": "heatmap",
         "x": [
          "0",
          "1"
         ],
         "y": [
          "0",
          "1"
         ],
         "z": [
          [
           22787,
           5222
          ],
          [
           495,
           1496
          ]
         ]
        }
       ],
       "layout": {
        "annotations": [
         {
          "font": {
           "color": "#000000"
          },
          "showarrow": false,
          "text": "22787",
          "x": "0",
          "xref": "x",
          "y": "0",
          "yref": "y"
         },
         {
          "font": {
           "color": "#FFFFFF"
          },
          "showarrow": false,
          "text": "5222",
          "x": "1",
          "xref": "x",
          "y": "0",
          "yref": "y"
         },
         {
          "font": {
           "color": "#FFFFFF"
          },
          "showarrow": false,
          "text": "495",
          "x": "0",
          "xref": "x",
          "y": "1",
          "yref": "y"
         },
         {
          "font": {
           "color": "#FFFFFF"
          },
          "showarrow": false,
          "text": "1496",
          "x": "1",
          "xref": "x",
          "y": "1",
          "yref": "y"
         },
         {
          "font": {
           "color": "black",
           "size": 14
          },
          "showarrow": false,
          "text": "Predicted value",
          "x": 0.5,
          "xref": "paper",
          "y": -0.15,
          "yref": "paper"
         },
         {
          "font": {
           "color": "black",
           "size": 14
          },
          "showarrow": false,
          "text": "Real value",
          "textangle": -90,
          "x": -0.35,
          "xref": "paper",
          "y": 0.5,
          "yref": "paper"
         }
        ],
        "autosize": true,
        "margin": {
         "l": 200,
         "t": 50
        },
        "template": {
         "data": {
          "bar": [
           {
            "error_x": {
             "color": "#2a3f5f"
            },
            "error_y": {
             "color": "#2a3f5f"
            },
            "marker": {
             "line": {
              "color": "#E5ECF6",
              "width": 0.5
             },
             "pattern": {
              "fillmode": "overlay",
              "size": 10,
              "solidity": 0.2
             }
            },
            "type": "bar"
           }
          ],
          "barpolar": [
           {
            "marker": {
             "line": {
              "color": "#E5ECF6",
              "width": 0.5
             },
             "pattern": {
              "fillmode": "overlay",
              "size": 10,
              "solidity": 0.2
             }
            },
            "type": "barpolar"
           }
          ],
          "carpet": [
           {
            "aaxis": {
             "endlinecolor": "#2a3f5f",
             "gridcolor": "white",
             "linecolor": "white",
             "minorgridcolor": "white",
             "startlinecolor": "#2a3f5f"
            },
            "baxis": {
             "endlinecolor": "#2a3f5f",
             "gridcolor": "white",
             "linecolor": "white",
             "minorgridcolor": "white",
             "startlinecolor": "#2a3f5f"
            },
            "type": "carpet"
           }
          ],
          "choropleth": [
           {
            "colorbar": {
             "outlinewidth": 0,
             "ticks": ""
            },
            "type": "choropleth"
           }
          ],
          "contour": [
           {
            "colorbar": {
             "outlinewidth": 0,
             "ticks": ""
            },
            "colorscale": [
             [
              0,
              "#0d0887"
             ],
             [
              0.1111111111111111,
              "#46039f"
             ],
             [
              0.2222222222222222,
              "#7201a8"
             ],
             [
              0.3333333333333333,
              "#9c179e"
             ],
             [
              0.4444444444444444,
              "#bd3786"
             ],
             [
              0.5555555555555556,
              "#d8576b"
             ],
             [
              0.6666666666666666,
              "#ed7953"
             ],
             [
              0.7777777777777778,
              "#fb9f3a"
             ],
             [
              0.8888888888888888,
              "#fdca26"
             ],
             [
              1,
              "#f0f921"
             ]
            ],
            "type": "contour"
           }
          ],
          "contourcarpet": [
           {
            "colorbar": {
             "outlinewidth": 0,
             "ticks": ""
            },
            "type": "contourcarpet"
           }
          ],
          "heatmap": [
           {
            "colorbar": {
             "outlinewidth": 0,
             "ticks": ""
            },
            "colorscale": [
             [
              0,
              "#0d0887"
             ],
             [
              0.1111111111111111,
              "#46039f"
             ],
             [
              0.2222222222222222,
              "#7201a8"
             ],
             [
              0.3333333333333333,
              "#9c179e"
             ],
             [
              0.4444444444444444,
              "#bd3786"
             ],
             [
              0.5555555555555556,
              "#d8576b"
             ],
             [
              0.6666666666666666,
              "#ed7953"
             ],
             [
              0.7777777777777778,
              "#fb9f3a"
             ],
             [
              0.8888888888888888,
              "#fdca26"
             ],
             [
              1,
              "#f0f921"
             ]
            ],
            "type": "heatmap"
           }
          ],
          "heatmapgl": [
           {
            "colorbar": {
             "outlinewidth": 0,
             "ticks": ""
            },
            "colorscale": [
             [
              0,
              "#0d0887"
             ],
             [
              0.1111111111111111,
              "#46039f"
             ],
             [
              0.2222222222222222,
              "#7201a8"
             ],
             [
              0.3333333333333333,
              "#9c179e"
             ],
             [
              0.4444444444444444,
              "#bd3786"
             ],
             [
              0.5555555555555556,
              "#d8576b"
             ],
             [
              0.6666666666666666,
              "#ed7953"
             ],
             [
              0.7777777777777778,
              "#fb9f3a"
             ],
             [
              0.8888888888888888,
              "#fdca26"
             ],
             [
              1,
              "#f0f921"
             ]
            ],
            "type": "heatmapgl"
           }
          ],
          "histogram": [
           {
            "marker": {
             "pattern": {
              "fillmode": "overlay",
              "size": 10,
              "solidity": 0.2
             }
            },
            "type": "histogram"
           }
          ],
          "histogram2d": [
           {
            "colorbar": {
             "outlinewidth": 0,
             "ticks": ""
            },
            "colorscale": [
             [
              0,
              "#0d0887"
             ],
             [
              0.1111111111111111,
              "#46039f"
             ],
             [
              0.2222222222222222,
              "#7201a8"
             ],
             [
              0.3333333333333333,
              "#9c179e"
             ],
             [
              0.4444444444444444,
              "#bd3786"
             ],
             [
              0.5555555555555556,
              "#d8576b"
             ],
             [
              0.6666666666666666,
              "#ed7953"
             ],
             [
              0.7777777777777778,
              "#fb9f3a"
             ],
             [
              0.8888888888888888,
              "#fdca26"
             ],
             [
              1,
              "#f0f921"
             ]
            ],
            "type": "histogram2d"
           }
          ],
          "histogram2dcontour": [
           {
            "colorbar": {
             "outlinewidth": 0,
             "ticks": ""
            },
            "colorscale": [
             [
              0,
              "#0d0887"
             ],
             [
              0.1111111111111111,
              "#46039f"
             ],
             [
              0.2222222222222222,
              "#7201a8"
             ],
             [
              0.3333333333333333,
              "#9c179e"
             ],
             [
              0.4444444444444444,
              "#bd3786"
             ],
             [
              0.5555555555555556,
              "#d8576b"
             ],
             [
              0.6666666666666666,
              "#ed7953"
             ],
             [
              0.7777777777777778,
              "#fb9f3a"
             ],
             [
              0.8888888888888888,
              "#fdca26"
             ],
             [
              1,
              "#f0f921"
             ]
            ],
            "type": "histogram2dcontour"
           }
          ],
          "mesh3d": [
           {
            "colorbar": {
             "outlinewidth": 0,
             "ticks": ""
            },
            "type": "mesh3d"
           }
          ],
          "parcoords": [
           {
            "line": {
             "colorbar": {
              "outlinewidth": 0,
              "ticks": ""
             }
            },
            "type": "parcoords"
           }
          ],
          "pie": [
           {
            "automargin": true,
            "type": "pie"
           }
          ],
          "scatter": [
           {
            "fillpattern": {
             "fillmode": "overlay",
             "size": 10,
             "solidity": 0.2
            },
            "type": "scatter"
           }
          ],
          "scatter3d": [
           {
            "line": {
             "colorbar": {
              "outlinewidth": 0,
              "ticks": ""
             }
            },
            "marker": {
             "colorbar": {
              "outlinewidth": 0,
              "ticks": ""
             }
            },
            "type": "scatter3d"
           }
          ],
          "scattercarpet": [
           {
            "marker": {
             "colorbar": {
              "outlinewidth": 0,
              "ticks": ""
             }
            },
            "type": "scattercarpet"
           }
          ],
          "scattergeo": [
           {
            "marker": {
             "colorbar": {
              "outlinewidth": 0,
              "ticks": ""
             }
            },
            "type": "scattergeo"
           }
          ],
          "scattergl": [
           {
            "marker": {
             "colorbar": {
              "outlinewidth": 0,
              "ticks": ""
             }
            },
            "type": "scattergl"
           }
          ],
          "scattermapbox": [
           {
            "marker": {
             "colorbar": {
              "outlinewidth": 0,
              "ticks": ""
             }
            },
            "type": "scattermapbox"
           }
          ],
          "scatterpolar": [
           {
            "marker": {
             "colorbar": {
              "outlinewidth": 0,
              "ticks": ""
             }
            },
            "type": "scatterpolar"
           }
          ],
          "scatterpolargl": [
           {
            "marker": {
             "colorbar": {
              "outlinewidth": 0,
              "ticks": ""
             }
            },
            "type": "scatterpolargl"
           }
          ],
          "scatterternary": [
           {
            "marker": {
             "colorbar": {
              "outlinewidth": 0,
              "ticks": ""
             }
            },
            "type": "scatterternary"
           }
          ],
          "surface": [
           {
            "colorbar": {
             "outlinewidth": 0,
             "ticks": ""
            },
            "colorscale": [
             [
              0,
              "#0d0887"
             ],
             [
              0.1111111111111111,
              "#46039f"
             ],
             [
              0.2222222222222222,
              "#7201a8"
             ],
             [
              0.3333333333333333,
              "#9c179e"
             ],
             [
              0.4444444444444444,
              "#bd3786"
             ],
             [
              0.5555555555555556,
              "#d8576b"
             ],
             [
              0.6666666666666666,
              "#ed7953"
             ],
             [
              0.7777777777777778,
              "#fb9f3a"
             ],
             [
              0.8888888888888888,
              "#fdca26"
             ],
             [
              1,
              "#f0f921"
             ]
            ],
            "type": "surface"
           }
          ],
          "table": [
           {
            "cells": {
             "fill": {
              "color": "#EBF0F8"
             },
             "line": {
              "color": "white"
             }
            },
            "header": {
             "fill": {
              "color": "#C8D4E3"
             },
             "line": {
              "color": "white"
             }
            },
            "type": "table"
           }
          ]
         },
         "layout": {
          "annotationdefaults": {
           "arrowcolor": "#2a3f5f",
           "arrowhead": 0,
           "arrowwidth": 1
          },
          "autotypenumbers": "strict",
          "coloraxis": {
           "colorbar": {
            "outlinewidth": 0,
            "ticks": ""
           }
          },
          "colorscale": {
           "diverging": [
            [
             0,
             "#8e0152"
            ],
            [
             0.1,
             "#c51b7d"
            ],
            [
             0.2,
             "#de77ae"
            ],
            [
             0.3,
             "#f1b6da"
            ],
            [
             0.4,
             "#fde0ef"
            ],
            [
             0.5,
             "#f7f7f7"
            ],
            [
             0.6,
             "#e6f5d0"
            ],
            [
             0.7,
             "#b8e186"
            ],
            [
             0.8,
             "#7fbc41"
            ],
            [
             0.9,
             "#4d9221"
            ],
            [
             1,
             "#276419"
            ]
           ],
           "sequential": [
            [
             0,
             "#0d0887"
            ],
            [
             0.1111111111111111,
             "#46039f"
            ],
            [
             0.2222222222222222,
             "#7201a8"
            ],
            [
             0.3333333333333333,
             "#9c179e"
            ],
            [
             0.4444444444444444,
             "#bd3786"
            ],
            [
             0.5555555555555556,
             "#d8576b"
            ],
            [
             0.6666666666666666,
             "#ed7953"
            ],
            [
             0.7777777777777778,
             "#fb9f3a"
            ],
            [
             0.8888888888888888,
             "#fdca26"
            ],
            [
             1,
             "#f0f921"
            ]
           ],
           "sequentialminus": [
            [
             0,
             "#0d0887"
            ],
            [
             0.1111111111111111,
             "#46039f"
            ],
            [
             0.2222222222222222,
             "#7201a8"
            ],
            [
             0.3333333333333333,
             "#9c179e"
            ],
            [
             0.4444444444444444,
             "#bd3786"
            ],
            [
             0.5555555555555556,
             "#d8576b"
            ],
            [
             0.6666666666666666,
             "#ed7953"
            ],
            [
             0.7777777777777778,
             "#fb9f3a"
            ],
            [
             0.8888888888888888,
             "#fdca26"
            ],
            [
             1,
             "#f0f921"
            ]
           ]
          },
          "colorway": [
           "#636efa",
           "#EF553B",
           "#00cc96",
           "#ab63fa",
           "#FFA15A",
           "#19d3f3",
           "#FF6692",
           "#B6E880",
           "#FF97FF",
           "#FECB52"
          ],
          "font": {
           "color": "#2a3f5f"
          },
          "geo": {
           "bgcolor": "white",
           "lakecolor": "white",
           "landcolor": "#E5ECF6",
           "showlakes": true,
           "showland": true,
           "subunitcolor": "white"
          },
          "hoverlabel": {
           "align": "left"
          },
          "hovermode": "closest",
          "mapbox": {
           "style": "light"
          },
          "paper_bgcolor": "white",
          "plot_bgcolor": "#E5ECF6",
          "polar": {
           "angularaxis": {
            "gridcolor": "white",
            "linecolor": "white",
            "ticks": ""
           },
           "bgcolor": "#E5ECF6",
           "radialaxis": {
            "gridcolor": "white",
            "linecolor": "white",
            "ticks": ""
           }
          },
          "scene": {
           "xaxis": {
            "backgroundcolor": "#E5ECF6",
            "gridcolor": "white",
            "gridwidth": 2,
            "linecolor": "white",
            "showbackground": true,
            "ticks": "",
            "zerolinecolor": "white"
           },
           "yaxis": {
            "backgroundcolor": "#E5ECF6",
            "gridcolor": "white",
            "gridwidth": 2,
            "linecolor": "white",
            "showbackground": true,
            "ticks": "",
            "zerolinecolor": "white"
           },
           "zaxis": {
            "backgroundcolor": "#E5ECF6",
            "gridcolor": "white",
            "gridwidth": 2,
            "linecolor": "white",
            "showbackground": true,
            "ticks": "",
            "zerolinecolor": "white"
           }
          },
          "shapedefaults": {
           "line": {
            "color": "#2a3f5f"
           }
          },
          "ternary": {
           "aaxis": {
            "gridcolor": "white",
            "linecolor": "white",
            "ticks": ""
           },
           "baxis": {
            "gridcolor": "white",
            "linecolor": "white",
            "ticks": ""
           },
           "bgcolor": "#E5ECF6",
           "caxis": {
            "gridcolor": "white",
            "linecolor": "white",
            "ticks": ""
           }
          },
          "title": {
           "x": 0.05
          },
          "xaxis": {
           "automargin": true,
           "gridcolor": "white",
           "linecolor": "white",
           "ticks": "",
           "title": {
            "standoff": 15
           },
           "zerolinecolor": "white",
           "zerolinewidth": 2
          },
          "yaxis": {
           "automargin": true,
           "gridcolor": "white",
           "linecolor": "white",
           "ticks": "",
           "title": {
            "standoff": 15
           },
           "zerolinecolor": "white",
           "zerolinewidth": 2
          }
         }
        },
        "title": {
         "text": "<i><b>Confusion matrix</b></i>"
        },
        "xaxis": {
         "autorange": true,
         "dtick": 1,
         "gridcolor": "rgb(0, 0, 0)",
         "range": [
          -0.5,
          1.5
         ],
         "side": "top",
         "ticks": "",
         "type": "category"
        },
        "yaxis": {
         "autorange": true,
         "dtick": 1,
         "range": [
          -0.5,
          1.5
         ],
         "ticks": "",
         "ticksuffix": "  ",
         "type": "category"
        }
       }
      },
      "image/png": "[encoded data removed]",
      "text/html": [
       "<div>                            <div id=\"2225ce81-bdad-42e0-b132-36a66ff78e98\" class=\"plotly-graph-div\" style=\"height:525px; width:100%;\"></div>            <script type=\"text/javascript\">                require([\"plotly\"], function(Plotly) {                    window.PLOTLYENV=window.PLOTLYENV || {};                                    if (document.getElementById(\"2225ce81-bdad-42e0-b132-36a66ff78e98\")) {                    Plotly.newPlot(                        \"2225ce81-bdad-42e0-b132-36a66ff78e98\",                        [{\"colorscale\":[[0.0,\"rgb(37, 125, 152)\"],[0.16666666666666666,\"rgb(44, 152, 160)\"],[0.3333333333333333,\"rgb(56, 178, 163)\"],[0.5,\"rgb(76, 200, 163)\"],[0.6666666666666666,\"rgb(103, 219, 165)\"],[0.8333333333333334,\"rgb(137, 232, 172)\"],[1.0,\"rgb(176, 242, 188)\"]],\"reversescale\":false,\"showscale\":true,\"x\":[\"0\",\"1\"],\"y\":[\"0\",\"1\"],\"z\":[[22787,5222],[495,1496]],\"type\":\"heatmap\"}],                        {\"annotations\":[{\"font\":{\"color\":\"#000000\"},\"showarrow\":false,\"text\":\"22787\",\"x\":\"0\",\"xref\":\"x\",\"y\":\"0\",\"yref\":\"y\"},{\"font\":{\"color\":\"#FFFFFF\"},\"showarrow\":false,\"text\":\"5222\",\"x\":\"1\",\"xref\":\"x\",\"y\":\"0\",\"yref\":\"y\"},{\"font\":{\"color\":\"#FFFFFF\"},\"showarrow\":false,\"text\":\"495\",\"x\":\"0\",\"xref\":\"x\",\"y\":\"1\",\"yref\":\"y\"},{\"font\":{\"color\":\"#FFFFFF\"},\"showarrow\":false,\"text\":\"1496\",\"x\":\"1\",\"xref\":\"x\",\"y\":\"1\",\"yref\":\"y\"},{\"font\":{\"color\":\"black\",\"size\":14},\"showarrow\":false,\"text\":\"Predicted value\",\"x\":0.5,\"xref\":\"paper\",\"y\":-0.15,\"yref\":\"paper\"},{\"font\":{\"color\":\"black\",\"size\":14},\"showarrow\":false,\"text\":\"Real value\",\"textangle\":-90,\"x\":-0.35,\"xref\":\"paper\",\"y\":0.5,\"yref\":\"paper\"}],\"xaxis\":{\"dtick\":1,\"gridcolor\":\"rgb(0, 0, 0)\",\"side\":\"top\",\"ticks\":\"\"},\"yaxis\":{\"dtick\":1,\"ticks\":\"\",\"ticksuffix\":\"  \"},\"template\":{\"data\":{\"histogram2dcontour\":[{\"type\":\"histogram2dcontour\",\"colorbar\":{\"outlinewidth\":0,\"ticks\":\"\"},\"colorscale\":[[0.0,\"#0d0887\"],[0.1111111111111111,\"#46039f\"],[0.2222222222222222,\"#7201a8\"],[0.3333333333333333,\"#9c179e\"],[0.4444444444444444,\"#bd3786\"],[0.5555555555555556,\"#d8576b\"],[0.6666666666666666,\"#ed7953\"],[0.7777777777777778,\"#fb9f3a\"],[0.8888888888888888,\"#fdca26\"],[1.0,\"#f0f921\"]]}],\"choropleth\":[{\"type\":\"choropleth\",\"colorbar\":{\"outlinewidth\":0,\"ticks\":\"\"}}],\"histogram2d\":[{\"type\":\"histogram2d\",\"colorbar\":{\"outlinewidth\":0,\"ticks\":\"\"},\"colorscale\":[[0.0,\"#0d0887\"],[0.1111111111111111,\"#46039f\"],[0.2222222222222222,\"#7201a8\"],[0.3333333333333333,\"#9c179e\"],[0.4444444444444444,\"#bd3786\"],[0.5555555555555556,\"#d8576b\"],[0.6666666666666666,\"#ed7953\"],[0.7777777777777778,\"#fb9f3a\"],[0.8888888888888888,\"#fdca26\"],[1.0,\"#f0f921\"]]}],\"heatmap\":[{\"type\":\"heatmap\",\"colorbar\":{\"outlinewidth\":0,\"ticks\":\"\"},\"colorscale\":[[0.0,\"#0d0887\"],[0.1111111111111111,\"#46039f\"],[0.2222222222222222,\"#7201a8\"],[0.3333333333333333,\"#9c179e\"],[0.4444444444444444,\"#bd3786\"],[0.5555555555555556,\"#d8576b\"],[0.6666666666666666,\"#ed7953\"],[0.7777777777777778,\"#fb9f3a\"],[0.8888888888888888,\"#fdca26\"],[1.0,\"#f0f921\"]]}],\"heatmapgl\":[{\"type\":\"heatmapgl\",\"colorbar\":{\"outlinewidth\":0,\"ticks\":\"\"},\"colorscale\":[[0.0,\"#0d0887\"],[0.1111111111111111,\"#46039f\"],[0.2222222222222222,\"#7201a8\"],[0.3333333333333333,\"#9c179e\"],[0.4444444444444444,\"#bd3786\"],[0.5555555555555556,\"#d8576b\"],[0.6666666666666666,\"#ed7953\"],[0.7777777777777778,\"#fb9f3a\"],[0.8888888888888888,\"#fdca26\"],[1.0,\"#f0f921\"]]}],\"contourcarpet\":[{\"type\":\"contourcarpet\",\"colorbar\":{\"outlinewidth\":0,\"ticks\":\"\"}}],\"contour\":[{\"type\":\"contour\",\"colorbar\":{\"outlinewidth\":0,\"ticks\":\"\"},\"colorscale\":[[0.0,\"#0d0887\"],[0.1111111111111111,\"#46039f\"],[0.2222222222222222,\"#7201a8\"],[0.3333333333333333,\"#9c179e\"],[0.4444444444444444,\"#bd3786\"],[0.5555555555555556,\"#d8576b\"],[0.6666666666666666,\"#ed7953\"],[0.7777777777777778,\"#fb9f3a\"],[0.8888888888888888,\"#fdca26\"],[1.0,\"#f0f921\"]]}],\"surface\":[{\"type\":\"surface\",\"colorbar\":{\"outlinewidth\":0,\"ticks\":\"\"},\"colorscale\":[[0.0,\"#0d0887\"],[0.1111111111111111,\"#46039f\"],[0.2222222222222222,\"#7201a8\"],[0.3333333333333333,\"#9c179e\"],[0.4444444444444444,\"#bd3786\"],[0.5555555555555556,\"#d8576b\"],[0.6666666666666666,\"#ed7953\"],[0.7777777777777778,\"#fb9f3a\"],[0.8888888888888888,\"#fdca26\"],[1.0,\"#f0f921\"]]}],\"mesh3d\":[{\"type\":\"mesh3d\",\"colorbar\":{\"outlinewidth\":0,\"ticks\":\"\"}}],\"scatter\":[{\"fillpattern\":{\"fillmode\":\"overlay\",\"size\":10,\"solidity\":0.2},\"type\":\"scatter\"}],\"parcoords\":[{\"type\":\"parcoords\",\"line\":{\"colorbar\":{\"outlinewidth\":0,\"ticks\":\"\"}}}],\"scatterpolargl\":[{\"type\":\"scatterpolargl\",\"marker\":{\"colorbar\":{\"outlinewidth\":0,\"ticks\":\"\"}}}],\"bar\":[{\"error_x\":{\"color\":\"#2a3f5f\"},\"error_y\":{\"color\":\"#2a3f5f\"},\"marker\":{\"line\":{\"color\":\"#E5ECF6\",\"width\":0.5},\"pattern\":{\"fillmode\":\"overlay\",\"size\":10,\"solidity\":0.2}},\"type\":\"bar\"}],\"scattergeo\":[{\"type\":\"scattergeo\",\"marker\":{\"colorbar\":{\"outlinewidth\":0,\"ticks\":\"\"}}}],\"scatterpolar\":[{\"type\":\"scatterpolar\",\"marker\":{\"colorbar\":{\"outlinewidth\":0,\"ticks\":\"\"}}}],\"histogram\":[{\"marker\":{\"pattern\":{\"fillmode\":\"overlay\",\"size\":10,\"solidity\":0.2}},\"type\":\"histogram\"}],\"scattergl\":[{\"type\":\"scattergl\",\"marker\":{\"colorbar\":{\"outlinewidth\":0,\"ticks\":\"\"}}}],\"scatter3d\":[{\"type\":\"scatter3d\",\"line\":{\"colorbar\":{\"outlinewidth\":0,\"ticks\":\"\"}},\"marker\":{\"colorbar\":{\"outlinewidth\":0,\"ticks\":\"\"}}}],\"scattermapbox\":[{\"type\":\"scattermapbox\",\"marker\":{\"colorbar\":{\"outlinewidth\":0,\"ticks\":\"\"}}}],\"scatterternary\":[{\"type\":\"scatterternary\",\"marker\":{\"colorbar\":{\"outlinewidth\":0,\"ticks\":\"\"}}}],\"scattercarpet\":[{\"type\":\"scattercarpet\",\"marker\":{\"colorbar\":{\"outlinewidth\":0,\"ticks\":\"\"}}}],\"carpet\":[{\"aaxis\":{\"endlinecolor\":\"#2a3f5f\",\"gridcolor\":\"white\",\"linecolor\":\"white\",\"minorgridcolor\":\"white\",\"startlinecolor\":\"#2a3f5f\"},\"baxis\":{\"endlinecolor\":\"#2a3f5f\",\"gridcolor\":\"white\",\"linecolor\":\"white\",\"minorgridcolor\":\"white\",\"startlinecolor\":\"#2a3f5f\"},\"type\":\"carpet\"}],\"table\":[{\"cells\":{\"fill\":{\"color\":\"#EBF0F8\"},\"line\":{\"color\":\"white\"}},\"header\":{\"fill\":{\"color\":\"#C8D4E3\"},\"line\":{\"color\":\"white\"}},\"type\":\"table\"}],\"barpolar\":[{\"marker\":{\"line\":{\"color\":\"#E5ECF6\",\"width\":0.5},\"pattern\":{\"fillmode\":\"overlay\",\"size\":10,\"solidity\":0.2}},\"type\":\"barpolar\"}],\"pie\":[{\"automargin\":true,\"type\":\"pie\"}]},\"layout\":{\"autotypenumbers\":\"strict\",\"colorway\":[\"#636efa\",\"#EF553B\",\"#00cc96\",\"#ab63fa\",\"#FFA15A\",\"#19d3f3\",\"#FF6692\",\"#B6E880\",\"#FF97FF\",\"#FECB52\"],\"font\":{\"color\":\"#2a3f5f\"},\"hovermode\":\"closest\",\"hoverlabel\":{\"align\":\"left\"},\"paper_bgcolor\":\"white\",\"plot_bgcolor\":\"#E5ECF6\",\"polar\":{\"bgcolor\":\"#E5ECF6\",\"angularaxis\":{\"gridcolor\":\"white\",\"linecolor\":\"white\",\"ticks\":\"\"},\"radialaxis\":{\"gridcolor\":\"white\",\"linecolor\":\"white\",\"ticks\":\"\"}},\"ternary\":{\"bgcolor\":\"#E5ECF6\",\"aaxis\":{\"gridcolor\":\"white\",\"linecolor\":\"white\",\"ticks\":\"\"},\"baxis\":{\"gridcolor\":\"white\",\"linecolor\":\"white\",\"ticks\":\"\"},\"caxis\":{\"gridcolor\":\"white\",\"linecolor\":\"white\",\"ticks\":\"\"}},\"coloraxis\":{\"colorbar\":{\"outlinewidth\":0,\"ticks\":\"\"}},\"colorscale\":{\"sequential\":[[0.0,\"#0d0887\"],[0.1111111111111111,\"#46039f\"],[0.2222222222222222,\"#7201a8\"],[0.3333333333333333,\"#9c179e\"],[0.4444444444444444,\"#bd3786\"],[0.5555555555555556,\"#d8576b\"],[0.6666666666666666,\"#ed7953\"],[0.7777777777777778,\"#fb9f3a\"],[0.8888888888888888,\"#fdca26\"],[1.0,\"#f0f921\"]],\"sequentialminus\":[[0.0,\"#0d0887\"],[0.1111111111111111,\"#46039f\"],[0.2222222222222222,\"#7201a8\"],[0.3333333333333333,\"#9c179e\"],[0.4444444444444444,\"#bd3786\"],[0.5555555555555556,\"#d8576b\"],[0.6666666666666666,\"#ed7953\"],[0.7777777777777778,\"#fb9f3a\"],[0.8888888888888888,\"#fdca26\"],[1.0,\"#f0f921\"]],\"diverging\":[[0,\"#8e0152\"],[0.1,\"#c51b7d\"],[0.2,\"#de77ae\"],[0.3,\"#f1b6da\"],[0.4,\"#fde0ef\"],[0.5,\"#f7f7f7\"],[0.6,\"#e6f5d0\"],[0.7,\"#b8e186\"],[0.8,\"#7fbc41\"],[0.9,\"#4d9221\"],[1,\"#276419\"]]},\"xaxis\":{\"gridcolor\":\"white\",\"linecolor\":\"white\",\"ticks\":\"\",\"title\":{\"standoff\":15},\"zerolinecolor\":\"white\",\"automargin\":true,\"zerolinewidth\":2},\"yaxis\":{\"gridcolor\":\"white\",\"linecolor\":\"white\",\"ticks\":\"\",\"title\":{\"standoff\":15},\"zerolinecolor\":\"white\",\"automargin\":true,\"zerolinewidth\":2},\"scene\":{\"xaxis\":{\"backgroundcolor\":\"#E5ECF6\",\"gridcolor\":\"white\",\"linecolor\":\"white\",\"showbackground\":true,\"ticks\":\"\",\"zerolinecolor\":\"white\",\"gridwidth\":2},\"yaxis\":{\"backgroundcolor\":\"#E5ECF6\",\"gridcolor\":\"white\",\"linecolor\":\"white\",\"showbackground\":true,\"ticks\":\"\",\"zerolinecolor\":\"white\",\"gridwidth\":2},\"zaxis\":{\"backgroundcolor\":\"#E5ECF6\",\"gridcolor\":\"white\",\"linecolor\":\"white\",\"showbackground\":true,\"ticks\":\"\",\"zerolinecolor\":\"white\",\"gridwidth\":2}},\"shapedefaults\":{\"line\":{\"color\":\"#2a3f5f\"}},\"annotationdefaults\":{\"arrowcolor\":\"#2a3f5f\",\"arrowhead\":0,\"arrowwidth\":1},\"geo\":{\"bgcolor\":\"white\",\"landcolor\":\"#E5ECF6\",\"subunitcolor\":\"white\",\"showland\":true,\"showlakes\":true,\"lakecolor\":\"white\"},\"title\":{\"x\":0.05},\"mapbox\":{\"style\":\"light\"}}},\"title\":{\"text\":\"<i><b>Confusion matrix</b></i>\"},\"margin\":{\"t\":50,\"l\":200}},                        {\"responsive\": true}                    ).then(function(){\n",
       "                            \n",
       "var gd = document.getElementById('2225ce81-bdad-42e0-b132-36a66ff78e98');\n",
       "var x = new MutationObserver(function (mutations, observer) {{\n",
       "        var display = window.getComputedStyle(gd).display;\n",
       "        if (!display || display === 'none') {{\n",
       "            console.log([gd, 'removed!']);\n",
       "            Plotly.purge(gd);\n",
       "            observer.disconnect();\n",
       "        }}\n",
       "}});\n",
       "\n",
       "// Listen for the removal of the full notebook cells\n",
       "var notebookContainer = gd.closest('#notebook-container');\n",
       "if (notebookContainer) {{\n",
       "    x.observe(notebookContainer, {childList: true});\n",
       "}}\n",
       "\n",
       "// Listen for the clearing of the current output cell\n",
       "var outputEl = gd.closest('.output');\n",
       "if (outputEl) {{\n",
       "    x.observe(outputEl, {childList: true});\n",
       "}}\n",
       "\n",
       "                        })                };                });            </script>        </div>"
      ]
     },
     "metadata": {},
     "output_type": "display_data"
    }
   ],
   "source": [
    "import plotly.figure_factory as ff\n",
    "\n",
    "\n",
    "\n",
    "x = ['0','1']\n",
    "y =  ['0','1']\n",
    "\n",
    "# change each element of z to type string for annotations\n",
    "z_text = [[str(y) for y in x] for x in conf_metrics]\n",
    "\n",
    "# set up figure \n",
    "fig = ff.create_annotated_heatmap(conf_metrics, x=x, y=y, colorscale='tealgrn_r')\n",
    "\n",
    "# add title\n",
    "fig.update_layout(title_text='<i><b>Confusion matrix</b></i>',\n",
    "                  #xaxis = dict(title='x'),\n",
    "                  #yaxis = dict(title='x')\n",
    "                 )\n",
    "\n",
    "# add custom xaxis title\n",
    "fig.add_annotation(dict(font=dict(color=\"black\",size=14),\n",
    "                        x=0.5,\n",
    "                        y=-0.15,\n",
    "                        showarrow=False,\n",
    "                        text=\"Predicted value\",\n",
    "                        xref=\"paper\",\n",
    "                        yref=\"paper\"))\n",
    "\n",
    "# add custom yaxis title\n",
    "fig.add_annotation(dict(font=dict(color=\"black\",size=14),\n",
    "                        x=-0.35,\n",
    "                        y=0.5,\n",
    "                        showarrow=False,\n",
    "                        text=\"Real value\",\n",
    "                        textangle=-90,\n",
    "                        xref=\"paper\",\n",
    "                        yref=\"paper\"))\n",
    "\n",
    "# adjust margins to make room for yaxis title\n",
    "fig.update_layout(margin=dict(t=50, l=200))\n",
    "\n",
    "# add colorbar\n",
    "fig['data'][0]['showscale'] = True\n",
    "fig.show()"
   ]
  },
  {
   "cell_type": "code",
   "execution_count": null,
   "id": "ed07ba2e-998b-4215-ac19-ef60d35cfc28",
   "metadata": {},
   "outputs": [],
   "source": [
    "importance = permutation_importance(clf_model, X_val, y_val,\n",
    "                           n_repeats=30,\n",
    "                           random_state=0,\n",
    "                                   scoring='roc_auc')"
   ]
  },
  {
   "cell_type": "code",
   "execution_count": null,
   "id": "f589e770-98a4-49bf-9828-75d031917234",
   "metadata": {},
   "outputs": [],
   "source": [
    "importance_df = pd.DataFrame()\n",
    "features = []\n",
    "mean_importance = []\n",
    "std_importance= []"
   ]
  },
  {
   "cell_type": "code",
   "execution_count": null,
   "id": "46b32ae8-37e9-4670-a3f5-1785f3107855",
   "metadata": {},
   "outputs": [],
   "source": [
    "\n",
    "for i in importance['importances_mean'].argsort()[::-1]:\n",
    "    if importance['importances_mean'][i] - 2 * importance['importances_std'][i] > 0:\n",
    "        features.append(X.columns[i])\n",
    "        mean_importance.append(importance['importances_mean'][i])\n",
    "        std_importance.append(importance['importances_std'][i])\n",
    "        print(f\"{X.columns[i]}\"\n",
    "              f\"{importance['importances_mean'][i]:.3f}\"\n",
    "              f\" +/- {importance['importances_std'][i]:.3f}\")"
   ]
  },
  {
   "cell_type": "code",
   "execution_count": null,
   "id": "1c1e0ec4-99d7-4dbb-862e-d2bb7d065de0",
   "metadata": {},
   "outputs": [],
   "source": [
    "importance_df = pd.DataFrame(data={\"features\":features,\n",
    "                                   \"mean_importance\":mean_importance,\n",
    "                                  \"std_importance\":std_importance})"
   ]
  },
  {
   "cell_type": "code",
   "execution_count": null,
   "id": "66ad7f9f-7586-42eb-af99-8fa482c56ca1",
   "metadata": {},
   "outputs": [],
   "source": [
    "importance_df.style.highlight_max(color = 'green',subset='mean_importance')"
   ]
  },
  {
   "cell_type": "code",
   "execution_count": null,
   "id": "d4d2c719-40fa-4dfb-a315-1f1bf2dbf1fc",
   "metadata": {},
   "outputs": [],
   "source": [
    "import plotly.graph_objects as go\n",
    "        \n",
    "fig = go.Figure()\n",
    "for i in range(importance_df.shape[0]) : \n",
    "    fig.add_trace(go.Bar(\n",
    "        x=[importance_df.features[i]], y=[importance_df.mean_importance[i]],\n",
    "        error_y=dict(type='data', array=[importance_df.std_importance[i]])))\n",
    "fig.update_layout(title='Permutation Importance',height=500,paper_bgcolor='#ffffff')"
   ]
  },
  {
   "cell_type": "code",
   "execution_count": null,
   "id": "38db43ab-8297-48a0-9b00-81894af2ef7a",
   "metadata": {},
   "outputs": [],
   "source": [
    "fig.update_layout(title='Permutation Importance',height=500,paper_bgcolor='#ffffff')"
   ]
  },
  {
   "cell_type": "code",
   "execution_count": null,
   "id": "885356a2-3325-441d-a2f6-882f2a33eaf2",
   "metadata": {},
   "outputs": [],
   "source": [
    "import matplotlib.pyplot as plt \n",
    "x = lgb.plot_importance(booster=clf_model)\n",
    "plt.savefig('LGBM_Feature_Importance.png')"
   ]
  },
  {
   "cell_type": "code",
   "execution_count": null,
   "id": "84d889b9-08a5-4552-b982-82f17ae10c46",
   "metadata": {},
   "outputs": [],
   "source": []
  }
 ],
 "metadata": {
  "kernelspec": {
   "display_name": "Python 3 (ipykernel)",
   "language": "python",
   "name": "python3"
  },
  "language_info": {
   "codemirror_mode": {
    "name": "ipython",
    "version": 3
   },
   "file_extension": ".py",
   "mimetype": "text/x-python",
   "name": "python",
   "nbconvert_exporter": "python",
   "pygments_lexer": "ipython3",
   "version": "3.8.10"
  }
 },
 "nbformat": 4,
 "nbformat_minor": 5
}
