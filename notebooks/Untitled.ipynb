{
 "cells": [
  {
   "cell_type": "code",
   "execution_count": 215,
   "id": "96531412-a287-473a-97a8-3e79f3f91ef6",
   "metadata": {},
   "outputs": [],
   "source": [
    "import pandas as pd \n",
    "import numpy as np \n",
    "import plotly.express as px \n",
    "import seaborn as sns \n",
    "import matplotlib.pyplot as plt\n",
    "from plotly.subplots import make_subplots\n",
    "import plotly.graph_objects as go\n",
    "import plotly.figure_factory as ff\n",
    "import plotly.io as pio\n",
    "import kaleido\n",
    "import os\n",
    "from sklearn.preprocessing import StandardScaler,RobustScaler\n",
    "from sklearn.model_selection import train_test_split,StratifiedKFold\n",
    "BASE_PATH = '../data/raw'\n",
    "TRAINING_PATH = os.path.join(BASE_PATH,'cs-training.csv')\n",
    "TEST_PATH = os.path.join(BASE_PATH,'cs-test.csv')\n",
    "\n",
    "TARGET = 'SeriousDlqin2yrs'\n",
    "\n",
    "\n",
    "INTERIM_BASE_PATH = '../data/interim'\n",
    "TRAINING_INTERIM_PATH = os.path.join(INTERIM_BASE_PATH,'training_interim.csv')\n",
    "TEST_INTERIM_PATH = os.path.join(INTERIM_BASE_PATH,'test_interim.csv')"
   ]
  },
  {
   "cell_type": "code",
   "execution_count": 216,
   "id": "48fc44c7-b207-4c02-8422-8c2d8c476952",
   "metadata": {},
   "outputs": [],
   "source": [
    "data = pd.read_csv(TRAINING_PATH)"
   ]
  },
  {
   "cell_type": "code",
   "execution_count": 217,
   "id": "9ecbfa4d-efc5-4d41-9a45-58e269b596ee",
   "metadata": {},
   "outputs": [],
   "source": [
    "median_income = data[\"MonthlyIncome\"].median()\n",
    "\n",
    "number_of_dependents_mode = data[\"NumberOfDependents\"].mode()[0]\n",
    "data[\"MonthlyIncome\"] = data[\"MonthlyIncome\"].fillna(\n",
    "    median_income\n",
    ")\n",
    "data[\"NumberOfDependents\"] = data[\"NumberOfDependents\"].fillna(\n",
    "    number_of_dependents_mode\n",
    ")"
   ]
  },
  {
   "cell_type": "code",
   "execution_count": 208,
   "id": "5c0cc6d0-cb89-4f6f-875d-2f3930b2c5d0",
   "metadata": {},
   "outputs": [],
   "source": [
    "def outlier_treatment(data,col):\n",
    "    q1,q3 = np.percentile(data[col] ,[25,75])\n",
    "    iqr = q3-q1\n",
    "    lower_range = q1 - (1.5 * iqr)\n",
    "    upper_range = q3 + (1.5 * iqr)\n",
    "    lower_range,upper_range\n",
    "    data.drop(data[ (data[col] > upper_range) | (data[col] < lower_range) ].index , inplace=True)\n",
    "    return data"
   ]
  },
  {
   "cell_type": "code",
   "execution_count": 166,
   "id": "b54e65c7-75a0-4900-81b4-79177529336c",
   "metadata": {},
   "outputs": [],
   "source": [
    "#data = outlier_treatment(data,'MonthlyIncome')\n",
    "#data = outlier_treatment(data,'RevolvingUtilizationOfUnsecuredLines')\n",
    "#data = outlier_treatment(data,'DebtRatio')"
   ]
  },
  {
   "cell_type": "code",
   "execution_count": 209,
   "id": "145a8790-0d21-4074-b1d8-9728d44fb91f",
   "metadata": {},
   "outputs": [],
   "source": [
    "data = data[data['RevolvingUtilizationOfUnsecuredLines']<=1]\n",
    "data = data[data['DebtRatio']<=1]"
   ]
  },
  {
   "cell_type": "code",
   "execution_count": null,
   "id": "0dd9613d-2d03-4dc4-b9f9-d3b869376f44",
   "metadata": {},
   "outputs": [],
   "source": [
    "data['"
   ]
  },
  {
   "cell_type": "code",
   "execution_count": 198,
   "id": "f5108e2d-2e22-498a-bd89-bd03339359fb",
   "metadata": {},
   "outputs": [],
   "source": [
    "#log income \n",
    "scaler_income = RobustScaler()\n",
    "data.loc[:,'STDmonthly'] = scaler_income.fit_transform(data['MonthlyIncome'].to_numpy().reshape(-1,1))\n",
    "#data['LogDebtRatio'] = np.log1p(data['DebtRatio'])\n",
    "#data['LogRevolvingUtilizationOfUnsecuredLines'] = np.log1p(data['RevolvingUtilizationOfUnsecuredLines'])"
   ]
  },
  {
   "cell_type": "code",
   "execution_count": 199,
   "id": "14aa48e6-7185-4daf-b798-6029e7fdfa4e",
   "metadata": {},
   "outputs": [],
   "source": [
    "scaler_debt = RobustScaler()\n",
    "data.loc[:,'STDDebtRatio'] = scaler_debt.fit_transform(data['DebtRatio'].to_numpy().reshape(-1,1))"
   ]
  },
  {
   "cell_type": "code",
   "execution_count": 200,
   "id": "bc0c7343-a371-459b-b840-cb52e998042c",
   "metadata": {},
   "outputs": [],
   "source": [
    "scaler_revolving = RobustScaler()\n",
    "data.loc[:,'STDRevolving'] = scaler_revolving.fit_transform(data['RevolvingUtilizationOfUnsecuredLines'].to_numpy().reshape(-1,1))"
   ]
  },
  {
   "cell_type": "code",
   "execution_count": 188,
   "id": "8bd09f13-ef3a-4926-9114-2d53ffd98ddd",
   "metadata": {},
   "outputs": [
    {
     "data": {
      "text/html": [
       "<iframe\n",
       "    scrolling=\"no\"\n",
       "    width=\"100%\"\n",
       "    height=\"545px\"\n",
       "    src=\"iframe_figures/figure_188.html\"\n",
       "    frameborder=\"0\"\n",
       "    allowfullscreen\n",
       "></iframe>\n"
      ]
     },
     "metadata": {},
     "output_type": "display_data"
    }
   ],
   "source": [
    "hist_revolving_univariate = px.histogram(data_frame=data,x='RevolvingUtilizationOfUnsecuredLines',nbins=150,\n",
    "             log_y=False,orientation='v',opacity=0.5,marginal='box',template='ggplot2',\n",
    "             color=TARGET)\n",
    "hist_revolving_univariate.update_layout(title='Logged count of RevolvingUtilizationOfUnsecuredLines')\n",
    "pio.show(hist_revolving_univariate,validate=False,renderer='iframe')"
   ]
  },
  {
   "cell_type": "code",
   "execution_count": 173,
   "id": "17426315-17c8-48b0-8f62-3776affb063e",
   "metadata": {},
   "outputs": [
    {
     "data": {
      "text/html": [
       "<iframe\n",
       "    scrolling=\"no\"\n",
       "    width=\"100%\"\n",
       "    height=\"545px\"\n",
       "    src=\"iframe_figures/figure_173.html\"\n",
       "    frameborder=\"0\"\n",
       "    allowfullscreen\n",
       "></iframe>\n"
      ]
     },
     "metadata": {},
     "output_type": "display_data"
    }
   ],
   "source": [
    "hist_revolving_univariate = px.histogram(data_frame=data,x='MonthlyIncome',nbins=150,\n",
    "             log_y=False,orientation='v',opacity=0.5,marginal='box',template='ggplot2',\n",
    "             color=TARGET)\n",
    "hist_revolving_univariate.update_layout(title='Logged count of Income')\n",
    "pio.show(hist_revolving_univariate,validate=False,renderer='iframe')"
   ]
  },
  {
   "cell_type": "code",
   "execution_count": 174,
   "id": "a61ef125-2aa5-4bf4-b704-4238ecc1b73a",
   "metadata": {},
   "outputs": [
    {
     "data": {
      "text/html": [
       "<iframe\n",
       "    scrolling=\"no\"\n",
       "    width=\"100%\"\n",
       "    height=\"545px\"\n",
       "    src=\"iframe_figures/figure_174.html\"\n",
       "    frameborder=\"0\"\n",
       "    allowfullscreen\n",
       "></iframe>\n"
      ]
     },
     "metadata": {},
     "output_type": "display_data"
    }
   ],
   "source": [
    "hist_revolving_univariate = px.histogram(data_frame=data,x='DebtRatio',nbins=150,\n",
    "             log_y=False,orientation='v',opacity=0.5,marginal='box',template='ggplot2',\n",
    "             color=TARGET)\n",
    "hist_revolving_univariate.update_layout(title='Logged count of LogDebtRatio')\n",
    "pio.show(hist_revolving_univariate,validate=False,renderer='iframe')"
   ]
  },
  {
   "cell_type": "code",
   "execution_count": 218,
   "id": "bde20231-2890-4ec7-905e-fc2ad472d3db",
   "metadata": {},
   "outputs": [],
   "source": [
    "def log_debt_ratio(data, col=\"DebtRatio\"):\n",
    "    return np.log1p(data[\"DebtRatio\"])\n",
    "\n",
    "\n",
    "def log_income(data, col=\"MonthlyIncome\"):\n",
    "    return np.log1p(data[\"MonthlyIncome\"])\n",
    "\n",
    "\n",
    "def log_revolvingrate(data, col=\"RevolvingUtilizationOfUnsecuredLines\"):\n",
    "    return np.log1p(data[\"RevolvingUtilizationOfUnsecuredLines\"])\n",
    "data[\"LogDebtRatio\"] = data.pipe(log_debt_ratio, col=\"DebtRatio\")\n",
    "\n",
    "data[\"LogIncome\"] = data.pipe(log_income, col=\"MonthlyIncome\")\n",
    "\n",
    "data[\"LogRevolvingUtilizationOfUnsecuredLines\"] = data.pipe(\n",
    "    log_revolvingrate, col=\"RevolvingUtilizationOfUnsecuredLines\"\n",
    ")"
   ]
  },
  {
   "cell_type": "code",
   "execution_count": 219,
   "id": "459d3a1b-ab47-4d65-9a17-5d74fd90ec2d",
   "metadata": {},
   "outputs": [],
   "source": [
    "#data = data.drop(['MonthlyIncome','DebtRatio','RevolvingUtilizationOfUnsecuredLines'],axis=1)"
   ]
  },
  {
   "cell_type": "code",
   "execution_count": 220,
   "id": "1e8b24ec-ab7c-4501-b6b7-11033a357b4d",
   "metadata": {},
   "outputs": [],
   "source": [
    "from sklearn.linear_model import LogisticRegression\n",
    "from sklearn.utils.class_weight import compute_class_weight\n",
    "from sklearn import metrics"
   ]
  },
  {
   "cell_type": "code",
   "execution_count": 221,
   "id": "0061d470-9f03-4968-8af2-6ea44f94f53c",
   "metadata": {},
   "outputs": [
    {
     "data": {
      "text/plain": [
       "array([0.53581379, 7.48055057])"
      ]
     },
     "execution_count": 221,
     "metadata": {},
     "output_type": "execute_result"
    }
   ],
   "source": [
    "compute_class_weight(class_weight='balanced',classes=np.unique(data[TARGET]),y=data[TARGET])"
   ]
  },
  {
   "cell_type": "code",
   "execution_count": 222,
   "id": "f9268a81-0205-4472-b0e7-766814b43080",
   "metadata": {},
   "outputs": [],
   "source": [
    "#define cross validation \n",
    "\n",
    "fold = StratifiedKFold(5)\n",
    "def begin_cross_validation(X,Y,model,fold=fold) : \n",
    "    scoring_dict = {'auc':[]}\n",
    "    for train_idx,test_idx in fold.split(X,Y) : \n",
    "        train_x,val_x = X.iloc[train_idx],X.iloc[test_idx]\n",
    "        train_y,val_y = Y.iloc[train_idx],Y.iloc[test_idx]\n",
    "        #train model \n",
    "\n",
    "        model.fit(train_x,train_y)\n",
    "        y_pred = model.predict_proba(val_x)\n",
    "        #calculate metrics \n",
    "        scoring_dict[\"auc\"].append(metrics.roc_auc_score(val_y, y_pred[:, 1]))\n",
    "\n",
    "\n",
    "    #print the scoring \n",
    "    print(f'''Scoring: AUC :{np.mean(scoring_dict['auc'])}\n",
    "     ''')\n",
    "    return np.mean(scoring_dict['auc'])"
   ]
  },
  {
   "cell_type": "code",
   "execution_count": 223,
   "id": "91b0e3f6-c611-4aab-9876-fa6f9c761015",
   "metadata": {},
   "outputs": [],
   "source": [
    "\n",
    "#split into X and Y \n",
    "X = data.drop(TARGET,axis=1)\n",
    "y = data[TARGET]\n",
    "\n",
    "X_train,X_val,y_train,y_val = train_test_split(X,y,test_size=0.2)"
   ]
  },
  {
   "cell_type": "code",
   "execution_count": 226,
   "id": "97806a23-de19-46c8-aebe-4aef748c610e",
   "metadata": {},
   "outputs": [],
   "source": [
    "model_logistic = LogisticRegression(penalty='elasticnet',class_weight='balanced')"
   ]
  },
  {
   "cell_type": "code",
   "execution_count": 227,
   "id": "6b206cc8-d85c-4766-9eba-fcb9163ee4cb",
   "metadata": {},
   "outputs": [
    {
     "ename": "ValueError",
     "evalue": "Solver lbfgs supports only 'l2' or 'none' penalties, got elasticnet penalty.",
     "output_type": "error",
     "traceback": [
      "\u001b[0;31m---------------------------------------------------------------------------\u001b[0m",
      "\u001b[0;31mValueError\u001b[0m                                Traceback (most recent call last)",
      "Cell \u001b[0;32mIn[227], line 1\u001b[0m\n\u001b[0;32m----> 1\u001b[0m \u001b[43mbegin_cross_validation\u001b[49m\u001b[43m(\u001b[49m\u001b[43mX\u001b[49m\u001b[43m,\u001b[49m\u001b[43my\u001b[49m\u001b[43m,\u001b[49m\u001b[43mmodel_logistic\u001b[49m\u001b[43m)\u001b[49m\n",
      "Cell \u001b[0;32mIn[222], line 11\u001b[0m, in \u001b[0;36mbegin_cross_validation\u001b[0;34m(X, Y, model, fold)\u001b[0m\n\u001b[1;32m      8\u001b[0m train_y,val_y \u001b[38;5;241m=\u001b[39m Y\u001b[38;5;241m.\u001b[39miloc[train_idx],Y\u001b[38;5;241m.\u001b[39miloc[test_idx]\n\u001b[1;32m      9\u001b[0m \u001b[38;5;66;03m#train model \u001b[39;00m\n\u001b[0;32m---> 11\u001b[0m \u001b[43mmodel\u001b[49m\u001b[38;5;241;43m.\u001b[39;49m\u001b[43mfit\u001b[49m\u001b[43m(\u001b[49m\u001b[43mtrain_x\u001b[49m\u001b[43m,\u001b[49m\u001b[43mtrain_y\u001b[49m\u001b[43m)\u001b[49m\n\u001b[1;32m     12\u001b[0m y_pred \u001b[38;5;241m=\u001b[39m model\u001b[38;5;241m.\u001b[39mpredict_proba(val_x)\n\u001b[1;32m     13\u001b[0m \u001b[38;5;66;03m#calculate metrics \u001b[39;00m\n",
      "File \u001b[0;32m~/pacmann_project/project_env/lib/python3.8/site-packages/sklearn/linear_model/_logistic.py:1162\u001b[0m, in \u001b[0;36mLogisticRegression.fit\u001b[0;34m(self, X, y, sample_weight)\u001b[0m\n\u001b[1;32m   1131\u001b[0m \u001b[38;5;250m\u001b[39m\u001b[38;5;124;03m\"\"\"\u001b[39;00m\n\u001b[1;32m   1132\u001b[0m \u001b[38;5;124;03mFit the model according to the given training data.\u001b[39;00m\n\u001b[1;32m   1133\u001b[0m \n\u001b[0;32m   (...)\u001b[0m\n\u001b[1;32m   1157\u001b[0m \u001b[38;5;124;03mThe SAGA solver supports both float64 and float32 bit arrays.\u001b[39;00m\n\u001b[1;32m   1158\u001b[0m \u001b[38;5;124;03m\"\"\"\u001b[39;00m\n\u001b[1;32m   1160\u001b[0m \u001b[38;5;28mself\u001b[39m\u001b[38;5;241m.\u001b[39m_validate_params()\n\u001b[0;32m-> 1162\u001b[0m solver \u001b[38;5;241m=\u001b[39m \u001b[43m_check_solver\u001b[49m\u001b[43m(\u001b[49m\u001b[38;5;28;43mself\u001b[39;49m\u001b[38;5;241;43m.\u001b[39;49m\u001b[43msolver\u001b[49m\u001b[43m,\u001b[49m\u001b[43m \u001b[49m\u001b[38;5;28;43mself\u001b[39;49m\u001b[38;5;241;43m.\u001b[39;49m\u001b[43mpenalty\u001b[49m\u001b[43m,\u001b[49m\u001b[43m \u001b[49m\u001b[38;5;28;43mself\u001b[39;49m\u001b[38;5;241;43m.\u001b[39;49m\u001b[43mdual\u001b[49m\u001b[43m)\u001b[49m\n\u001b[1;32m   1164\u001b[0m \u001b[38;5;28;01mif\u001b[39;00m \u001b[38;5;28mself\u001b[39m\u001b[38;5;241m.\u001b[39mpenalty \u001b[38;5;241m!=\u001b[39m \u001b[38;5;124m\"\u001b[39m\u001b[38;5;124melasticnet\u001b[39m\u001b[38;5;124m\"\u001b[39m \u001b[38;5;129;01mand\u001b[39;00m \u001b[38;5;28mself\u001b[39m\u001b[38;5;241m.\u001b[39ml1_ratio \u001b[38;5;129;01mis\u001b[39;00m \u001b[38;5;129;01mnot\u001b[39;00m \u001b[38;5;28;01mNone\u001b[39;00m:\n\u001b[1;32m   1165\u001b[0m     warnings\u001b[38;5;241m.\u001b[39mwarn(\n\u001b[1;32m   1166\u001b[0m         \u001b[38;5;124m\"\u001b[39m\u001b[38;5;124ml1_ratio parameter is only used when penalty is \u001b[39m\u001b[38;5;124m\"\u001b[39m\n\u001b[1;32m   1167\u001b[0m         \u001b[38;5;124m\"\u001b[39m\u001b[38;5;124m'\u001b[39m\u001b[38;5;124melasticnet\u001b[39m\u001b[38;5;124m'\u001b[39m\u001b[38;5;124m. Got \u001b[39m\u001b[38;5;124m\"\u001b[39m\n\u001b[1;32m   1168\u001b[0m         \u001b[38;5;124m\"\u001b[39m\u001b[38;5;124m(penalty=\u001b[39m\u001b[38;5;132;01m{}\u001b[39;00m\u001b[38;5;124m)\u001b[39m\u001b[38;5;124m\"\u001b[39m\u001b[38;5;241m.\u001b[39mformat(\u001b[38;5;28mself\u001b[39m\u001b[38;5;241m.\u001b[39mpenalty)\n\u001b[1;32m   1169\u001b[0m     )\n",
      "File \u001b[0;32m~/pacmann_project/project_env/lib/python3.8/site-packages/sklearn/linear_model/_logistic.py:54\u001b[0m, in \u001b[0;36m_check_solver\u001b[0;34m(solver, penalty, dual)\u001b[0m\n\u001b[1;32m     50\u001b[0m \u001b[38;5;28;01mdef\u001b[39;00m \u001b[38;5;21m_check_solver\u001b[39m(solver, penalty, dual):\n\u001b[1;32m     51\u001b[0m \n\u001b[1;32m     52\u001b[0m     \u001b[38;5;66;03m# TODO(1.4): Remove \"none\" option\u001b[39;00m\n\u001b[1;32m     53\u001b[0m     \u001b[38;5;28;01mif\u001b[39;00m solver \u001b[38;5;129;01mnot\u001b[39;00m \u001b[38;5;129;01min\u001b[39;00m [\u001b[38;5;124m\"\u001b[39m\u001b[38;5;124mliblinear\u001b[39m\u001b[38;5;124m\"\u001b[39m, \u001b[38;5;124m\"\u001b[39m\u001b[38;5;124msaga\u001b[39m\u001b[38;5;124m\"\u001b[39m] \u001b[38;5;129;01mand\u001b[39;00m penalty \u001b[38;5;129;01mnot\u001b[39;00m \u001b[38;5;129;01min\u001b[39;00m (\u001b[38;5;124m\"\u001b[39m\u001b[38;5;124ml2\u001b[39m\u001b[38;5;124m\"\u001b[39m, \u001b[38;5;124m\"\u001b[39m\u001b[38;5;124mnone\u001b[39m\u001b[38;5;124m\"\u001b[39m, \u001b[38;5;28;01mNone\u001b[39;00m):\n\u001b[0;32m---> 54\u001b[0m         \u001b[38;5;28;01mraise\u001b[39;00m \u001b[38;5;167;01mValueError\u001b[39;00m(\n\u001b[1;32m     55\u001b[0m             \u001b[38;5;124m\"\u001b[39m\u001b[38;5;124mSolver \u001b[39m\u001b[38;5;132;01m%s\u001b[39;00m\u001b[38;5;124m supports only \u001b[39m\u001b[38;5;124m'\u001b[39m\u001b[38;5;124ml2\u001b[39m\u001b[38;5;124m'\u001b[39m\u001b[38;5;124m or \u001b[39m\u001b[38;5;124m'\u001b[39m\u001b[38;5;124mnone\u001b[39m\u001b[38;5;124m'\u001b[39m\u001b[38;5;124m penalties, got \u001b[39m\u001b[38;5;132;01m%s\u001b[39;00m\u001b[38;5;124m penalty.\u001b[39m\u001b[38;5;124m\"\u001b[39m\n\u001b[1;32m     56\u001b[0m             \u001b[38;5;241m%\u001b[39m (solver, penalty)\n\u001b[1;32m     57\u001b[0m         )\n\u001b[1;32m     58\u001b[0m     \u001b[38;5;28;01mif\u001b[39;00m solver \u001b[38;5;241m!=\u001b[39m \u001b[38;5;124m\"\u001b[39m\u001b[38;5;124mliblinear\u001b[39m\u001b[38;5;124m\"\u001b[39m \u001b[38;5;129;01mand\u001b[39;00m dual:\n\u001b[1;32m     59\u001b[0m         \u001b[38;5;28;01mraise\u001b[39;00m \u001b[38;5;167;01mValueError\u001b[39;00m(\n\u001b[1;32m     60\u001b[0m             \u001b[38;5;124m\"\u001b[39m\u001b[38;5;124mSolver \u001b[39m\u001b[38;5;132;01m%s\u001b[39;00m\u001b[38;5;124m supports only dual=False, got dual=\u001b[39m\u001b[38;5;132;01m%s\u001b[39;00m\u001b[38;5;124m\"\u001b[39m \u001b[38;5;241m%\u001b[39m (solver, dual)\n\u001b[1;32m     61\u001b[0m         )\n",
      "\u001b[0;31mValueError\u001b[0m: Solver lbfgs supports only 'l2' or 'none' penalties, got elasticnet penalty."
     ]
    }
   ],
   "source": [
    "begin_cross_validation(X,y,model_logistic)"
   ]
  },
  {
   "cell_type": "code",
   "execution_count": null,
   "id": "c9572d25-58e6-44c8-9365-c50ceea72029",
   "metadata": {},
   "outputs": [],
   "source": []
  }
 ],
 "metadata": {
  "kernelspec": {
   "display_name": "Python 3 (ipykernel)",
   "language": "python",
   "name": "python3"
  },
  "language_info": {
   "codemirror_mode": {
    "name": "ipython",
    "version": 3
   },
   "file_extension": ".py",
   "mimetype": "text/x-python",
   "name": "python",
   "nbconvert_exporter": "python",
   "pygments_lexer": "ipython3",
   "version": "3.8.10"
  }
 },
 "nbformat": 4,
 "nbformat_minor": 5
}
